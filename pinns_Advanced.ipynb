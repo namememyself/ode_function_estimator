{
  "nbformat": 4,
  "nbformat_minor": 0,
  "metadata": {
    "colab": {
      "provenance": [],
      "gpuType": "T4"
    },
    "kernelspec": {
      "name": "python3",
      "display_name": "Python 3"
    },
    "language_info": {
      "name": "python"
    },
    "accelerator": "GPU",
    "widgets": {
      "application/vnd.jupyter.widget-state+json": {
        "a7776343e646441d915d38fd68137842": {
          "model_module": "@jupyter-widgets/controls",
          "model_name": "HBoxModel",
          "model_module_version": "1.5.0",
          "state": {
            "_dom_classes": [],
            "_model_module": "@jupyter-widgets/controls",
            "_model_module_version": "1.5.0",
            "_model_name": "HBoxModel",
            "_view_count": null,
            "_view_module": "@jupyter-widgets/controls",
            "_view_module_version": "1.5.0",
            "_view_name": "HBoxView",
            "box_style": "",
            "children": [
              "IPY_MODEL_6fcebf7ed1504a4f90b2a5554ab2e5cf",
              "IPY_MODEL_c9e3d5a1c65e443abe9d8ae310983b47",
              "IPY_MODEL_550893b9d29946d6ba76f913a55f67e5"
            ],
            "layout": "IPY_MODEL_27db2186101446a3b460af595220d654"
          }
        },
        "6fcebf7ed1504a4f90b2a5554ab2e5cf": {
          "model_module": "@jupyter-widgets/controls",
          "model_name": "HTMLModel",
          "model_module_version": "1.5.0",
          "state": {
            "_dom_classes": [],
            "_model_module": "@jupyter-widgets/controls",
            "_model_module_version": "1.5.0",
            "_model_name": "HTMLModel",
            "_view_count": null,
            "_view_module": "@jupyter-widgets/controls",
            "_view_module_version": "1.5.0",
            "_view_name": "HTMLView",
            "description": "",
            "description_tooltip": null,
            "layout": "IPY_MODEL_c295e1c2516a4295a757cc46e25ec98f",
            "placeholder": "​",
            "style": "IPY_MODEL_2d21dfdfad21436bb78311458e5814ed",
            "value": "Best trial: 42. Best value: 0.00190645: 100%"
          }
        },
        "c9e3d5a1c65e443abe9d8ae310983b47": {
          "model_module": "@jupyter-widgets/controls",
          "model_name": "FloatProgressModel",
          "model_module_version": "1.5.0",
          "state": {
            "_dom_classes": [],
            "_model_module": "@jupyter-widgets/controls",
            "_model_module_version": "1.5.0",
            "_model_name": "FloatProgressModel",
            "_view_count": null,
            "_view_module": "@jupyter-widgets/controls",
            "_view_module_version": "1.5.0",
            "_view_name": "ProgressView",
            "bar_style": "success",
            "description": "",
            "description_tooltip": null,
            "layout": "IPY_MODEL_dfce82407c25467fac195f836cc73d95",
            "max": 50,
            "min": 0,
            "orientation": "horizontal",
            "style": "IPY_MODEL_793446fd06ff476796138b88fea616ea",
            "value": 50
          }
        },
        "550893b9d29946d6ba76f913a55f67e5": {
          "model_module": "@jupyter-widgets/controls",
          "model_name": "HTMLModel",
          "model_module_version": "1.5.0",
          "state": {
            "_dom_classes": [],
            "_model_module": "@jupyter-widgets/controls",
            "_model_module_version": "1.5.0",
            "_model_name": "HTMLModel",
            "_view_count": null,
            "_view_module": "@jupyter-widgets/controls",
            "_view_module_version": "1.5.0",
            "_view_name": "HTMLView",
            "description": "",
            "description_tooltip": null,
            "layout": "IPY_MODEL_ec46de218f044417ae1285bb8d33de58",
            "placeholder": "​",
            "style": "IPY_MODEL_6b584f301e274b24ae025db7a042a5d4",
            "value": " 50/50 [00:59&lt;00:00,  1.17s/it]"
          }
        },
        "27db2186101446a3b460af595220d654": {
          "model_module": "@jupyter-widgets/base",
          "model_name": "LayoutModel",
          "model_module_version": "1.2.0",
          "state": {
            "_model_module": "@jupyter-widgets/base",
            "_model_module_version": "1.2.0",
            "_model_name": "LayoutModel",
            "_view_count": null,
            "_view_module": "@jupyter-widgets/base",
            "_view_module_version": "1.2.0",
            "_view_name": "LayoutView",
            "align_content": null,
            "align_items": null,
            "align_self": null,
            "border": null,
            "bottom": null,
            "display": null,
            "flex": null,
            "flex_flow": null,
            "grid_area": null,
            "grid_auto_columns": null,
            "grid_auto_flow": null,
            "grid_auto_rows": null,
            "grid_column": null,
            "grid_gap": null,
            "grid_row": null,
            "grid_template_areas": null,
            "grid_template_columns": null,
            "grid_template_rows": null,
            "height": null,
            "justify_content": null,
            "justify_items": null,
            "left": null,
            "margin": null,
            "max_height": null,
            "max_width": null,
            "min_height": null,
            "min_width": null,
            "object_fit": null,
            "object_position": null,
            "order": null,
            "overflow": null,
            "overflow_x": null,
            "overflow_y": null,
            "padding": null,
            "right": null,
            "top": null,
            "visibility": null,
            "width": null
          }
        },
        "c295e1c2516a4295a757cc46e25ec98f": {
          "model_module": "@jupyter-widgets/base",
          "model_name": "LayoutModel",
          "model_module_version": "1.2.0",
          "state": {
            "_model_module": "@jupyter-widgets/base",
            "_model_module_version": "1.2.0",
            "_model_name": "LayoutModel",
            "_view_count": null,
            "_view_module": "@jupyter-widgets/base",
            "_view_module_version": "1.2.0",
            "_view_name": "LayoutView",
            "align_content": null,
            "align_items": null,
            "align_self": null,
            "border": null,
            "bottom": null,
            "display": null,
            "flex": null,
            "flex_flow": null,
            "grid_area": null,
            "grid_auto_columns": null,
            "grid_auto_flow": null,
            "grid_auto_rows": null,
            "grid_column": null,
            "grid_gap": null,
            "grid_row": null,
            "grid_template_areas": null,
            "grid_template_columns": null,
            "grid_template_rows": null,
            "height": null,
            "justify_content": null,
            "justify_items": null,
            "left": null,
            "margin": null,
            "max_height": null,
            "max_width": null,
            "min_height": null,
            "min_width": null,
            "object_fit": null,
            "object_position": null,
            "order": null,
            "overflow": null,
            "overflow_x": null,
            "overflow_y": null,
            "padding": null,
            "right": null,
            "top": null,
            "visibility": null,
            "width": null
          }
        },
        "2d21dfdfad21436bb78311458e5814ed": {
          "model_module": "@jupyter-widgets/controls",
          "model_name": "DescriptionStyleModel",
          "model_module_version": "1.5.0",
          "state": {
            "_model_module": "@jupyter-widgets/controls",
            "_model_module_version": "1.5.0",
            "_model_name": "DescriptionStyleModel",
            "_view_count": null,
            "_view_module": "@jupyter-widgets/base",
            "_view_module_version": "1.2.0",
            "_view_name": "StyleView",
            "description_width": ""
          }
        },
        "dfce82407c25467fac195f836cc73d95": {
          "model_module": "@jupyter-widgets/base",
          "model_name": "LayoutModel",
          "model_module_version": "1.2.0",
          "state": {
            "_model_module": "@jupyter-widgets/base",
            "_model_module_version": "1.2.0",
            "_model_name": "LayoutModel",
            "_view_count": null,
            "_view_module": "@jupyter-widgets/base",
            "_view_module_version": "1.2.0",
            "_view_name": "LayoutView",
            "align_content": null,
            "align_items": null,
            "align_self": null,
            "border": null,
            "bottom": null,
            "display": null,
            "flex": null,
            "flex_flow": null,
            "grid_area": null,
            "grid_auto_columns": null,
            "grid_auto_flow": null,
            "grid_auto_rows": null,
            "grid_column": null,
            "grid_gap": null,
            "grid_row": null,
            "grid_template_areas": null,
            "grid_template_columns": null,
            "grid_template_rows": null,
            "height": null,
            "justify_content": null,
            "justify_items": null,
            "left": null,
            "margin": null,
            "max_height": null,
            "max_width": null,
            "min_height": null,
            "min_width": null,
            "object_fit": null,
            "object_position": null,
            "order": null,
            "overflow": null,
            "overflow_x": null,
            "overflow_y": null,
            "padding": null,
            "right": null,
            "top": null,
            "visibility": null,
            "width": null
          }
        },
        "793446fd06ff476796138b88fea616ea": {
          "model_module": "@jupyter-widgets/controls",
          "model_name": "ProgressStyleModel",
          "model_module_version": "1.5.0",
          "state": {
            "_model_module": "@jupyter-widgets/controls",
            "_model_module_version": "1.5.0",
            "_model_name": "ProgressStyleModel",
            "_view_count": null,
            "_view_module": "@jupyter-widgets/base",
            "_view_module_version": "1.2.0",
            "_view_name": "StyleView",
            "bar_color": null,
            "description_width": ""
          }
        },
        "ec46de218f044417ae1285bb8d33de58": {
          "model_module": "@jupyter-widgets/base",
          "model_name": "LayoutModel",
          "model_module_version": "1.2.0",
          "state": {
            "_model_module": "@jupyter-widgets/base",
            "_model_module_version": "1.2.0",
            "_model_name": "LayoutModel",
            "_view_count": null,
            "_view_module": "@jupyter-widgets/base",
            "_view_module_version": "1.2.0",
            "_view_name": "LayoutView",
            "align_content": null,
            "align_items": null,
            "align_self": null,
            "border": null,
            "bottom": null,
            "display": null,
            "flex": null,
            "flex_flow": null,
            "grid_area": null,
            "grid_auto_columns": null,
            "grid_auto_flow": null,
            "grid_auto_rows": null,
            "grid_column": null,
            "grid_gap": null,
            "grid_row": null,
            "grid_template_areas": null,
            "grid_template_columns": null,
            "grid_template_rows": null,
            "height": null,
            "justify_content": null,
            "justify_items": null,
            "left": null,
            "margin": null,
            "max_height": null,
            "max_width": null,
            "min_height": null,
            "min_width": null,
            "object_fit": null,
            "object_position": null,
            "order": null,
            "overflow": null,
            "overflow_x": null,
            "overflow_y": null,
            "padding": null,
            "right": null,
            "top": null,
            "visibility": null,
            "width": null
          }
        },
        "6b584f301e274b24ae025db7a042a5d4": {
          "model_module": "@jupyter-widgets/controls",
          "model_name": "DescriptionStyleModel",
          "model_module_version": "1.5.0",
          "state": {
            "_model_module": "@jupyter-widgets/controls",
            "_model_module_version": "1.5.0",
            "_model_name": "DescriptionStyleModel",
            "_view_count": null,
            "_view_module": "@jupyter-widgets/base",
            "_view_module_version": "1.2.0",
            "_view_name": "StyleView",
            "description_width": ""
          }
        },
        "325611d0499745a686a2ab2536bcc3c4": {
          "model_module": "@jupyter-widgets/controls",
          "model_name": "HBoxModel",
          "model_module_version": "1.5.0",
          "state": {
            "_dom_classes": [],
            "_model_module": "@jupyter-widgets/controls",
            "_model_module_version": "1.5.0",
            "_model_name": "HBoxModel",
            "_view_count": null,
            "_view_module": "@jupyter-widgets/controls",
            "_view_module_version": "1.5.0",
            "_view_name": "HBoxView",
            "box_style": "",
            "children": [
              "IPY_MODEL_06054d60b38a4f649e9f7c8c362c480d",
              "IPY_MODEL_a942d04c16ab41ab83082be774229e4c",
              "IPY_MODEL_514ea9c622c941e4a4f959b2ba03c3f4"
            ],
            "layout": "IPY_MODEL_90822b73367745cfb0e06298e6d4943f"
          }
        },
        "06054d60b38a4f649e9f7c8c362c480d": {
          "model_module": "@jupyter-widgets/controls",
          "model_name": "HTMLModel",
          "model_module_version": "1.5.0",
          "state": {
            "_dom_classes": [],
            "_model_module": "@jupyter-widgets/controls",
            "_model_module_version": "1.5.0",
            "_model_name": "HTMLModel",
            "_view_count": null,
            "_view_module": "@jupyter-widgets/controls",
            "_view_module_version": "1.5.0",
            "_view_name": "HTMLView",
            "description": "",
            "description_tooltip": null,
            "layout": "IPY_MODEL_7a819caf05a449709e882527e5eb2ad2",
            "placeholder": "​",
            "style": "IPY_MODEL_035591fbd4d341909da662077fc34d60",
            "value": "Best trial: 20. Best value: 0.00227399: 100%"
          }
        },
        "a942d04c16ab41ab83082be774229e4c": {
          "model_module": "@jupyter-widgets/controls",
          "model_name": "FloatProgressModel",
          "model_module_version": "1.5.0",
          "state": {
            "_dom_classes": [],
            "_model_module": "@jupyter-widgets/controls",
            "_model_module_version": "1.5.0",
            "_model_name": "FloatProgressModel",
            "_view_count": null,
            "_view_module": "@jupyter-widgets/controls",
            "_view_module_version": "1.5.0",
            "_view_name": "ProgressView",
            "bar_style": "success",
            "description": "",
            "description_tooltip": null,
            "layout": "IPY_MODEL_28262e68c8524fb0b454607fce73f8d0",
            "max": 50,
            "min": 0,
            "orientation": "horizontal",
            "style": "IPY_MODEL_ad7fe0963531466db57c6d3890c56512",
            "value": 50
          }
        },
        "514ea9c622c941e4a4f959b2ba03c3f4": {
          "model_module": "@jupyter-widgets/controls",
          "model_name": "HTMLModel",
          "model_module_version": "1.5.0",
          "state": {
            "_dom_classes": [],
            "_model_module": "@jupyter-widgets/controls",
            "_model_module_version": "1.5.0",
            "_model_name": "HTMLModel",
            "_view_count": null,
            "_view_module": "@jupyter-widgets/controls",
            "_view_module_version": "1.5.0",
            "_view_name": "HTMLView",
            "description": "",
            "description_tooltip": null,
            "layout": "IPY_MODEL_e48a7f600910426eb53c957e916b19bd",
            "placeholder": "​",
            "style": "IPY_MODEL_2e7431c4c5fb4115a8e073ca40150892",
            "value": " 50/50 [01:02&lt;00:00,  1.19s/it]"
          }
        },
        "90822b73367745cfb0e06298e6d4943f": {
          "model_module": "@jupyter-widgets/base",
          "model_name": "LayoutModel",
          "model_module_version": "1.2.0",
          "state": {
            "_model_module": "@jupyter-widgets/base",
            "_model_module_version": "1.2.0",
            "_model_name": "LayoutModel",
            "_view_count": null,
            "_view_module": "@jupyter-widgets/base",
            "_view_module_version": "1.2.0",
            "_view_name": "LayoutView",
            "align_content": null,
            "align_items": null,
            "align_self": null,
            "border": null,
            "bottom": null,
            "display": null,
            "flex": null,
            "flex_flow": null,
            "grid_area": null,
            "grid_auto_columns": null,
            "grid_auto_flow": null,
            "grid_auto_rows": null,
            "grid_column": null,
            "grid_gap": null,
            "grid_row": null,
            "grid_template_areas": null,
            "grid_template_columns": null,
            "grid_template_rows": null,
            "height": null,
            "justify_content": null,
            "justify_items": null,
            "left": null,
            "margin": null,
            "max_height": null,
            "max_width": null,
            "min_height": null,
            "min_width": null,
            "object_fit": null,
            "object_position": null,
            "order": null,
            "overflow": null,
            "overflow_x": null,
            "overflow_y": null,
            "padding": null,
            "right": null,
            "top": null,
            "visibility": null,
            "width": null
          }
        },
        "7a819caf05a449709e882527e5eb2ad2": {
          "model_module": "@jupyter-widgets/base",
          "model_name": "LayoutModel",
          "model_module_version": "1.2.0",
          "state": {
            "_model_module": "@jupyter-widgets/base",
            "_model_module_version": "1.2.0",
            "_model_name": "LayoutModel",
            "_view_count": null,
            "_view_module": "@jupyter-widgets/base",
            "_view_module_version": "1.2.0",
            "_view_name": "LayoutView",
            "align_content": null,
            "align_items": null,
            "align_self": null,
            "border": null,
            "bottom": null,
            "display": null,
            "flex": null,
            "flex_flow": null,
            "grid_area": null,
            "grid_auto_columns": null,
            "grid_auto_flow": null,
            "grid_auto_rows": null,
            "grid_column": null,
            "grid_gap": null,
            "grid_row": null,
            "grid_template_areas": null,
            "grid_template_columns": null,
            "grid_template_rows": null,
            "height": null,
            "justify_content": null,
            "justify_items": null,
            "left": null,
            "margin": null,
            "max_height": null,
            "max_width": null,
            "min_height": null,
            "min_width": null,
            "object_fit": null,
            "object_position": null,
            "order": null,
            "overflow": null,
            "overflow_x": null,
            "overflow_y": null,
            "padding": null,
            "right": null,
            "top": null,
            "visibility": null,
            "width": null
          }
        },
        "035591fbd4d341909da662077fc34d60": {
          "model_module": "@jupyter-widgets/controls",
          "model_name": "DescriptionStyleModel",
          "model_module_version": "1.5.0",
          "state": {
            "_model_module": "@jupyter-widgets/controls",
            "_model_module_version": "1.5.0",
            "_model_name": "DescriptionStyleModel",
            "_view_count": null,
            "_view_module": "@jupyter-widgets/base",
            "_view_module_version": "1.2.0",
            "_view_name": "StyleView",
            "description_width": ""
          }
        },
        "28262e68c8524fb0b454607fce73f8d0": {
          "model_module": "@jupyter-widgets/base",
          "model_name": "LayoutModel",
          "model_module_version": "1.2.0",
          "state": {
            "_model_module": "@jupyter-widgets/base",
            "_model_module_version": "1.2.0",
            "_model_name": "LayoutModel",
            "_view_count": null,
            "_view_module": "@jupyter-widgets/base",
            "_view_module_version": "1.2.0",
            "_view_name": "LayoutView",
            "align_content": null,
            "align_items": null,
            "align_self": null,
            "border": null,
            "bottom": null,
            "display": null,
            "flex": null,
            "flex_flow": null,
            "grid_area": null,
            "grid_auto_columns": null,
            "grid_auto_flow": null,
            "grid_auto_rows": null,
            "grid_column": null,
            "grid_gap": null,
            "grid_row": null,
            "grid_template_areas": null,
            "grid_template_columns": null,
            "grid_template_rows": null,
            "height": null,
            "justify_content": null,
            "justify_items": null,
            "left": null,
            "margin": null,
            "max_height": null,
            "max_width": null,
            "min_height": null,
            "min_width": null,
            "object_fit": null,
            "object_position": null,
            "order": null,
            "overflow": null,
            "overflow_x": null,
            "overflow_y": null,
            "padding": null,
            "right": null,
            "top": null,
            "visibility": null,
            "width": null
          }
        },
        "ad7fe0963531466db57c6d3890c56512": {
          "model_module": "@jupyter-widgets/controls",
          "model_name": "ProgressStyleModel",
          "model_module_version": "1.5.0",
          "state": {
            "_model_module": "@jupyter-widgets/controls",
            "_model_module_version": "1.5.0",
            "_model_name": "ProgressStyleModel",
            "_view_count": null,
            "_view_module": "@jupyter-widgets/base",
            "_view_module_version": "1.2.0",
            "_view_name": "StyleView",
            "bar_color": null,
            "description_width": ""
          }
        },
        "e48a7f600910426eb53c957e916b19bd": {
          "model_module": "@jupyter-widgets/base",
          "model_name": "LayoutModel",
          "model_module_version": "1.2.0",
          "state": {
            "_model_module": "@jupyter-widgets/base",
            "_model_module_version": "1.2.0",
            "_model_name": "LayoutModel",
            "_view_count": null,
            "_view_module": "@jupyter-widgets/base",
            "_view_module_version": "1.2.0",
            "_view_name": "LayoutView",
            "align_content": null,
            "align_items": null,
            "align_self": null,
            "border": null,
            "bottom": null,
            "display": null,
            "flex": null,
            "flex_flow": null,
            "grid_area": null,
            "grid_auto_columns": null,
            "grid_auto_flow": null,
            "grid_auto_rows": null,
            "grid_column": null,
            "grid_gap": null,
            "grid_row": null,
            "grid_template_areas": null,
            "grid_template_columns": null,
            "grid_template_rows": null,
            "height": null,
            "justify_content": null,
            "justify_items": null,
            "left": null,
            "margin": null,
            "max_height": null,
            "max_width": null,
            "min_height": null,
            "min_width": null,
            "object_fit": null,
            "object_position": null,
            "order": null,
            "overflow": null,
            "overflow_x": null,
            "overflow_y": null,
            "padding": null,
            "right": null,
            "top": null,
            "visibility": null,
            "width": null
          }
        },
        "2e7431c4c5fb4115a8e073ca40150892": {
          "model_module": "@jupyter-widgets/controls",
          "model_name": "DescriptionStyleModel",
          "model_module_version": "1.5.0",
          "state": {
            "_model_module": "@jupyter-widgets/controls",
            "_model_module_version": "1.5.0",
            "_model_name": "DescriptionStyleModel",
            "_view_count": null,
            "_view_module": "@jupyter-widgets/base",
            "_view_module_version": "1.2.0",
            "_view_name": "StyleView",
            "description_width": ""
          }
        }
      }
    }
  },
  "cells": [
    {
      "cell_type": "code",
      "execution_count": null,
      "metadata": {
        "id": "FB1I0Op6T3bJ"
      },
      "outputs": [],
      "source": []
    },
    {
      "cell_type": "markdown",
      "source": [
        " Physics-Informed Neural Network (PINN) Framework with Custom ODE Input & Advanced Features\n",
        "\n",
        "This notebook demonstrates a flexible, professional-grade PINN pipeline:\n",
        "- User-defined differential equation (via Python lambda)\n",
        "- Arbitrary Dirichlet/Neumann boundary conditions\n",
        "- Adaptable PINN architecture & training configuration\n",
        "- Solution uncertainty quantification (ensemble PINNs)\n",
        "- Analytic regression fit for solution interpretability\n",
        "- High-quality visualizations\n",
        "\n",
        "### 1. Imports and Notebook Setup\n"
      ],
      "metadata": {
        "id": "wkpQIhxzT73g"
      }
    },
    {
      "cell_type": "code",
      "source": [
        "import torch\n",
        "import torch.nn as nn\n",
        "import numpy as np\n",
        "import matplotlib.pyplot as plt\n",
        "from scipy.optimize import curve_fit\n",
        "import random\n",
        "from typing import Callable, Dict, List, Tuple\n"
      ],
      "metadata": {
        "id": "xh88hVNCT-mv"
      },
      "execution_count": 1,
      "outputs": []
    },
    {
      "cell_type": "markdown",
      "source": [
        "### 2. PINN Model Definition\n"
      ],
      "metadata": {
        "id": "yQHQvN0dUHc9"
      }
    },
    {
      "cell_type": "code",
      "source": [
        "class PINN(nn.Module):\n",
        "    def __init__(self, layers, activation=nn.Tanh):\n",
        "        super(PINN, self).__init__()\n",
        "        self.layers = nn.ModuleList()\n",
        "        for i in range(len(layers)-1):\n",
        "            self.layers.append(nn.Linear(layers[i], layers[i+1]))\n",
        "        self.activation = activation()\n",
        "        self._init_weights()\n",
        "\n",
        "    def forward(self, x):\n",
        "        for i in range(len(self.layers)-1):\n",
        "            x = self.activation(self.layers[i](x))\n",
        "        return self.layers[-1](x)\n",
        "\n",
        "    def _init_weights(self):\n",
        "        for layer in self.layers:\n",
        "            nn.init.xavier_normal_(layer.weight)\n",
        "            nn.init.zeros_(layer.bias)\n"
      ],
      "metadata": {
        "id": "dh1GTHBlUF_z"
      },
      "execution_count": 2,
      "outputs": []
    },
    {
      "cell_type": "markdown",
      "source": [
        "### 3. Physics Loss & Flexible Boundary Condition Handling\n",
        "\n"
      ],
      "metadata": {
        "id": "qE6LeSGHUMrV"
      }
    },
    {
      "cell_type": "code",
      "source": [
        "def physics_loss(model, x, ode_func: Callable):\n",
        "    x.requires_grad = True\n",
        "    y = model(x)\n",
        "    dy_dx = torch.autograd.grad(y, x, grad_outputs=torch.ones_like(y), create_graph=True)[0]\n",
        "    # ODE must take (x, y, dy_dx) and output the residual\n",
        "    pde = ode_func(x, y, dy_dx)\n",
        "    return torch.mean(pde**2)\n",
        "\n",
        "def boundary_loss(model, bc_points: Dict[str, List[Tuple[torch.Tensor, float]]]):\n",
        "    loss = 0.\n",
        "    for x0, y0 in bc_points.get('dirichlet', []):\n",
        "        pred = model(x0)\n",
        "        loss += (pred - y0)**2\n",
        "    for x0, dydx0 in bc_points.get('neumann', []):\n",
        "        x0.requires_grad = True\n",
        "        pred = model(x0)\n",
        "        dydx = torch.autograd.grad(pred, x0, grad_outputs=torch.ones_like(pred), create_graph=True)[0]\n",
        "        loss += (dydx - dydx0)**2\n",
        "    return loss\n"
      ],
      "metadata": {
        "id": "CE-rtWxwUPOX"
      },
      "execution_count": 3,
      "outputs": []
    },
    {
      "cell_type": "markdown",
      "source": [
        "### 4. Training Loop for PINN (Single & Ensemble for Uncertainty)\n",
        "\n"
      ],
      "metadata": {
        "id": "R3UOsQ7CURR0"
      }
    },
    {
      "cell_type": "code",
      "source": [
        "def train_pinn(\n",
        "    model, optimizer, epochs, x_f_train, bc_points, ode_func, verbose=False, loss_weights=(1.0, 1.0)\n",
        "):\n",
        "    for epoch in range(epochs):\n",
        "        optimizer.zero_grad()\n",
        "        loss_pde = physics_loss(model, x_f_train, ode_func)\n",
        "        loss_bc = boundary_loss(model, bc_points)\n",
        "        loss = loss_weights[0] * loss_pde + loss_weights[1] * loss_bc\n",
        "        loss.backward()\n",
        "        optimizer.step()\n",
        "        if verbose and epoch % 500 == 0:\n",
        "            print(f\"Epoch {epoch}: Loss = {loss.item():.6f}, PDE Loss = {loss_pde.item():.6f}, BC Loss = {loss_bc.item():.6f}\")\n",
        "\n",
        "def ensemble_predict(\n",
        "    n_ensembles, pinn_args, x_f_train, bc_points, ode_func, x_eval, epochs=2000\n",
        "):\n",
        "    preds = []\n",
        "    for i in range(n_ensembles):\n",
        "        torch.manual_seed(i)\n",
        "        np.random.seed(i)\n",
        "        random.seed(i)\n",
        "        model = PINN(**pinn_args)\n",
        "        optimizer = torch.optim.Adam(model.parameters(), lr=1e-3)\n",
        "        train_pinn(model, optimizer, epochs, x_f_train, bc_points, ode_func, verbose=False)\n",
        "        pred = model(torch.tensor(x_eval, dtype=torch.float32)).detach().numpy().squeeze()\n",
        "        preds.append(pred)\n",
        "    return np.mean(preds, axis=0), np.std(preds, axis=0)"
      ],
      "metadata": {
        "id": "-570mxeCUT7c"
      },
      "execution_count": 8,
      "outputs": []
    },
    {
      "cell_type": "markdown",
      "source": [
        "### 5. Analytic Fit (Mixed Polynomial + Trigonometric + Exponential)\n"
      ],
      "metadata": {
        "id": "nhidmSZQUZ4J"
      }
    },
    {
      "cell_type": "code",
      "source": [
        "def analytic_fit_func(x, a, b, c, d, e, f):\n",
        "    return a*np.exp(b*x) + c*np.sin(d*x) + e*x**2 + f\n",
        "\n",
        "def perform_analytic_fit(x, y):\n",
        "    initial_guess = [1.0, -0.5, 1.0, 1.0, 0.1, 0.0]\n",
        "    bounds = ([-10, -5, -10, -10, -10, -10], [10, 5, 10, 10, 10, 10])\n",
        "    params, _ = curve_fit(analytic_fit_func, x.flatten(), y, p0=initial_guess, bounds=bounds, maxfev=20000)\n",
        "    return params\n"
      ],
      "metadata": {
        "id": "6kCCHM0yUb00"
      },
      "execution_count": 9,
      "outputs": []
    },
    {
      "cell_type": "markdown",
      "source": [
        "### 6. ODE and Boundary Condition Input (User Defined)\n"
      ],
      "metadata": {
        "id": "jhScddUOUgdL"
      }
    },
    {
      "cell_type": "code",
      "source": [
        "\n",
        "def example_ode(x, y, dy_dx):\n",
        "    # x, y, dy_dx are torch tensors\n",
        "    return dy_dx - (x**3 + 2*x + (x**2 * ((1+3*x**2) / (1 + x + x**3))) - ((x + (1+3*(x**2)) / (1 + x + x**3)) * y))\n",
        "\n"
      ],
      "metadata": {
        "id": "O-ZmZAdpUeP2"
      },
      "execution_count": 10,
      "outputs": []
    },
    {
      "cell_type": "markdown",
      "source": [
        "### 7. Main Script: Training, Prediction, Plotting, Uncertainty, Analytic Fit\n"
      ],
      "metadata": {
        "id": "QvHlozqAUnI3"
      }
    },
    {
      "cell_type": "code",
      "source": [
        "# Network, domain, and training settings\n",
        "layers = [1, 50, 50, 50, 1]\n",
        "x_domain = (0, 2)\n",
        "N_f = 50\n",
        "epochs = 3000\n",
        "\n",
        "# Choose ODE function here (user can edit/replace with their own)\n",
        "ode_func = example_ode\n",
        "\n",
        "# Boundary/initial conditions definition (customizable, add Neumann if desired)\n",
        "bc_points = {\n",
        "    'dirichlet': [\n",
        "        (torch.tensor([[0.0]]), torch.tensor([[1.0]])),  # y(0) = 1.0\n",
        "    ],\n",
        "    # 'neumann': [\n",
        "    #     (torch.tensor([[2.0]], requires_grad=True), torch.tensor([[0.0]])), # dy/dx(2) = 0, example\n",
        "    # ]\n",
        "}\n",
        "\n",
        "# Collocation points\n",
        "x_f_train = torch.linspace(*x_domain, N_f).view(-1, 1)\n",
        "\n",
        "# Train ensemble of PINNs for uncertainty estimation\n",
        "n_ensembles = 5\n",
        "pinn_args = {'layers': layers, 'activation': nn.Tanh}\n",
        "x_eval = np.linspace(*x_domain, 200).reshape(-1, 1)\n",
        "mean_pred, std_pred = ensemble_predict(\n",
        "    n_ensembles, pinn_args, x_f_train, bc_points, ode_func, x_eval, epochs=epochs\n",
        ")\n",
        "\n",
        "# Analytic fit\n",
        "params = perform_analytic_fit(x_eval.flatten(), mean_pred)\n",
        "analytic_curve = analytic_fit_func(x_eval.flatten(), *params)\n"
      ],
      "metadata": {
        "id": "Q3JycR3RUltk"
      },
      "execution_count": 11,
      "outputs": []
    },
    {
      "cell_type": "markdown",
      "source": [
        "### 8. Visualization: PINN Mean, Analytic Fit, Uncertainty Bands\n"
      ],
      "metadata": {
        "id": "ClBr2zR7UpiY"
      }
    },
    {
      "cell_type": "code",
      "source": [
        "plt.figure(figsize=(10,6))\n",
        "plt.plot(x_eval, mean_pred, 'r-', label='PINN Ensemble Mean')\n",
        "plt.fill_between(x_eval.flatten(), mean_pred-std_pred, mean_pred+std_pred, alpha=0.18, color='r', label='PINN Uncertainty')\n",
        "plt.plot(x_eval, analytic_curve, 'g--', label='Analytic Fit')\n",
        "plt.xlabel(\"x\")\n",
        "plt.ylabel(\"y\")\n",
        "plt.title(\"PINN Solution, Analytic Fit, and Uncertainty\")\n",
        "plt.legend()\n",
        "plt.show()\n",
        "\n",
        "print(\"Analytic Fit Parameters:\", params)\n",
        "print(f\"y ≈ {params[0]:.4f} * exp({params[1]:.4f} * x) + {params[2]:.4f} * sin({params[3]:.4f} * x) + {params[4]:.4f} * x^2 + {params[5]:.4f}\")"
      ],
      "metadata": {
        "colab": {
          "base_uri": "https://localhost:8080/",
          "height": 599
        },
        "id": "dmOYJ343UrKp",
        "outputId": "72d3a41f-cc39-48d7-b07e-8448be92b372"
      },
      "execution_count": 13,
      "outputs": [
        {
          "output_type": "display_data",
          "data": {
            "text/plain": [
              "<Figure size 1000x600 with 1 Axes>"
            ],
            "image/png": "[encoded data removed]"
          },
          "metadata": {}
        },
        {
          "output_type": "stream",
          "name": "stdout",
          "text": [
            "Analytic Fit Parameters: [ 9.99999975 -0.1997563   2.70788986  0.29553064  1.19665461 -8.96741718]\n",
            "y ≈ 10.0000 * exp(-0.1998 * x) + 2.7079 * sin(0.2955 * x) + 1.1967 * x^2 + -8.9674\n"
          ]
        }
      ]
    },
    {
      "cell_type": "code",
      "source": [],
      "metadata": {
        "id": "cmeR4DXmUs_0"
      },
      "execution_count": null,
      "outputs": []
    },
    {
      "cell_type": "markdown",
      "metadata": {
        "id": "a04503ec"
      },
      "source": [
        "# Task\n",
        "Implement hyperparameter autotuning using Optuna and explore the integration of attention/transformers into the provided PINN code."
      ]
    },
    {
      "cell_type": "markdown",
      "metadata": {
        "id": "d70e8fd9"
      },
      "source": [
        "## Implement hyperparameter autotuning with optuna\n",
        "\n",
        "### Subtask:\n",
        "Define an objective function for Optuna that trains a PINN model with a given set of hyperparameters and returns a metric to minimize (e.g., the total loss after training).\n"
      ]
    },
    {
      "cell_type": "markdown",
      "metadata": {
        "id": "7f0c60d4"
      },
      "source": [
        "**Reasoning**:\n",
        "Define the objective function for Optuna including hyperparameter sampling, model training, and loss calculation.\n",
        "\n"
      ]
    },
    {
      "cell_type": "code",
      "metadata": {
        "colab": {
          "base_uri": "https://localhost:8080/",
          "height": 383
        },
        "collapsed": true,
        "id": "c6facf6a",
        "outputId": "d20aa16e-2847-4e1c-bbfd-3372396b288a"
      },
      "source": [
        "import optuna\n",
        "\n",
        "def objective(trial):\n",
        "    # Define hyperparameters to tune\n",
        "    lr = trial.suggest_float('lr', 1e-4, 1e-2, log=True)\n",
        "    n_layers = trial.suggest_int('n_layers', 2, 5)\n",
        "    n_neurons = trial.suggest_int('n_neurons', 20, 100)\n",
        "    activation_name = trial.suggest_categorical('activation', ['Tanh', 'ReLU'])\n",
        "    loss_weight_physics = trial.suggest_float('loss_weight_physics', 0.1, 10.0)\n",
        "    loss_weight_bc = trial.suggest_float('loss_weight_bc', 0.1, 10.0)\n",
        "\n",
        "    # Map activation name to torch activation function\n",
        "    activation = nn.Tanh if activation_name == 'Tanh' else nn.ReLU\n",
        "\n",
        "    # Create layers list based on sampled hyperparameters\n",
        "    layers = [1] + [n_neurons] * n_layers + [1]\n",
        "\n",
        "    # Instantiate model and optimizer\n",
        "    model = PINN(layers=layers, activation=activation)\n",
        "    optimizer = torch.optim.Adam(model.parameters(), lr=lr)\n",
        "\n",
        "    # Training data (reusing existing)\n",
        "    x_domain = (0, 2)\n",
        "    N_f = 50\n",
        "    x_f_train = torch.linspace(*x_domain, N_f).view(-1, 1)\n",
        "    bc_points = {\n",
        "        'dirichlet': [\n",
        "            (torch.tensor([[0.0]]), torch.tensor([[1.0]])),  # y(0) = 1.0\n",
        "        ],\n",
        "    }\n",
        "\n",
        "    # Train the model (using fewer epochs for tuning)\n",
        "    tuning_epochs = 500 # Reduced epochs for faster tuning\n",
        "    train_pinn(model, optimizer, tuning_epochs, x_f_train, bc_points, example_ode, verbose=False, loss_weights=(loss_weight_physics, loss_weight_bc))\n",
        "\n",
        "    # Calculate the final loss as the metric to minimize\n",
        "    loss_pde = physics_loss(model, x_f_train, example_ode)\n",
        "    loss_bc = boundary_loss(model, bc_points)\n",
        "    total_loss = loss_weight_physics * loss_pde + loss_weight_bc * loss_bc\n",
        "\n",
        "    return total_loss.item()"
      ],
      "execution_count": 14,
      "outputs": [
        {
          "output_type": "error",
          "ename": "ModuleNotFoundError",
          "evalue": "No module named 'optuna'",
          "traceback": [
            "\u001b[0;31m---------------------------------------------------------------------------\u001b[0m",
            "\u001b[0;31mModuleNotFoundError\u001b[0m                       Traceback (most recent call last)",
            "\u001b[0;32m/tmp/ipython-input-1685631832.py\u001b[0m in \u001b[0;36m<cell line: 0>\u001b[0;34m()\u001b[0m\n\u001b[0;32m----> 1\u001b[0;31m \u001b[0;32mimport\u001b[0m \u001b[0moptuna\u001b[0m\u001b[0;34m\u001b[0m\u001b[0;34m\u001b[0m\u001b[0m\n\u001b[0m\u001b[1;32m      2\u001b[0m \u001b[0;34m\u001b[0m\u001b[0m\n\u001b[1;32m      3\u001b[0m \u001b[0;32mdef\u001b[0m \u001b[0mobjective\u001b[0m\u001b[0;34m(\u001b[0m\u001b[0mtrial\u001b[0m\u001b[0;34m)\u001b[0m\u001b[0;34m:\u001b[0m\u001b[0;34m\u001b[0m\u001b[0;34m\u001b[0m\u001b[0m\n\u001b[1;32m      4\u001b[0m     \u001b[0;31m# Define hyperparameters to tune\u001b[0m\u001b[0;34m\u001b[0m\u001b[0;34m\u001b[0m\u001b[0m\n\u001b[1;32m      5\u001b[0m     \u001b[0mlr\u001b[0m \u001b[0;34m=\u001b[0m \u001b[0mtrial\u001b[0m\u001b[0;34m.\u001b[0m\u001b[0msuggest_float\u001b[0m\u001b[0;34m(\u001b[0m\u001b[0;34m'lr'\u001b[0m\u001b[0;34m,\u001b[0m \u001b[0;36m1e-4\u001b[0m\u001b[0;34m,\u001b[0m \u001b[0;36m1e-2\u001b[0m\u001b[0;34m,\u001b[0m \u001b[0mlog\u001b[0m\u001b[0;34m=\u001b[0m\u001b[0;32mTrue\u001b[0m\u001b[0;34m)\u001b[0m\u001b[0;34m\u001b[0m\u001b[0;34m\u001b[0m\u001b[0m\n",
            "\u001b[0;31mModuleNotFoundError\u001b[0m: No module named 'optuna'",
            "",
            "\u001b[0;31m---------------------------------------------------------------------------\u001b[0;32m\nNOTE: If your import is failing due to a missing package, you can\nmanually install dependencies using either !pip or !apt.\n\nTo view examples of installing some common dependencies, click the\n\"Open Examples\" button below.\n\u001b[0;31m---------------------------------------------------------------------------\u001b[0m\n"
          ],
          "errorDetails": {
            "actions": [
              {
                "action": "open_url",
                "actionText": "Open Examples",
                "url": "/notebooks/snippets/importing_libraries.ipynb"
              }
            ]
          }
        }
      ]
    },
    {
      "cell_type": "code",
      "metadata": {
        "colab": {
          "base_uri": "https://localhost:8080/"
        },
        "id": "dNDhWK7BV0Gl",
        "outputId": "7bafde58-5ddb-4460-e272-a7ea957c691c"
      },
      "source": [
        "%pip install optuna"
      ],
      "execution_count": 15,
      "outputs": [
        {
          "output_type": "stream",
          "name": "stdout",
          "text": [
            "Collecting optuna\n",
            "  Downloading optuna-4.4.0-py3-none-any.whl.metadata (17 kB)\n",
            "Collecting alembic>=1.5.0 (from optuna)\n",
            "  Downloading alembic-1.16.4-py3-none-any.whl.metadata (7.3 kB)\n",
            "Collecting colorlog (from optuna)\n",
            "  Downloading colorlog-6.9.0-py3-none-any.whl.metadata (10 kB)\n",
            "Requirement already satisfied: numpy in /usr/local/lib/python3.11/dist-packages (from optuna) (2.0.2)\n",
            "Requirement already satisfied: packaging>=20.0 in /usr/local/lib/python3.11/dist-packages (from optuna) (25.0)\n",
            "Requirement already satisfied: sqlalchemy>=1.4.2 in /usr/local/lib/python3.11/dist-packages (from optuna) (2.0.42)\n",
            "Requirement already satisfied: tqdm in /usr/local/lib/python3.11/dist-packages (from optuna) (4.67.1)\n",
            "Requirement already satisfied: PyYAML in /usr/local/lib/python3.11/dist-packages (from optuna) (6.0.2)\n",
            "Requirement already satisfied: Mako in /usr/lib/python3/dist-packages (from alembic>=1.5.0->optuna) (1.1.3)\n",
            "Requirement already satisfied: typing-extensions>=4.12 in /usr/local/lib/python3.11/dist-packages (from alembic>=1.5.0->optuna) (4.14.1)\n",
            "Requirement already satisfied: greenlet>=1 in /usr/local/lib/python3.11/dist-packages (from sqlalchemy>=1.4.2->optuna) (3.2.3)\n",
            "Downloading optuna-4.4.0-py3-none-any.whl (395 kB)\n",
            "\u001b[2K   \u001b[90m━━━━━━━━━━━━━━━━━━━━━━━━━━━━━━━━━━━━━━━━\u001b[0m \u001b[32m395.9/395.9 kB\u001b[0m \u001b[31m1.5 MB/s\u001b[0m eta \u001b[36m0:00:00\u001b[0m\n",
            "\u001b[?25hDownloading alembic-1.16.4-py3-none-any.whl (247 kB)\n",
            "\u001b[2K   \u001b[90m━━━━━━━━━━━━━━━━━━━━━━━━━━━━━━━━━━━━━━━━\u001b[0m \u001b[32m247.0/247.0 kB\u001b[0m \u001b[31m8.1 MB/s\u001b[0m eta \u001b[36m0:00:00\u001b[0m\n",
            "\u001b[?25hDownloading colorlog-6.9.0-py3-none-any.whl (11 kB)\n",
            "Installing collected packages: colorlog, alembic, optuna\n",
            "Successfully installed alembic-1.16.4 colorlog-6.9.0 optuna-4.4.0\n"
          ]
        }
      ]
    },
    {
      "cell_type": "code",
      "metadata": {
        "id": "1834e058"
      },
      "source": [
        "def objective(trial):\n",
        "    # Define hyperparameters to tune\n",
        "    lr = trial.suggest_float('lr', 1e-4, 1e-2, log=True)\n",
        "    n_layers = trial.suggest_int('n_layers', 2, 5)\n",
        "    n_neurons = trial.suggest_int('n_neurons', 20, 100)\n",
        "    activation_name = trial.suggest_categorical('activation', ['Tanh', 'ReLU'])\n",
        "    loss_weight_physics = trial.suggest_float('loss_weight_physics', 0.1, 10.0)\n",
        "    loss_weight_bc = trial.suggest_float('loss_weight_bc', 0.1, 10.0)\n",
        "\n",
        "    # Map activation name to torch activation function\n",
        "    activation = nn.Tanh if activation_name == 'Tanh' else nn.ReLU\n",
        "\n",
        "    # Create layers list based on sampled hyperparameters\n",
        "    layers = [1] + [n_neurons] * n_layers + [1]\n",
        "\n",
        "    # Instantiate model and optimizer\n",
        "    model = PINN(layers=layers, activation=activation)\n",
        "    optimizer = torch.optim.Adam(model.parameters(), lr=lr)\n",
        "\n",
        "    # Training data (reusing existing)\n",
        "    x_domain = (0, 2)\n",
        "    N_f = 50\n",
        "    x_f_train = torch.linspace(*x_domain, N_f).view(-1, 1)\n",
        "    bc_points = {\n",
        "        'dirichlet': [\n",
        "            (torch.tensor([[0.0]]), torch.tensor([[1.0]])),  # y(0) = 1.0\n",
        "        ],\n",
        "    }\n",
        "\n",
        "    # Train the model (using fewer epochs for tuning)\n",
        "    tuning_epochs = 500 # Reduced epochs for faster tuning\n",
        "    train_pinn(model, optimizer, tuning_epochs, x_f_train, bc_points, example_ode, verbose=False, loss_weights=(loss_weight_physics, loss_weight_bc))\n",
        "\n",
        "    # Calculate the final loss as the metric to minimize\n",
        "    loss_pde = physics_loss(model, x_f_train, example_ode)\n",
        "    loss_bc = boundary_loss(model, bc_points)\n",
        "    total_loss = loss_weight_physics * loss_pde + loss_weight_bc * loss_bc\n",
        "\n",
        "    return total_loss.item()"
      ],
      "execution_count": 16,
      "outputs": []
    },
    {
      "cell_type": "markdown",
      "metadata": {
        "id": "8f9faeb9"
      },
      "source": [
        "## Implement hyperparameter autotuning with optuna\n",
        "\n",
        "### Subtask:\n",
        "Define the search space for hyperparameters (e.g., learning rate, number of layers, number of neurons per layer, activation function, loss weights).\n"
      ]
    },
    {
      "cell_type": "markdown",
      "metadata": {
        "id": "cb0ee488"
      },
      "source": [
        "**Reasoning**:\n",
        "Create an Optuna study and run the optimization process to find the best hyperparameters for the PINN model.\n",
        "\n"
      ]
    },
    {
      "cell_type": "code",
      "metadata": {
        "colab": {
          "base_uri": "https://localhost:8080/"
        },
        "collapsed": true,
        "id": "3f07857e",
        "outputId": "8f1cb395-7635-4ff1-e48f-791cb5b0c722"
      },
      "source": [
        "import optuna\n",
        "\n",
        "study = optuna.create_study(direction=\"minimize\")\n",
        "study.optimize(objective, n_trials=50)\n",
        "\n",
        "print(\"Best hyperparameters: \", study.best_params)\n",
        "print(\"Best value (minimum loss): \", study.best_value)"
      ],
      "execution_count": 17,
      "outputs": [
        {
          "output_type": "stream",
          "name": "stderr",
          "text": [
            "[I 2025-08-13 12:11:34,976] A new study created in memory with name: no-name-aab06b48-180b-4e19-9711-5523e693e525\n",
            "[I 2025-08-13 12:11:37,411] Trial 0 finished with value: 0.11702685803174973 and parameters: {'lr': 0.0007745146450921044, 'n_layers': 5, 'n_neurons': 63, 'activation': 'Tanh', 'loss_weight_physics': 9.818826063683682, 'loss_weight_bc': 9.060092012554561}. Best is trial 0 with value: 0.11702685803174973.\n",
            "[I 2025-08-13 12:11:38,277] Trial 1 finished with value: 25.940357208251953 and parameters: {'lr': 0.001064610189754291, 'n_layers': 2, 'n_neurons': 77, 'activation': 'Tanh', 'loss_weight_physics': 7.438858798469587, 'loss_weight_bc': 9.24758352291302}. Best is trial 0 with value: 0.11702685803174973.\n",
            "[I 2025-08-13 12:11:39,237] Trial 2 finished with value: 49.15821075439453 and parameters: {'lr': 0.00015757958233770695, 'n_layers': 3, 'n_neurons': 39, 'activation': 'Tanh', 'loss_weight_physics': 9.496688335167224, 'loss_weight_bc': 3.488081204023182}. Best is trial 0 with value: 0.11702685803174973.\n",
            "[I 2025-08-13 12:11:40,066] Trial 3 finished with value: 0.05662328377366066 and parameters: {'lr': 0.002085118413598264, 'n_layers': 2, 'n_neurons': 70, 'activation': 'ReLU', 'loss_weight_physics': 5.5430319231736265, 'loss_weight_bc': 9.312506062188588}. Best is trial 3 with value: 0.05662328377366066.\n",
            "[I 2025-08-13 12:11:41,340] Trial 4 finished with value: 0.09556899964809418 and parameters: {'lr': 0.0004559168378042567, 'n_layers': 4, 'n_neurons': 81, 'activation': 'Tanh', 'loss_weight_physics': 5.2490887194689835, 'loss_weight_bc': 3.3156172622756426}. Best is trial 3 with value: 0.05662328377366066.\n",
            "[I 2025-08-13 12:11:42,442] Trial 5 finished with value: 0.02721387892961502 and parameters: {'lr': 0.002934783834567914, 'n_layers': 4, 'n_neurons': 42, 'activation': 'Tanh', 'loss_weight_physics': 1.6449092646274601, 'loss_weight_bc': 9.487963350321198}. Best is trial 5 with value: 0.02721387892961502.\n",
            "[I 2025-08-13 12:11:43,302] Trial 6 finished with value: 13.229411125183105 and parameters: {'lr': 0.0002727644651543733, 'n_layers': 2, 'n_neurons': 92, 'activation': 'Tanh', 'loss_weight_physics': 3.413060167251732, 'loss_weight_bc': 1.8685958675215362}. Best is trial 5 with value: 0.02721387892961502.\n",
            "[I 2025-08-13 12:11:44,352] Trial 7 finished with value: 0.03609088063240051 and parameters: {'lr': 0.005036000526765661, 'n_layers': 3, 'n_neurons': 77, 'activation': 'Tanh', 'loss_weight_physics': 3.3493366880834587, 'loss_weight_bc': 7.900926426634189}. Best is trial 5 with value: 0.02721387892961502.\n",
            "[I 2025-08-13 12:11:45,853] Trial 8 finished with value: 0.10330232977867126 and parameters: {'lr': 0.007928685967551068, 'n_layers': 5, 'n_neurons': 68, 'activation': 'ReLU', 'loss_weight_physics': 5.3542473156532875, 'loss_weight_bc': 4.426697816567593}. Best is trial 5 with value: 0.02721387892961502.\n",
            "[I 2025-08-13 12:11:47,395] Trial 9 finished with value: 0.5418311953544617 and parameters: {'lr': 0.003507541158079272, 'n_layers': 5, 'n_neurons': 42, 'activation': 'ReLU', 'loss_weight_physics': 9.290322123488426, 'loss_weight_bc': 5.358489551085907}. Best is trial 5 with value: 0.02721387892961502.\n",
            "[I 2025-08-13 12:11:48,447] Trial 10 finished with value: 0.011773966252803802 and parameters: {'lr': 0.0017841846335478516, 'n_layers': 4, 'n_neurons': 22, 'activation': 'ReLU', 'loss_weight_physics': 0.11089144324120603, 'loss_weight_bc': 6.443711052082508}. Best is trial 10 with value: 0.011773966252803802.\n",
            "[I 2025-08-13 12:11:49,459] Trial 11 finished with value: 0.10121764987707138 and parameters: {'lr': 0.0020180166662739146, 'n_layers': 4, 'n_neurons': 20, 'activation': 'ReLU', 'loss_weight_physics': 0.5002230909053704, 'loss_weight_bc': 6.647852931430489}. Best is trial 10 with value: 0.011773966252803802.\n",
            "[I 2025-08-13 12:11:50,525] Trial 12 finished with value: 0.030641576275229454 and parameters: {'lr': 0.0016645989910339391, 'n_layers': 4, 'n_neurons': 23, 'activation': 'ReLU', 'loss_weight_physics': 0.33314147392673377, 'loss_weight_bc': 6.9426944129622346}. Best is trial 10 with value: 0.011773966252803802.\n",
            "[I 2025-08-13 12:11:51,635] Trial 13 finished with value: 0.15953078866004944 and parameters: {'lr': 0.00982855274882683, 'n_layers': 4, 'n_neurons': 43, 'activation': 'ReLU', 'loss_weight_physics': 2.41336246428379, 'loss_weight_bc': 0.3821033291586158}. Best is trial 10 with value: 0.011773966252803802.\n",
            "[I 2025-08-13 12:11:52,601] Trial 14 finished with value: 0.022255288437008858 and parameters: {'lr': 0.0036459023330806203, 'n_layers': 3, 'n_neurons': 32, 'activation': 'Tanh', 'loss_weight_physics': 1.9448349806586327, 'loss_weight_bc': 7.5124526371343405}. Best is trial 10 with value: 0.011773966252803802.\n",
            "[I 2025-08-13 12:11:53,516] Trial 15 finished with value: 0.6271941065788269 and parameters: {'lr': 0.0009307303198711601, 'n_layers': 3, 'n_neurons': 31, 'activation': 'ReLU', 'loss_weight_physics': 1.3807289251084294, 'loss_weight_bc': 5.952158394227232}. Best is trial 10 with value: 0.011773966252803802.\n",
            "[I 2025-08-13 12:11:54,481] Trial 16 finished with value: 0.3320640027523041 and parameters: {'lr': 0.004113752821365116, 'n_layers': 3, 'n_neurons': 54, 'activation': 'ReLU', 'loss_weight_physics': 3.7474244413066358, 'loss_weight_bc': 7.754825773010788}. Best is trial 10 with value: 0.011773966252803802.\n",
            "[I 2025-08-13 12:11:55,403] Trial 17 finished with value: 0.011658703908324242 and parameters: {'lr': 0.005635326460753204, 'n_layers': 3, 'n_neurons': 29, 'activation': 'Tanh', 'loss_weight_physics': 1.9541521004975315, 'loss_weight_bc': 7.579538978470142}. Best is trial 17 with value: 0.011658703908324242.\n",
            "[I 2025-08-13 12:11:56,425] Trial 18 finished with value: 0.001249590888619423 and parameters: {'lr': 0.006611130329535944, 'n_layers': 3, 'n_neurons': 53, 'activation': 'Tanh', 'loss_weight_physics': 0.20744839176972035, 'loss_weight_bc': 4.68579847227816}. Best is trial 18 with value: 0.001249590888619423.\n",
            "[I 2025-08-13 12:11:57,444] Trial 19 finished with value: 0.018279749900102615 and parameters: {'lr': 0.006029594059041413, 'n_layers': 2, 'n_neurons': 54, 'activation': 'Tanh', 'loss_weight_physics': 6.69143671907681, 'loss_weight_bc': 4.325857510514669}. Best is trial 18 with value: 0.001249590888619423.\n",
            "[I 2025-08-13 12:11:58,680] Trial 20 finished with value: 0.009492411278188229 and parameters: {'lr': 0.007556084968381012, 'n_layers': 3, 'n_neurons': 52, 'activation': 'Tanh', 'loss_weight_physics': 2.8231336949391346, 'loss_weight_bc': 2.3394526041219703}. Best is trial 18 with value: 0.001249590888619423.\n",
            "[I 2025-08-13 12:11:59,702] Trial 21 finished with value: 1.5586587190628052 and parameters: {'lr': 0.006617393738269897, 'n_layers': 3, 'n_neurons': 51, 'activation': 'Tanh', 'loss_weight_physics': 2.5811937840146046, 'loss_weight_bc': 2.223120653832201}. Best is trial 18 with value: 0.001249590888619423.\n",
            "[I 2025-08-13 12:12:00,679] Trial 22 finished with value: 0.0038202721625566483 and parameters: {'lr': 0.00873469090545122, 'n_layers': 3, 'n_neurons': 50, 'activation': 'Tanh', 'loss_weight_physics': 1.0797862588487641, 'loss_weight_bc': 0.34609832159426124}. Best is trial 18 with value: 0.001249590888619423.\n",
            "[I 2025-08-13 12:12:01,666] Trial 23 finished with value: 0.0026126960292458534 and parameters: {'lr': 0.008429699954511486, 'n_layers': 3, 'n_neurons': 49, 'activation': 'Tanh', 'loss_weight_physics': 1.0050179273340654, 'loss_weight_bc': 0.5377652838236067}. Best is trial 18 with value: 0.001249590888619423.\n",
            "[I 2025-08-13 12:12:02,501] Trial 24 finished with value: 0.002019596751779318 and parameters: {'lr': 0.009990819826713793, 'n_layers': 2, 'n_neurons': 60, 'activation': 'Tanh', 'loss_weight_physics': 1.0899805186798277, 'loss_weight_bc': 0.46472804253471217}. Best is trial 18 with value: 0.001249590888619423.\n",
            "[I 2025-08-13 12:12:03,332] Trial 25 finished with value: 0.06811999529600143 and parameters: {'lr': 0.009990301174451703, 'n_layers': 2, 'n_neurons': 61, 'activation': 'Tanh', 'loss_weight_physics': 4.428846281371859, 'loss_weight_bc': 1.4201232755199635}. Best is trial 18 with value: 0.001249590888619423.\n",
            "[I 2025-08-13 12:12:04,161] Trial 26 finished with value: 0.004671872593462467 and parameters: {'lr': 0.0029827056886734342, 'n_layers': 2, 'n_neurons': 59, 'activation': 'Tanh', 'loss_weight_physics': 0.79916730215015, 'loss_weight_bc': 1.1804081424581443}. Best is trial 18 with value: 0.001249590888619423.\n",
            "[I 2025-08-13 12:12:05,066] Trial 27 finished with value: 0.0198106300085783 and parameters: {'lr': 0.00472007265659739, 'n_layers': 2, 'n_neurons': 68, 'activation': 'Tanh', 'loss_weight_physics': 1.2536158593513342, 'loss_weight_bc': 3.089466227661835}. Best is trial 18 with value: 0.001249590888619423.\n",
            "[I 2025-08-13 12:12:05,999] Trial 28 finished with value: 18.189327239990234 and parameters: {'lr': 0.00010367156252569405, 'n_layers': 2, 'n_neurons': 94, 'activation': 'Tanh', 'loss_weight_physics': 4.371670689787002, 'loss_weight_bc': 0.9397823884927454}. Best is trial 18 with value: 0.001249590888619423.\n",
            "[I 2025-08-13 12:12:06,944] Trial 29 finished with value: 1.9224563837051392 and parameters: {'lr': 0.0004856011770318775, 'n_layers': 3, 'n_neurons': 47, 'activation': 'Tanh', 'loss_weight_physics': 1.005847957413549, 'loss_weight_bc': 0.2300766959172531}. Best is trial 18 with value: 0.001249590888619423.\n",
            "[I 2025-08-13 12:12:07,786] Trial 30 finished with value: 0.6567603945732117 and parameters: {'lr': 0.001369405186427611, 'n_layers': 2, 'n_neurons': 59, 'activation': 'Tanh', 'loss_weight_physics': 0.14846061642226707, 'loss_weight_bc': 2.6217300430255874}. Best is trial 18 with value: 0.001249590888619423.\n",
            "[I 2025-08-13 12:12:09,034] Trial 31 finished with value: 0.004428382497280836 and parameters: {'lr': 0.008061570779085281, 'n_layers': 3, 'n_neurons': 48, 'activation': 'Tanh', 'loss_weight_physics': 0.9890099275178724, 'loss_weight_bc': 0.13635353765646502}. Best is trial 18 with value: 0.001249590888619423.\n",
            "[I 2025-08-13 12:12:10,132] Trial 32 finished with value: 0.002876963699236512 and parameters: {'lr': 0.009546160417190811, 'n_layers': 3, 'n_neurons': 37, 'activation': 'Tanh', 'loss_weight_physics': 1.8966335674542136, 'loss_weight_bc': 0.9865486162016935}. Best is trial 18 with value: 0.001249590888619423.\n",
            "[I 2025-08-13 12:12:11,110] Trial 33 finished with value: 0.0026837473269551992 and parameters: {'lr': 0.006097680458868815, 'n_layers': 3, 'n_neurons': 39, 'activation': 'Tanh', 'loss_weight_physics': 2.0830958111495965, 'loss_weight_bc': 1.4370004232424693}. Best is trial 18 with value: 0.001249590888619423.\n",
            "[I 2025-08-13 12:12:12,067] Trial 34 finished with value: 0.09767787903547287 and parameters: {'lr': 0.002623576253632437, 'n_layers': 3, 'n_neurons': 36, 'activation': 'Tanh', 'loss_weight_physics': 2.799644969749912, 'loss_weight_bc': 4.088546135855019}. Best is trial 18 with value: 0.001249590888619423.\n",
            "[I 2025-08-13 12:12:12,906] Trial 35 finished with value: 0.10945693403482437 and parameters: {'lr': 0.006012777514911733, 'n_layers': 2, 'n_neurons': 65, 'activation': 'Tanh', 'loss_weight_physics': 6.468964952724903, 'loss_weight_bc': 1.7042557305047907}. Best is trial 18 with value: 0.001249590888619423.\n",
            "[I 2025-08-13 12:12:14,065] Trial 36 finished with value: 0.030406320467591286 and parameters: {'lr': 0.004618250735329487, 'n_layers': 4, 'n_neurons': 57, 'activation': 'Tanh', 'loss_weight_physics': 2.1316488451614317, 'loss_weight_bc': 0.8306119543051649}. Best is trial 18 with value: 0.001249590888619423.\n",
            "[I 2025-08-13 12:12:14,908] Trial 37 finished with value: 35.86815643310547 and parameters: {'lr': 0.000599858024291273, 'n_layers': 2, 'n_neurons': 74, 'activation': 'Tanh', 'loss_weight_physics': 8.433353990825061, 'loss_weight_bc': 8.689368804822086}. Best is trial 18 with value: 0.001249590888619423.\n",
            "[I 2025-08-13 12:12:15,970] Trial 38 finished with value: 7.2727742195129395 and parameters: {'lr': 0.0002643994320537136, 'n_layers': 3, 'n_neurons': 84, 'activation': 'Tanh', 'loss_weight_physics': 1.5051138693271384, 'loss_weight_bc': 2.8751849543702312}. Best is trial 18 with value: 0.001249590888619423.\n",
            "[I 2025-08-13 12:12:17,051] Trial 39 finished with value: 0.0051142312586307526 and parameters: {'lr': 0.006794895127238889, 'n_layers': 4, 'n_neurons': 44, 'activation': 'Tanh', 'loss_weight_physics': 0.7736106793034354, 'loss_weight_bc': 1.7451430518987199}. Best is trial 18 with value: 0.001249590888619423.\n",
            "[I 2025-08-13 12:12:18,485] Trial 40 finished with value: 0.7761003375053406 and parameters: {'lr': 0.002482209504509694, 'n_layers': 5, 'n_neurons': 63, 'activation': 'Tanh', 'loss_weight_physics': 3.169184526648327, 'loss_weight_bc': 9.974270296344342}. Best is trial 18 with value: 0.001249590888619423.\n",
            "[I 2025-08-13 12:12:19,477] Trial 41 finished with value: 0.0017915572971105576 and parameters: {'lr': 0.0097641257924575, 'n_layers': 3, 'n_neurons': 37, 'activation': 'Tanh', 'loss_weight_physics': 1.7212178583347255, 'loss_weight_bc': 0.7476711856796034}. Best is trial 18 with value: 0.001249590888619423.\n",
            "[I 2025-08-13 12:12:20,933] Trial 42 finished with value: 0.0007432827260345221 and parameters: {'lr': 0.007158552990868488, 'n_layers': 3, 'n_neurons': 38, 'activation': 'Tanh', 'loss_weight_physics': 0.5833474477986438, 'loss_weight_bc': 3.548972162137204}. Best is trial 42 with value: 0.0007432827260345221.\n",
            "[I 2025-08-13 12:12:21,925] Trial 43 finished with value: 0.001320498064160347 and parameters: {'lr': 0.007861710471204176, 'n_layers': 3, 'n_neurons': 45, 'activation': 'Tanh', 'loss_weight_physics': 0.5671255829090998, 'loss_weight_bc': 3.6850948720632477}. Best is trial 42 with value: 0.0007432827260345221.\n",
            "[I 2025-08-13 12:12:22,862] Trial 44 finished with value: 0.0007342355092987418 and parameters: {'lr': 0.004613348903047689, 'n_layers': 3, 'n_neurons': 33, 'activation': 'Tanh', 'loss_weight_physics': 0.4611373821120857, 'loss_weight_bc': 3.8965207403725244}. Best is trial 44 with value: 0.0007342355092987418.\n",
            "[I 2025-08-13 12:12:23,790] Trial 45 finished with value: 0.0031458321027457714 and parameters: {'lr': 0.0038373251965588316, 'n_layers': 3, 'n_neurons': 27, 'activation': 'Tanh', 'loss_weight_physics': 0.5873826815411213, 'loss_weight_bc': 3.8748851740169883}. Best is trial 44 with value: 0.0007342355092987418.\n",
            "[I 2025-08-13 12:12:24,718] Trial 46 finished with value: 0.0025321433786302805 and parameters: {'lr': 0.004972621891839146, 'n_layers': 3, 'n_neurons': 26, 'activation': 'Tanh', 'loss_weight_physics': 0.39188227178687707, 'loss_weight_bc': 4.731811217110703}. Best is trial 44 with value: 0.0007342355092987418.\n",
            "[I 2025-08-13 12:12:25,777] Trial 47 finished with value: 0.0009156604646705091 and parameters: {'lr': 0.00319984863801789, 'n_layers': 4, 'n_neurons': 33, 'activation': 'Tanh', 'loss_weight_physics': 0.47965794217795055, 'loss_weight_bc': 5.376183526711658}. Best is trial 44 with value: 0.0007342355092987418.\n",
            "[I 2025-08-13 12:12:26,873] Trial 48 finished with value: 0.004926442634314299 and parameters: {'lr': 0.003437744794431612, 'n_layers': 4, 'n_neurons': 41, 'activation': 'Tanh', 'loss_weight_physics': 0.10092628407069298, 'loss_weight_bc': 5.603496148467416}. Best is trial 44 with value: 0.0007342355092987418.\n",
            "[I 2025-08-13 12:12:27,908] Trial 49 finished with value: 0.02213215082883835 and parameters: {'lr': 0.0012434045485326902, 'n_layers': 4, 'n_neurons': 33, 'activation': 'ReLU', 'loss_weight_physics': 0.5918312130992402, 'loss_weight_bc': 3.587273792279484}. Best is trial 44 with value: 0.0007342355092987418.\n"
          ]
        },
        {
          "output_type": "stream",
          "name": "stdout",
          "text": [
            "Best hyperparameters:  {'lr': 0.004613348903047689, 'n_layers': 3, 'n_neurons': 33, 'activation': 'Tanh', 'loss_weight_physics': 0.4611373821120857, 'loss_weight_bc': 3.8965207403725244}\n",
            "Best value (minimum loss):  0.0007342355092987418\n"
          ]
        }
      ]
    },
    {
      "cell_type": "code",
      "metadata": {
        "colab": {
          "base_uri": "https://localhost:8080/",
          "height": 599
        },
        "id": "f8ac53b1",
        "outputId": "bbd7766b-2a85-4417-c660-a60bf3e71bea"
      },
      "source": [
        "# Access the best hyperparameters\n",
        "best_params = study.best_params\n",
        "best_lr = best_params['lr']\n",
        "best_n_layers = best_params['n_layers']\n",
        "best_n_neurons = best_params['n_neurons']\n",
        "best_activation_name = best_params['activation']\n",
        "best_loss_weight_physics = best_params['loss_weight_physics']\n",
        "best_loss_weight_bc = best_params['loss_weight_bc']\n",
        "\n",
        "# Map activation name to torch activation function\n",
        "best_activation = nn.Tanh if best_activation_name == 'Tanh' else nn.ReLU\n",
        "\n",
        "# Update layers and pinn_args\n",
        "layers = [1] + [best_n_neurons] * best_n_layers + [1]\n",
        "pinn_args = {'layers': layers, 'activation': best_activation}\n",
        "\n",
        "# Update the ensemble_predict function to use the optimal lr and loss weights\n",
        "def ensemble_predict_optimized(\n",
        "    n_ensembles, pinn_args, x_f_train, bc_points, ode_func, x_eval, epochs=2000, lr=1e-3, loss_weights=(1.0, 1.0)\n",
        "):\n",
        "    preds = []\n",
        "    for i in range(n_ensembles):\n",
        "        torch.manual_seed(i)\n",
        "        np.random.seed(i)\n",
        "        random.seed(i)\n",
        "        model = PINN(**pinn_args)\n",
        "        optimizer = torch.optim.Adam(model.parameters(), lr=lr) # Use optimal lr\n",
        "        train_pinn(model, optimizer, epochs, x_f_train, bc_points, ode_func, verbose=False, loss_weights=loss_weights) # Use optimal loss weights\n",
        "        pred = model(torch.tensor(x_eval, dtype=torch.float32)).detach().numpy().squeeze()\n",
        "        preds.append(pred)\n",
        "    return np.mean(preds, axis=0), np.std(preds, axis=0)\n",
        "\n",
        "# Train ensemble of PINNs with optimized hyperparameters\n",
        "mean_pred, std_pred = ensemble_predict_optimized(\n",
        "    n_ensembles,\n",
        "    pinn_args,\n",
        "    x_f_train,\n",
        "    bc_points,\n",
        "    ode_func,\n",
        "    x_eval,\n",
        "    epochs=epochs,\n",
        "    lr=best_lr, # Pass optimal lr\n",
        "    loss_weights=(best_loss_weight_physics, best_loss_weight_bc) # Pass optimal loss weights\n",
        ")\n",
        "\n",
        "# Analytic fit (reuse existing code)\n",
        "params = perform_analytic_fit(x_eval.flatten(), mean_pred)\n",
        "analytic_curve = analytic_fit_func(x_eval.flatten(), *params)\n",
        "\n",
        "# Visualization (reuse existing code)\n",
        "plt.figure(figsize=(10,6))\n",
        "plt.plot(x_eval, mean_pred, 'r-', label='PINN Ensemble Mean (Optimized)')\n",
        "plt.fill_between(x_eval.flatten(), mean_pred-std_pred, mean_pred+std_pred, alpha=0.18, color='r', label='PINN Uncertainty (Optimized)')\n",
        "plt.plot(x_eval, analytic_curve, 'g--', label='Analytic Fit')\n",
        "plt.xlabel(\"x\")\n",
        "plt.ylabel(\"y\")\n",
        "plt.title(\"PINN Solution with Optimized Hyperparameters, Analytic Fit, and Uncertainty\")\n",
        "plt.legend()\n",
        "plt.show()\n",
        "\n",
        "print(\"Analytic Fit Parameters:\", params)\n",
        "print(f\"y ≈ {params[0]:.4f} * exp({params[1]:.4f} * x) + {params[2]:.4f} * sin({params[3]:.4f} * x) + {params[4]:.4f} * x^2 + {params[5]:.4f}\")\n"
      ],
      "execution_count": 18,
      "outputs": [
        {
          "output_type": "display_data",
          "data": {
            "text/plain": [
              "<Figure size 1000x600 with 1 Axes>"
            ],
            "image/png": "[encoded data removed]"
          },
          "metadata": {}
        },
        {
          "output_type": "stream",
          "name": "stdout",
          "text": [
            "Analytic Fit Parameters: [ 9.99999836 -0.17651662  2.20195196  0.27570852  1.20647651 -8.97959039]\n",
            "y ≈ 10.0000 * exp(-0.1765 * x) + 2.2020 * sin(0.2757 * x) + 1.2065 * x^2 + -8.9796\n"
          ]
        }
      ]
    },
    {
      "cell_type": "markdown",
      "metadata": {
        "id": "87abc501"
      },
      "source": [
        "## Explore integration of attention/transformers\n",
        "\n",
        "### Subtask:\n",
        "Research how attention mechanisms or transformer architectures can be applied to PINNs, particularly for systems of ODEs/PDEs or larger domains.\n"
      ]
    },
    {
      "cell_type": "markdown",
      "metadata": {
        "id": "e4509637"
      },
      "source": [
        "## integration of attention/transformers\n",
        "\n",
        "### Subtask:\n",
        "Modifying the `PINN` model definition to incorporate attention layers or adapt a transformer architecture.\n",
        "\n"
      ]
    },
    {
      "cell_type": "code",
      "metadata": {
        "id": "73678df0"
      },
      "source": [
        "import torch.nn as nn\n",
        "import torch\n",
        "\n",
        "class SelfAttention(nn.Module):\n",
        "    def __init__(self, input_dim):\n",
        "        super(SelfAttention, self).__init__()\n",
        "        self.query = nn.Linear(input_dim, input_dim)\n",
        "        self.key = nn.Linear(input_dim, input_dim)\n",
        "        self.value = nn.Linear(input_dim, input_dim)\n",
        "        self.scale = input_dim ** 0.5\n",
        "\n",
        "    def forward(self, x):\n",
        "        Q = self.query(x)\n",
        "        K = self.key(x)\n",
        "        V = self.value(x)\n",
        "\n",
        "        # For a 1D input like in this PINN, we can simplify self-attention.\n",
        "        # Treat each input point as a query, key, and value relative to itself.\n",
        "        # A simple self-attention on 1D input could just scale the features.\n",
        "        # A more complex approach would involve processing sequences if x was a sequence of points.\n",
        "        # For a single point input, a direct self-attention as typically implemented in transformers\n",
        "        # (attending over sequences) doesn't directly apply without reshaping or considering batches\n",
        "        # as sequences.\n",
        "        # Let's implement a simple feature-wise scaling attention for this 1D case as a starting point.\n",
        "        # This isn't a full transformer self-attention but a way to incorporate a learned scaling based on features.\n",
        "        # A true sequence-based attention would require batched input and sequence handling.\n",
        "\n",
        "        # Let's try a simplified \"self-attention\" where we learn to weigh the input feature itself.\n",
        "        # This is more like a learned gate or scaling mechanism.\n",
        "        # It's not the standard multi-head self-attention from transformers.\n",
        "\n",
        "        # A more appropriate simple attention for a single input point might be\n",
        "        # to use a small network to predict a scaling factor based on the input feature.\n",
        "        # Let's implement this simplified scaling attention.\n",
        "\n",
        "        scores = torch.sigmoid(self.query(x)) # Use query layer to predict scaling\n",
        "        attention_output = scores * x # Scale the input feature\n",
        "\n",
        "        # Alternatively, we can try a layer that processes the feature and uses a simple self-attention logic\n",
        "        # appropriate for a single element \"sequence\".\n",
        "\n",
        "        # Let's revise to a more standard (though simplified for 1D) self-attention concept.\n",
        "        # If x is shape (batch_size, input_dim), we treat each element in the batch as a separate item\n",
        "        # and apply attention features within that item. This doesn't make sense for a single point.\n",
        "        # If x is shape (batch_size, sequence_length, input_dim), then standard attention applies.\n",
        "        # In this PINN, x is (batch_size, 1). Sequence length is 1.\n",
        "\n",
        "        # A meaningful attention in this context might require considering the batch as a sequence\n",
        "        # or processing multiple points together in the forward pass.\n",
        "        # Let's assume for now we want to apply a mechanism similar to attention within the feature dimension.\n",
        "        # This is not standard self-attention.\n",
        "\n",
        "        # Let's rethink. The input x is a batch of single points (shape [batch_size, 1]).\n",
        "        # Standard self-attention attends across a sequence. Here, the sequence length is 1.\n",
        "        # A direct application of multi-head self-attention would be trivial or require reshaping.\n",
        "\n",
        "        # However, we can interpret attention as a mechanism to weigh inputs based on their relevance.\n",
        "        # For a single input feature, attention could mean emphasizing or de-emphasizing it\n",
        "        # based on learned weights.\n",
        "\n",
        "        # Let's try a different approach: integrate attention *between* layers, focusing on the feature dimension.\n",
        "        # This would involve transforming the features and applying an attention-like weighting.\n",
        "\n",
        "        # A simple way to integrate a concept *related* to attention in a feedforward network\n",
        "        # is to have a parallel path that computes attention weights based on the features,\n",
        "        # and then scales the features or intermediate outputs by these weights.\n",
        "\n",
        "        # Let's define a simple attention layer that takes features and outputs a weighted version.\n",
        "        # This will operate on the feature dimension after a linear layer.\n",
        "\n",
        "class FeatureAttention(nn.Module):\n",
        "    def __init__(self, feature_dim):\n",
        "        super(FeatureAttention, self).__init__()\n",
        "        self.query = nn.Linear(feature_dim, feature_dim)\n",
        "        self.key = nn.Linear(feature_dim, feature_dim)\n",
        "        self.value = nn.Linear(feature_dim, feature_dim)\n",
        "        self.scale = feature_dim ** 0.5\n",
        "        self.softmax = nn.Softmax(dim=-1) # Apply softmax over features\n",
        "\n",
        "    def forward(self, x): # x shape: (batch_size, feature_dim)\n",
        "        Q = self.query(x)\n",
        "        K = self.key(x)\n",
        "        V = self.value(x)\n",
        "\n",
        "        # Compute attention scores (dot product)\n",
        "        # Matmul (batch_size, feature_dim) x (batch_size, feature_dim).transpose(-1, -2)\n",
        "        # This doesn't make sense for self-attention on a batch of independent items.\n",
        "\n",
        "        # Let's assume we want to attend *across the features* for each item in the batch independently.\n",
        "        # Q, K, V are (batch_size, feature_dim)\n",
        "        # We want scores (batch_size, feature_dim, feature_dim)\n",
        "        # scores[i, j, k] = Q[i, j] * K[i, k] ? No.\n",
        "        # scores[i, j] = Q[i, j] dot K[i, :] ? No.\n",
        "\n",
        "        # Standard self-attention: Query attends to Keys, producing weights for Values.\n",
        "        # Shape requirement: (batch_size, sequence_length, feature_dim)\n",
        "        # Here, sequence_length is 1.\n",
        "\n",
        "        # Let's reconsider the objective: integrate attention. A common way in non-sequential data\n",
        "        # is to use it to weight features.\n",
        "\n",
        "        # Let's try another approach: Add a simple gating mechanism based on the features.\n",
        "        # This is often called 'channel attention' or similar in vision, but the concept applies.\n",
        "\n",
        "class SimpleFeatureGate(nn.Module):\n",
        "    def __init__(self, feature_dim):\n",
        "        super(SimpleFeatureGate, self).__init__()\n",
        "        self.gate = nn.Sequential(\n",
        "            nn.Linear(feature_dim, feature_dim // 2),\n",
        "            nn.ReLU(),\n",
        "            nn.Linear(feature_dim // 2, feature_dim),\n",
        "            nn.Sigmoid() # Output weights between 0 and 1\n",
        "        )\n",
        "\n",
        "    def forward(self, x): # x shape: (batch_size, feature_dim)\n",
        "        gate_weights = self.gate(x)\n",
        "        return x * gate_weights # Apply learned weights to features\n",
        "\n",
        "# Modify the PINN class\n",
        "class PINN(nn.Module):\n",
        "    def __init__(self, layers, activation=nn.Tanh, use_attention=True):\n",
        "        super(PINN, self).__init__()\n",
        "        self.layers = nn.ModuleList()\n",
        "        self.use_attention = use_attention\n",
        "        self.attention_layers = nn.ModuleList() # Store attention layers\n",
        "\n",
        "        for i in range(len(layers)-1):\n",
        "            self.layers.append(nn.Linear(layers[i], layers[i+1]))\n",
        "            # Add attention after hidden layers\n",
        "            if self.use_attention and i < len(layers) - 2: # Don't add attention after the last layer\n",
        "                 self.attention_layers.append(SimpleFeatureGate(layers[i+1]))\n",
        "            else:\n",
        "                 self.attention_layers.append(None) # Placeholder for non-attention layers\n",
        "\n",
        "        self.activation = activation()\n",
        "        self._init_weights()\n",
        "\n",
        "    def forward(self, x):\n",
        "        for i in range(len(self.layers)-1):\n",
        "            x = self.layers[i](x)\n",
        "            if i < len(self.layers) - 2: # Apply activation and potentially attention after hidden layers\n",
        "                x = self.activation(x)\n",
        "                if self.use_attention and self.attention_layers[i] is not None:\n",
        "                    x = self.attention_layers[i](x)\n",
        "            # The last layer applies linear transformation without activation or attention here\n",
        "        return self.layers[-1](x)\n",
        "\n",
        "    def _init_weights(self):\n",
        "        for layer in self.layers:\n",
        "            if hasattr(layer, 'weight'):\n",
        "                nn.init.xavier_normal_(layer.weight)\n",
        "                nn.init.zeros_(layer.bias)\n",
        "        if self.use_attention:\n",
        "             for att_layer in self.attention_layers:\n",
        "                 if att_layer is not None:\n",
        "                     for param in att_layer.parameters():\n",
        "                          if param.dim() > 1:\n",
        "                               nn.init.xavier_normal_(param)\n",
        "                          else:\n",
        "                               nn.init.zeros_(param)\n",
        "\n",
        "\n",
        "# Example of how to instantiate the modified PINN\n",
        "# layers = [1, 50, 50, 50, 1]\n",
        "# model_with_attention = PINN(layers=layers, use_attention=True)\n",
        "# print(model_with_attention)\n"
      ],
      "execution_count": 19,
      "outputs": []
    },
    {
      "cell_type": "markdown",
      "metadata": {
        "id": "1cd75e38"
      },
      "source": [
        "## Explore integration of attention/transformers\n",
        "\n",
        "### Subtask:\n",
        "Adjust the training loop and physics loss calculation to accommodate the new model architecture.\n"
      ]
    },
    {
      "cell_type": "markdown",
      "metadata": {
        "id": "c8342da1"
      },
      "source": [
        "**Reasoning**:\n",
        "Modify the training and ensemble prediction functions to accept the `use_attention` parameter and pass it to the PINN model, then rerun the main script with attention enabled.\n",
        "\n"
      ]
    },
    {
      "cell_type": "code",
      "metadata": {
        "colab": {
          "base_uri": "https://localhost:8080/",
          "height": 619
        },
        "id": "a3195180",
        "outputId": "9d1bb4eb-f783-4776-b934-e511fb6caba0"
      },
      "source": [
        "# Modify the train_pinn function\n",
        "def train_pinn(\n",
        "    model, optimizer, epochs, x_f_train, bc_points, ode_func, verbose=False, loss_weights=(1.0, 1.0)\n",
        "):\n",
        "    for epoch in range(epochs):\n",
        "        optimizer.zero_grad()\n",
        "        loss_pde = physics_loss(model, x_f_train, ode_func)\n",
        "        loss_bc = boundary_loss(model, bc_points)\n",
        "        loss = loss_weights[0] * loss_pde + loss_weights[1] * loss_bc\n",
        "        loss.backward()\n",
        "        optimizer.step()\n",
        "        if verbose and epoch % 500 == 0:\n",
        "            print(f\"Epoch {epoch}: Loss = {loss.item():.6f}, PDE Loss = {loss_pde.item():.6f}, BC Loss = {loss_bc.item():.6f}\")\n",
        "\n",
        "# Modify the ensemble_predict_optimized function to accept use_attention\n",
        "def ensemble_predict_optimized(\n",
        "    n_ensembles, pinn_args, x_f_train, bc_points, ode_func, x_eval, epochs=2000, lr=1e-3, loss_weights=(1.0, 1.0), use_attention=False\n",
        "):\n",
        "    preds = []\n",
        "    for i in range(n_ensembles):\n",
        "        torch.manual_seed(i)\n",
        "        np.random.seed(i)\n",
        "        random.seed(i)\n",
        "        # Pass use_attention to PINN instantiation\n",
        "        model = PINN(**pinn_args, use_attention=use_attention)\n",
        "        optimizer = torch.optim.Adam(model.parameters(), lr=lr)\n",
        "        train_pinn(model, optimizer, epochs, x_f_train, bc_points, ode_func, verbose=False, loss_weights=loss_weights)\n",
        "        pred = model(torch.tensor(x_eval, dtype=torch.float32)).detach().numpy().squeeze()\n",
        "        preds.append(pred)\n",
        "    return np.mean(preds, axis=0), np.std(preds, axis=0)\n",
        "\n",
        "# Add a parameter to control attention usage in the main script\n",
        "use_attention = True # Set to True to enable attention\n",
        "\n",
        "# Network, domain, and training settings (using optimized hyperparameters)\n",
        "# Access the best hyperparameters from the previous Optuna run\n",
        "# best_params = study.best_params # Assuming 'study' is still available from the previous step\n",
        "# best_lr = best_params['lr']\n",
        "# best_n_layers = best_params['n_layers']\n",
        "# best_n_neurons = best_params['n_neurons']\n",
        "# best_activation_name = best_params['activation']\n",
        "# best_loss_weight_physics = best_params['loss_weight_physics']\n",
        "# best_loss_weight_bc = best_params['loss_weight_bc']\n",
        "\n",
        "# Map activation name to torch activation function\n",
        "# best_activation = nn.Tanh if best_activation_name == 'Tanh' else nn.ReLU\n",
        "\n",
        "# Update layers and pinn_args with optimized parameters\n",
        "# layers = [1] + [best_n_neurons] * best_n_layers + [1]\n",
        "# pinn_args = {'layers': layers, 'activation': best_activation}\n",
        "\n",
        "# Re-define pinn_args with the layers and activation from the previous optimized run if study is not available\n",
        "# If the notebook state is preserved, study and best_params should be available.\n",
        "# If not, we can use the values printed in the previous step.\n",
        "# Let's assume study is available. If not, uncomment the lines above and use the printed values.\n",
        "\n",
        "# If 'study' is not available, use the values printed in the previous step:\n",
        "best_lr = 0.004613348903047689\n",
        "best_n_layers = 3\n",
        "best_n_neurons = 33\n",
        "best_activation_name = 'Tanh'\n",
        "best_loss_weight_physics = 0.4611373821120857\n",
        "best_loss_weight_bc = 3.8965207403725244\n",
        "best_activation = nn.Tanh if best_activation_name == 'Tanh' else nn.ReLU\n",
        "layers = [1] + [best_n_neurons] * best_n_layers + [1]\n",
        "pinn_args = {'layers': layers, 'activation': best_activation}\n",
        "\n",
        "\n",
        "x_domain = (0, 2)\n",
        "N_f = 50\n",
        "epochs = 3000 # Use the full number of epochs for the final run\n",
        "\n",
        "# Choose ODE function here (user can edit/replace with their own)\n",
        "ode_func = example_ode\n",
        "\n",
        "# Boundary/initial conditions definition (customizable, add Neumann if desired)\n",
        "bc_points = {\n",
        "    'dirichlet': [\n",
        "        (torch.tensor([[0.0]]), torch.tensor([[1.0]])),  # y(0) = 1.0\n",
        "    ],\n",
        "    # 'neumann': [\n",
        "    #     (torch.tensor([[2.0]], requires_grad=True), torch.tensor([[0.0]])), # dy/dx(2) = 0, example\n",
        "    # ]\n",
        "}\n",
        "\n",
        "# Collocation points\n",
        "x_f_train = torch.linspace(*x_domain, N_f).view(-1, 1)\n",
        "\n",
        "# Train ensemble of PINNs with optimized hyperparameters and attention\n",
        "n_ensembles = 5\n",
        "x_eval = np.linspace(*x_domain, 200).reshape(-1, 1)\n",
        "mean_pred_att, std_pred_att = ensemble_predict_optimized(\n",
        "    n_ensembles,\n",
        "    pinn_args,\n",
        "    x_f_train,\n",
        "    bc_points,\n",
        "    ode_func,\n",
        "    x_eval,\n",
        "    epochs=epochs,\n",
        "    lr=best_lr,\n",
        "    loss_weights=(best_loss_weight_physics, best_loss_weight_bc),\n",
        "    use_attention=use_attention # Pass the attention flag\n",
        ")\n",
        "\n",
        "# Analytic fit (reuse existing code, fit on the attention model's mean prediction)\n",
        "params_att = perform_analytic_fit(x_eval.flatten(), mean_pred_att)\n",
        "analytic_curve_att = analytic_fit_func(x_eval.flatten(), *params_att)\n",
        "\n",
        "# Visualization: PINN Mean (with Attention), Analytic Fit, Uncertainty Bands\n",
        "plt.figure(figsize=(10,6))\n",
        "plt.plot(x_eval, mean_pred_att, 'b-', label='PINN Ensemble Mean (Attention)')\n",
        "plt.fill_between(x_eval.flatten(), mean_pred_att-std_pred_att, mean_pred_att+std_pred_att, alpha=0.18, color='b', label='PINN Uncertainty (Attention)')\n",
        "plt.plot(x_eval, analytic_curve_att, 'g--', label='Analytic Fit (Attention Model)')\n",
        "plt.xlabel(\"x\")\n",
        "plt.ylabel(\"y\")\n",
        "plt.title(\"PINN Solution with Attention, Analytic Fit, and Uncertainty\")\n",
        "plt.legend()\n",
        "plt.show()\n",
        "\n",
        "print(\"Analytic Fit Parameters (Attention Model):\", params_att)\n",
        "print(f\"y ≈ {params_att[0]:.4f} * exp({params_att[1]:.4f} * x) + {params_att[2]:.4f} * sin({params_att[3]:.4f} * x) + {params_att[4]:.4f} * x^2 + {params_att[5]:.4f}\")\n",
        "\n",
        "# Optionally, plot the non-attention result from the previous run for comparison if available\n",
        "# if 'mean_pred' in locals(): # Check if the variable exists from the previous run\n",
        "#     plt.figure(figsize=(10,6))\n",
        "#     plt.plot(x_eval, mean_pred, 'r-', label='PINN Ensemble Mean (No Attention)')\n",
        "#     plt.fill_between(x_eval.flatten(), mean_pred-std_pred, mean_pred+std_pred, alpha=0.18, color='r', label='PINN Uncertainty (No Attention)')\n",
        "#     plt.plot(x_eval, analytic_curve, 'g--', label='Analytic Fit (No Attention Model)')\n",
        "#     plt.xlabel(\"x\")\n",
        "#     plt.ylabel(\"y\")\n",
        "#     plt.title(\"PINN Solution (No Attention), Analytic Fit, and Uncertainty\")\n",
        "#     plt.legend()\n",
        "#     plt.show()\n"
      ],
      "execution_count": 20,
      "outputs": [
        {
          "output_type": "display_data",
          "data": {
            "text/plain": [
              "<Figure size 1000x600 with 1 Axes>"
            ],
            "image/png": "[encoded data removed]"
          },
          "metadata": {}
        },
        {
          "output_type": "stream",
          "name": "stdout",
          "text": [
            "Analytic Fit Parameters (Attention Model): [ 9.99999981 -0.16094504  1.78081873  0.26091973  1.2226687  -8.97553053]\n",
            "y ≈ 10.0000 * exp(-0.1609 * x) + 1.7808 * sin(0.2609 * x) + 1.2227 * x^2 + -8.9755\n"
          ]
        }
      ]
    },
    {
      "cell_type": "markdown",
      "metadata": {
        "id": "0c29be8f"
      },
      "source": [
        "## Refine and integrate\n",
        "\n",
        "### Subtask:\n",
        "Combine the autotuning and attention/transformer implementations into a cohesive framework.\n"
      ]
    },
    {
      "cell_type": "markdown",
      "metadata": {
        "id": "38aa820d"
      },
      "source": [
        "**Reasoning**:\n",
        "Combine the autotuning and attention/transformer implementations into a cohesive framework by creating a main function/section, adding configuration options for tuning and attention, running tuning if enabled, instantiating the model with chosen settings, training the ensemble, performing the analytic fit, and generating visualizations and summary prints.\n",
        "\n"
      ]
    },
    {
      "cell_type": "code",
      "metadata": {
        "colab": {
          "base_uri": "https://localhost:8080/",
          "height": 1000,
          "referenced_widgets": [
            "a7776343e646441d915d38fd68137842",
            "6fcebf7ed1504a4f90b2a5554ab2e5cf",
            "c9e3d5a1c65e443abe9d8ae310983b47",
            "550893b9d29946d6ba76f913a55f67e5",
            "27db2186101446a3b460af595220d654",
            "c295e1c2516a4295a757cc46e25ec98f",
            "2d21dfdfad21436bb78311458e5814ed",
            "dfce82407c25467fac195f836cc73d95",
            "793446fd06ff476796138b88fea616ea",
            "ec46de218f044417ae1285bb8d33de58",
            "6b584f301e274b24ae025db7a042a5d4"
          ]
        },
        "collapsed": true,
        "id": "6a89dae5",
        "outputId": "bacb3dcb-b09a-4b71-d4ac-db1b44cc4e43"
      },
      "source": [
        "def main(perform_tuning=True, use_attention=True):\n",
        "    print(f\"--- Running PINN Experiment ---\")\n",
        "    print(f\"Hyperparameter Tuning Enabled: {perform_tuning}\")\n",
        "    print(f\"Attention Mechanism Enabled: {use_attention}\")\n",
        "    print(\"-\" * 30)\n",
        "\n",
        "    # 6. ODE and Boundary Condition Input (User Defined) - Reuse existing\n",
        "    ode_func = example_ode\n",
        "    bc_points = {\n",
        "        'dirichlet': [\n",
        "            (torch.tensor([[0.0]]), torch.tensor([[1.0]])),  # y(0) = 1.0\n",
        "        ],\n",
        "    }\n",
        "\n",
        "    # Network, domain, and training settings\n",
        "    x_domain = (0, 2)\n",
        "    N_f = 50\n",
        "    x_f_train = torch.linspace(*x_domain, N_f).view(-1, 1)\n",
        "    x_eval = np.linspace(*x_domain, 200).reshape(-1, 1)\n",
        "    epochs = 3000 # Full epochs for final run\n",
        "    n_ensembles = 5\n",
        "\n",
        "    # 2. Add configuration option for tuning & 3. Run tuning if enabled\n",
        "    if perform_tuning:\n",
        "        print(\"Starting Optuna hyperparameter tuning...\")\n",
        "        tuning_epochs = 500 # Reduced epochs for faster tuning\n",
        "\n",
        "        def objective(trial):\n",
        "            lr = trial.suggest_float('lr', 1e-4, 1e-2, log=True)\n",
        "            n_layers = trial.suggest_int('n_layers', 2, 5)\n",
        "            n_neurons = trial.suggest_int('n_neurons', 20, 100)\n",
        "            activation_name = trial.suggest_categorical('activation', ['Tanh', 'ReLU'])\n",
        "            loss_weight_physics = trial.suggest_float('loss_weight_physics', 0.1, 10.0)\n",
        "            loss_weight_bc = trial.suggest_float('loss_weight_bc', 0.1, 10.0)\n",
        "\n",
        "            activation = nn.Tanh if activation_name == 'Tanh' else nn.ReLU\n",
        "            layers = [1] + [n_neurons] * n_layers + [1]\n",
        "\n",
        "            # Instantiate model for tuning (standard PINN)\n",
        "            model = PINN(layers=layers, activation=activation, use_attention=False) # Tune with standard PINN first\n",
        "            optimizer = torch.optim.Adam(model.parameters(), lr=lr)\n",
        "\n",
        "            train_pinn(model, optimizer, tuning_epochs, x_f_train, bc_points, ode_func, verbose=False, loss_weights=(loss_weight_physics, loss_weight_bc))\n",
        "\n",
        "            loss_pde = physics_loss(model, x_f_train, ode_func)\n",
        "            loss_bc = boundary_loss(model, bc_points)\n",
        "            total_loss = loss_weight_physics * loss_pde + loss_weight_bc * loss_bc\n",
        "\n",
        "            return total_loss.item()\n",
        "\n",
        "        study = optuna.create_study(direction=\"minimize\")\n",
        "        study.optimize(objective, n_trials=50, show_progress_bar=True) # Reduced trials for example\n",
        "\n",
        "        best_params = study.best_params\n",
        "        print(\"\\nBest hyperparameters found by Optuna:\")\n",
        "        print(best_params)\n",
        "        print(\"-\" * 30)\n",
        "\n",
        "    else: # 4. If tuning disabled, use default/predefined hyperparameters\n",
        "        print(\"Using predefined hyperparameters.\")\n",
        "        # Use the best parameters found in the previous tuning step as predefined defaults\n",
        "        best_params = {\n",
        "            'lr': 0.004613348903047689,\n",
        "            'n_layers': 3,\n",
        "            'n_neurons': 33,\n",
        "            'activation': 'Tanh',\n",
        "            'loss_weight_physics': 0.4611373821120857,\n",
        "            'loss_weight_bc': 3.8965207403725244\n",
        "        }\n",
        "        print(\"Predefined hyperparameters:\")\n",
        "        print(best_params)\n",
        "        print(\"-\" * 30)\n",
        "\n",
        "\n",
        "    # 5. Add configuration option for attention & 6. Instantiate model based on config\n",
        "    best_lr = best_params['lr']\n",
        "    best_n_layers = best_params['n_layers']\n",
        "    best_n_neurons = best_params['n_neurons']\n",
        "    best_activation_name = best_params['activation']\n",
        "    best_loss_weight_physics = best_params['loss_weight_physics']\n",
        "    best_loss_weight_bc = best_params['loss_weight_bc']\n",
        "\n",
        "    best_activation = nn.Tanh if best_activation_name == 'Tanh' else nn.ReLU\n",
        "    layers = [1] + [best_n_neurons] * best_n_layers + [1]\n",
        "    pinn_args = {'layers': layers, 'activation': best_activation}\n",
        "\n",
        "\n",
        "    # 7. Train the PINN ensemble using selected architecture and hyperparameters\n",
        "    print(f\"Training PINN ensemble with {'Attention' if use_attention else 'Standard'} architecture and {'Optimized' if perform_tuning else 'Predefined'} hyperparameters...\")\n",
        "\n",
        "    mean_pred, std_pred = ensemble_predict_optimized(\n",
        "        n_ensembles,\n",
        "        pinn_args,\n",
        "        x_f_train,\n",
        "        bc_points,\n",
        "        ode_func,\n",
        "        x_eval,\n",
        "        epochs=epochs,\n",
        "        lr=best_lr,\n",
        "        loss_weights=(best_loss_weight_physics, best_loss_weight_bc),\n",
        "        use_attention=use_attention # Pass the attention flag\n",
        "    )\n",
        "\n",
        "    # 8. Perform analytic fit and generate visualizations\n",
        "    params = perform_analytic_fit(x_eval.flatten(), mean_pred)\n",
        "    analytic_curve = analytic_fit_func(x_eval.flatten(), *params)\n",
        "\n",
        "    plt.figure(figsize=(10,6))\n",
        "    plot_label = f\"PINN Ensemble Mean ({'Attention' if use_attention else 'Standard'}, {'Optimized' if perform_tuning else 'Predefined'})\"\n",
        "    title_label = f\"PINN Solution ({'Attention' if use_attention else 'Standard'}, {'Optimized' if perform_tuning else 'Predefined'}), Analytic Fit, and Uncertainty\"\n",
        "\n",
        "    plt.plot(x_eval, mean_pred, 'b-' if use_attention else 'r-', label=plot_label)\n",
        "    plt.fill_between(x_eval.flatten(), mean_pred-std_pred, mean_pred+std_pred, alpha=0.18, color='b' if use_attention else 'r', label=f\"PINN Uncertainty ({'Attention' if use_attention else 'Standard'})\")\n",
        "    plt.plot(x_eval, analytic_curve, 'g--', label='Analytic Fit')\n",
        "    plt.xlabel(\"x\")\n",
        "    plt.ylabel(\"y\")\n",
        "    plt.title(title_label)\n",
        "    plt.legend()\n",
        "    plt.show()\n",
        "\n",
        "    # 9. Include print statements summarizing configuration and results\n",
        "    print(\"-\" * 30)\n",
        "    print(\"Experiment Summary:\")\n",
        "    print(f\"  Hyperparameter Tuning Performed: {perform_tuning}\")\n",
        "    print(f\"  Attention Mechanism Used: {use_attention}\")\n",
        "    print(f\"  Number of Ensemble Models: {n_ensembles}\")\n",
        "    print(f\"  Epochs per Model: {epochs}\")\n",
        "    print(f\"  Final Model Hyperparameters: {best_params}\")\n",
        "    print(\"Analytic Fit Parameters:\", params)\n",
        "    print(f\"Analytic Fit Equation: y ≈ {params[0]:.4f} * exp({params[1]:.4f} * x) + {params[2]:.4f} * sin({params[3]:.4f} * x) + {params[4]:.4f} * x^2 + {params[5]:.4f}\")\n",
        "    print(\"-\" * 30)\n",
        "\n",
        "# Example Usage:\n",
        "# To run with tuning and attention:\n",
        "# main(perform_tuning=True, use_attention=True)\n",
        "\n",
        "# To run with predefined params and attention:\n",
        "# main(perform_tuning=False, use_attention=True)\n",
        "\n",
        "# To run with predefined params and no attention:\n",
        "# main(perform_tuning=False, use_attention=False)\n",
        "\n",
        "# Execute the main function with a chosen configuration\n",
        "main(perform_tuning=True, use_attention=True) # Example run with tuning and attention"
      ],
      "execution_count": 21,
      "outputs": [
        {
          "output_type": "stream",
          "name": "stderr",
          "text": [
            "[I 2025-08-13 12:15:54,108] A new study created in memory with name: no-name-baaf4a36-9c50-482d-8dd0-b2646f132a49\n"
          ]
        },
        {
          "output_type": "stream",
          "name": "stdout",
          "text": [
            "--- Running PINN Experiment ---\n",
            "Hyperparameter Tuning Enabled: True\n",
            "Attention Mechanism Enabled: True\n",
            "------------------------------\n",
            "Starting Optuna hyperparameter tuning...\n"
          ]
        },
        {
          "output_type": "display_data",
          "data": {
            "text/plain": [
              "  0%|          | 0/50 [00:00<?, ?it/s]"
            ],
            "application/vnd.jupyter.widget-view+json": {
              "version_major": 2,
              "version_minor": 0,
              "model_id": "a7776343e646441d915d38fd68137842"
            }
          },
          "metadata": {}
        },
        {
          "output_type": "stream",
          "name": "stdout",
          "text": [
            "[I 2025-08-13 12:15:56,200] Trial 0 finished with value: 0.15979453921318054 and parameters: {'lr': 0.0010693288730317019, 'n_layers': 5, 'n_neurons': 41, 'activation': 'ReLU', 'loss_weight_physics': 8.287924606475753, 'loss_weight_bc': 9.578941095081191}. Best is trial 0 with value: 0.15979453921318054.\n",
            "[I 2025-08-13 12:15:57,263] Trial 1 finished with value: 0.14063100516796112 and parameters: {'lr': 0.006286301336138986, 'n_layers': 4, 'n_neurons': 35, 'activation': 'Tanh', 'loss_weight_physics': 8.481014749563219, 'loss_weight_bc': 0.6602407681154835}. Best is trial 1 with value: 0.14063100516796112.\n",
            "[I 2025-08-13 12:15:58,096] Trial 2 finished with value: 0.6122802495956421 and parameters: {'lr': 0.0010186138505877784, 'n_layers': 2, 'n_neurons': 95, 'activation': 'ReLU', 'loss_weight_physics': 3.6377522810861915, 'loss_weight_bc': 1.591683186697512}. Best is trial 1 with value: 0.14063100516796112.\n",
            "[I 2025-08-13 12:15:58,989] Trial 3 finished with value: 21.349843978881836 and parameters: {'lr': 0.00023923006247918412, 'n_layers': 3, 'n_neurons': 39, 'activation': 'ReLU', 'loss_weight_physics': 9.447715251835003, 'loss_weight_bc': 1.4370659801502552}. Best is trial 1 with value: 0.14063100516796112.\n",
            "[I 2025-08-13 12:15:59,845] Trial 4 finished with value: 0.586768627166748 and parameters: {'lr': 0.0010652388668391565, 'n_layers': 2, 'n_neurons': 98, 'activation': 'ReLU', 'loss_weight_physics': 2.5984451349090745, 'loss_weight_bc': 0.6875679004885561}. Best is trial 1 with value: 0.14063100516796112.\n",
            "[I 2025-08-13 12:16:00,922] Trial 5 finished with value: 0.11844681203365326 and parameters: {'lr': 0.009483530692643335, 'n_layers': 4, 'n_neurons': 36, 'activation': 'Tanh', 'loss_weight_physics': 3.1750591092168072, 'loss_weight_bc': 0.2052846921078833}. Best is trial 5 with value: 0.11844681203365326.\n",
            "[I 2025-08-13 12:16:02,145] Trial 6 finished with value: 0.04631306603550911 and parameters: {'lr': 0.006643310533679305, 'n_layers': 3, 'n_neurons': 90, 'activation': 'ReLU', 'loss_weight_physics': 4.196294369541926, 'loss_weight_bc': 2.2715751603641574}. Best is trial 6 with value: 0.04631306603550911.\n",
            "[I 2025-08-13 12:16:03,634] Trial 7 finished with value: 0.031190842390060425 and parameters: {'lr': 0.0003949948908638749, 'n_layers': 4, 'n_neurons': 76, 'activation': 'ReLU', 'loss_weight_physics': 1.3235960996129255, 'loss_weight_bc': 2.4179551402510966}. Best is trial 7 with value: 0.031190842390060425.\n",
            "[I 2025-08-13 12:16:04,699] Trial 8 finished with value: 0.1549837440252304 and parameters: {'lr': 0.003503323491551407, 'n_layers': 4, 'n_neurons': 41, 'activation': 'ReLU', 'loss_weight_physics': 8.296311117290642, 'loss_weight_bc': 0.11072285301696787}. Best is trial 7 with value: 0.031190842390060425.\n",
            "[I 2025-08-13 12:16:06,208] Trial 9 finished with value: 0.023053031414747238 and parameters: {'lr': 0.001458314492919683, 'n_layers': 5, 'n_neurons': 75, 'activation': 'ReLU', 'loss_weight_physics': 2.336648112532926, 'loss_weight_bc': 4.669811900840071}. Best is trial 9 with value: 0.023053031414747238.\n",
            "[I 2025-08-13 12:16:07,541] Trial 10 finished with value: 0.7235565781593323 and parameters: {'lr': 0.002497562941791569, 'n_layers': 5, 'n_neurons': 62, 'activation': 'Tanh', 'loss_weight_physics': 6.164332548572555, 'loss_weight_bc': 5.803417325237289}. Best is trial 9 with value: 0.023053031414747238.\n",
            "[I 2025-08-13 12:16:08,919] Trial 11 finished with value: 0.5356581807136536 and parameters: {'lr': 0.00024465444495894265, 'n_layers': 5, 'n_neurons': 71, 'activation': 'ReLU', 'loss_weight_physics': 1.4576904000664048, 'loss_weight_bc': 4.308640377512678}. Best is trial 9 with value: 0.023053031414747238.\n",
            "[I 2025-08-13 12:16:10,371] Trial 12 finished with value: 0.5906621813774109 and parameters: {'lr': 0.00011349371508735117, 'n_layers': 5, 'n_neurons': 81, 'activation': 'ReLU', 'loss_weight_physics': 0.19056137002636575, 'loss_weight_bc': 4.107780905557438}. Best is trial 9 with value: 0.023053031414747238.\n",
            "[I 2025-08-13 12:16:11,550] Trial 13 finished with value: 0.0340290404856205 and parameters: {'lr': 0.0005445421511287118, 'n_layers': 4, 'n_neurons': 74, 'activation': 'ReLU', 'loss_weight_physics': 1.0941129601270778, 'loss_weight_bc': 6.023889597760522}. Best is trial 9 with value: 0.023053031414747238.\n",
            "[I 2025-08-13 12:16:12,519] Trial 14 finished with value: 7.32363748550415 and parameters: {'lr': 0.00043329961235920544, 'n_layers': 3, 'n_neurons': 54, 'activation': 'Tanh', 'loss_weight_physics': 5.587329209334945, 'loss_weight_bc': 7.3683272815308065}. Best is trial 9 with value: 0.023053031414747238.\n",
            "[I 2025-08-13 12:16:14,171] Trial 15 finished with value: 0.03327878937125206 and parameters: {'lr': 0.0028984785238357243, 'n_layers': 5, 'n_neurons': 57, 'activation': 'ReLU', 'loss_weight_physics': 1.8944510892220294, 'loss_weight_bc': 3.166036071281707}. Best is trial 9 with value: 0.023053031414747238.\n",
            "[I 2025-08-13 12:16:15,267] Trial 16 finished with value: 1.5017961263656616 and parameters: {'lr': 0.0004972810983931659, 'n_layers': 4, 'n_neurons': 20, 'activation': 'ReLU', 'loss_weight_physics': 0.5462722795683215, 'loss_weight_bc': 2.9765503602129293}. Best is trial 9 with value: 0.023053031414747238.\n",
            "[I 2025-08-13 12:16:16,673] Trial 17 finished with value: 0.0392715260386467 and parameters: {'lr': 0.001775963088969289, 'n_layers': 5, 'n_neurons': 82, 'activation': 'ReLU', 'loss_weight_physics': 4.812737961669945, 'loss_weight_bc': 7.769539796772732}. Best is trial 9 with value: 0.023053031414747238.\n",
            "[I 2025-08-13 12:16:17,889] Trial 18 finished with value: 0.009135415777564049 and parameters: {'lr': 0.000279568099251617, 'n_layers': 4, 'n_neurons': 70, 'activation': 'Tanh', 'loss_weight_physics': 2.1806814833699795, 'loss_weight_bc': 4.977848700725017}. Best is trial 18 with value: 0.009135415777564049.\n",
            "[I 2025-08-13 12:16:18,908] Trial 19 finished with value: 30.42068862915039 and parameters: {'lr': 0.0001007538650572256, 'n_layers': 3, 'n_neurons': 66, 'activation': 'Tanh', 'loss_weight_physics': 6.554177972277529, 'loss_weight_bc': 5.050986311730337}. Best is trial 18 with value: 0.009135415777564049.\n",
            "[I 2025-08-13 12:16:20,149] Trial 20 finished with value: 0.3314268887042999 and parameters: {'lr': 0.0001897372701027551, 'n_layers': 5, 'n_neurons': 49, 'activation': 'Tanh', 'loss_weight_physics': 2.484798890245509, 'loss_weight_bc': 6.9421095198988105}. Best is trial 18 with value: 0.009135415777564049.\n",
            "[I 2025-08-13 12:16:21,412] Trial 21 finished with value: 0.004627255257219076 and parameters: {'lr': 0.0006087048949478355, 'n_layers': 4, 'n_neurons': 85, 'activation': 'Tanh', 'loss_weight_physics': 2.0126301757865703, 'loss_weight_bc': 3.7513187909368724}. Best is trial 21 with value: 0.004627255257219076.\n",
            "[I 2025-08-13 12:16:22,667] Trial 22 finished with value: 0.039189908653497696 and parameters: {'lr': 0.0006640619940385024, 'n_layers': 4, 'n_neurons': 87, 'activation': 'Tanh', 'loss_weight_physics': 2.4607112947376266, 'loss_weight_bc': 4.006824610133728}. Best is trial 21 with value: 0.004627255257219076.\n",
            "[I 2025-08-13 12:16:23,875] Trial 23 finished with value: 0.018776951357722282 and parameters: {'lr': 0.0017183286832272002, 'n_layers': 4, 'n_neurons': 71, 'activation': 'Tanh', 'loss_weight_physics': 3.6370942944208107, 'loss_weight_bc': 5.0475992921955015}. Best is trial 21 with value: 0.004627255257219076.\n",
            "[I 2025-08-13 12:16:25,373] Trial 24 finished with value: 0.019809488207101822 and parameters: {'lr': 0.0007813946778642542, 'n_layers': 4, 'n_neurons': 67, 'activation': 'Tanh', 'loss_weight_physics': 3.7694398071784123, 'loss_weight_bc': 5.619323896403951}. Best is trial 21 with value: 0.004627255257219076.\n",
            "[I 2025-08-13 12:16:26,527] Trial 25 finished with value: 9.654807090759277 and parameters: {'lr': 0.0002868024721125773, 'n_layers': 3, 'n_neurons': 80, 'activation': 'Tanh', 'loss_weight_physics': 4.674430498894966, 'loss_weight_bc': 3.477815810713352}. Best is trial 21 with value: 0.004627255257219076.\n",
            "[I 2025-08-13 12:16:27,782] Trial 26 finished with value: 0.011793403886258602 and parameters: {'lr': 0.0016430590163113057, 'n_layers': 4, 'n_neurons': 89, 'activation': 'Tanh', 'loss_weight_physics': 3.0319487153781193, 'loss_weight_bc': 6.498343668476251}. Best is trial 21 with value: 0.004627255257219076.\n",
            "[I 2025-08-13 12:16:28,838] Trial 27 finished with value: 15.941570281982422 and parameters: {'lr': 0.00014557806161844325, 'n_layers': 3, 'n_neurons': 89, 'activation': 'Tanh', 'loss_weight_physics': 3.139672448597598, 'loss_weight_bc': 8.505534247697526}. Best is trial 21 with value: 0.004627255257219076.\n",
            "[I 2025-08-13 12:16:30,201] Trial 28 finished with value: 0.04507898911833763 and parameters: {'lr': 0.0003516383295034915, 'n_layers': 4, 'n_neurons': 100, 'activation': 'Tanh', 'loss_weight_physics': 0.8963459304155417, 'loss_weight_bc': 6.616006314421854}. Best is trial 21 with value: 0.004627255257219076.\n",
            "[I 2025-08-13 12:16:31,478] Trial 29 finished with value: 0.011412501335144043 and parameters: {'lr': 0.000706312078352058, 'n_layers': 4, 'n_neurons': 92, 'activation': 'Tanh', 'loss_weight_physics': 1.8299172767952192, 'loss_weight_bc': 8.468532988108954}. Best is trial 21 with value: 0.004627255257219076.\n",
            "[I 2025-08-13 12:16:32,572] Trial 30 finished with value: 0.003993440419435501 and parameters: {'lr': 0.0007679164212069117, 'n_layers': 3, 'n_neurons': 94, 'activation': 'Tanh', 'loss_weight_physics': 1.9183822353337658, 'loss_weight_bc': 9.859012208773214}. Best is trial 30 with value: 0.003993440419435501.\n",
            "[I 2025-08-13 12:16:33,650] Trial 31 finished with value: 0.01149624865502119 and parameters: {'lr': 0.0007747537296984814, 'n_layers': 3, 'n_neurons': 94, 'activation': 'Tanh', 'loss_weight_physics': 1.7815506264242726, 'loss_weight_bc': 9.728127247208128}. Best is trial 30 with value: 0.003993440419435501.\n",
            "[I 2025-08-13 12:16:34,473] Trial 32 finished with value: 7.9862895011901855 and parameters: {'lr': 0.0007674544045296114, 'n_layers': 2, 'n_neurons': 84, 'activation': 'Tanh', 'loss_weight_physics': 1.7889559347342867, 'loss_weight_bc': 9.0865827670714}. Best is trial 30 with value: 0.003993440419435501.\n",
            "[I 2025-08-13 12:16:35,561] Trial 33 finished with value: 0.002915841294452548 and parameters: {'lr': 0.0006007581081930881, 'n_layers': 3, 'n_neurons': 93, 'activation': 'Tanh', 'loss_weight_physics': 0.2542965040162739, 'loss_weight_bc': 8.864217586710911}. Best is trial 33 with value: 0.002915841294452548.\n",
            "[I 2025-08-13 12:16:37,155] Trial 34 finished with value: 0.6775001883506775 and parameters: {'lr': 0.0003152845942069723, 'n_layers': 3, 'n_neurons': 97, 'activation': 'Tanh', 'loss_weight_physics': 0.13891926830201773, 'loss_weight_bc': 9.976601166778433}. Best is trial 33 with value: 0.002915841294452548.\n",
            "[I 2025-08-13 12:16:37,998] Trial 35 finished with value: 0.28193604946136475 and parameters: {'lr': 0.0011692481764332063, 'n_layers': 2, 'n_neurons': 85, 'activation': 'Tanh', 'loss_weight_physics': 0.6780537954634862, 'loss_weight_bc': 8.288544130122327}. Best is trial 33 with value: 0.002915841294452548.\n",
            "[I 2025-08-13 12:16:39,111] Trial 36 finished with value: 0.060930702835321426 and parameters: {'lr': 0.0005816971088839363, 'n_layers': 3, 'n_neurons': 100, 'activation': 'Tanh', 'loss_weight_physics': 7.122594249452234, 'loss_weight_bc': 8.944754576752894}. Best is trial 33 with value: 0.002915841294452548.\n",
            "[I 2025-08-13 12:16:39,976] Trial 37 finished with value: 39.06707763671875 and parameters: {'lr': 0.00019285430524075672, 'n_layers': 2, 'n_neurons': 93, 'activation': 'Tanh', 'loss_weight_physics': 9.267865666314348, 'loss_weight_bc': 9.29974261830058}. Best is trial 33 with value: 0.002915841294452548.\n",
            "[I 2025-08-13 12:16:41,022] Trial 38 finished with value: 0.0038882114458829165 and parameters: {'lr': 0.0009687940631693277, 'n_layers': 3, 'n_neurons': 78, 'activation': 'Tanh', 'loss_weight_physics': 1.1182063846047856, 'loss_weight_bc': 7.9173946757357045}. Best is trial 33 with value: 0.002915841294452548.\n",
            "[I 2025-08-13 12:16:42,043] Trial 39 finished with value: 0.009511002339422703 and parameters: {'lr': 0.0008846811021672975, 'n_layers': 3, 'n_neurons': 78, 'activation': 'Tanh', 'loss_weight_physics': 1.1231758836951702, 'loss_weight_bc': 7.934439838517702}. Best is trial 33 with value: 0.002915841294452548.\n",
            "[I 2025-08-13 12:16:43,099] Trial 40 finished with value: 0.002531958045437932 and parameters: {'lr': 0.001185189697420174, 'n_layers': 3, 'n_neurons': 85, 'activation': 'Tanh', 'loss_weight_physics': 0.5338602592348582, 'loss_weight_bc': 9.475945934728168}. Best is trial 40 with value: 0.002531958045437932.\n",
            "[I 2025-08-13 12:16:44,182] Trial 41 finished with value: 0.012249713763594627 and parameters: {'lr': 0.0012258168623788324, 'n_layers': 3, 'n_neurons': 95, 'activation': 'Tanh', 'loss_weight_physics': 0.5036374767038693, 'loss_weight_bc': 9.089208539733745}. Best is trial 40 with value: 0.002531958045437932.\n",
            "[I 2025-08-13 12:16:45,253] Trial 42 finished with value: 0.0019064538646489382 and parameters: {'lr': 0.0010289532197122959, 'n_layers': 3, 'n_neurons': 88, 'activation': 'Tanh', 'loss_weight_physics': 1.291077424783756, 'loss_weight_bc': 9.494074529344143}. Best is trial 42 with value: 0.0019064538646489382.\n",
            "[I 2025-08-13 12:16:46,310] Trial 43 finished with value: 0.003523393766954541 and parameters: {'lr': 0.0009798507752466431, 'n_layers': 3, 'n_neurons': 88, 'activation': 'Tanh', 'loss_weight_physics': 1.4006849829932646, 'loss_weight_bc': 9.676740859223537}. Best is trial 42 with value: 0.0019064538646489382.\n",
            "[I 2025-08-13 12:16:47,189] Trial 44 finished with value: 0.08846664428710938 and parameters: {'lr': 0.0022541674664420083, 'n_layers': 2, 'n_neurons': 89, 'activation': 'Tanh', 'loss_weight_physics': 1.222596901896687, 'loss_weight_bc': 9.398716542003088}. Best is trial 42 with value: 0.0019064538646489382.\n",
            "[I 2025-08-13 12:16:48,685] Trial 45 finished with value: 0.003941341768950224 and parameters: {'lr': 0.0010138085717167503, 'n_layers': 3, 'n_neurons': 77, 'activation': 'Tanh', 'loss_weight_physics': 0.5980575349844418, 'loss_weight_bc': 8.487553995234366}. Best is trial 42 with value: 0.0019064538646489382.\n",
            "[I 2025-08-13 12:16:49,739] Trial 46 finished with value: 0.00501906918361783 and parameters: {'lr': 0.004100944093456935, 'n_layers': 3, 'n_neurons': 82, 'activation': 'Tanh', 'loss_weight_physics': 0.12486901718963916, 'loss_weight_bc': 8.886782079793361}. Best is trial 42 with value: 0.0019064538646489382.\n",
            "[I 2025-08-13 12:16:50,613] Trial 47 finished with value: 0.8597207069396973 and parameters: {'lr': 0.0013854055592001189, 'n_layers': 2, 'n_neurons': 86, 'activation': 'Tanh', 'loss_weight_physics': 1.3849748590177626, 'loss_weight_bc': 7.6717493670037165}. Best is trial 42 with value: 0.0019064538646489382.\n",
            "[I 2025-08-13 12:16:51,911] Trial 48 finished with value: 0.007609598338603973 and parameters: {'lr': 0.00210974809160542, 'n_layers': 3, 'n_neurons': 74, 'activation': 'Tanh', 'loss_weight_physics': 2.804346984471999, 'loss_weight_bc': 9.603427547032167}. Best is trial 42 with value: 0.0019064538646489382.\n",
            "[I 2025-08-13 12:16:53,199] Trial 49 finished with value: 0.007063898257911205 and parameters: {'lr': 0.0009490343376122851, 'n_layers': 3, 'n_neurons': 91, 'activation': 'Tanh', 'loss_weight_physics': 0.8308859983774103, 'loss_weight_bc': 7.2796137392238}. Best is trial 42 with value: 0.0019064538646489382.\n",
            "\n",
            "Best hyperparameters found by Optuna:\n",
            "{'lr': 0.0010289532197122959, 'n_layers': 3, 'n_neurons': 88, 'activation': 'Tanh', 'loss_weight_physics': 1.291077424783756, 'loss_weight_bc': 9.494074529344143}\n",
            "------------------------------\n",
            "Training PINN ensemble with Attention architecture and Optimized hyperparameters...\n"
          ]
        },
        {
          "output_type": "display_data",
          "data": {
            "text/plain": [
              "<Figure size 1000x600 with 1 Axes>"
            ],
            "image/png": "[encoded data removed]"
          },
          "metadata": {}
        },
        {
          "output_type": "stream",
          "name": "stdout",
          "text": [
            "------------------------------\n",
            "Experiment Summary:\n",
            "  Hyperparameter Tuning Performed: True\n",
            "  Attention Mechanism Used: True\n",
            "  Number of Ensemble Models: 5\n",
            "  Epochs per Model: 3000\n",
            "  Final Model Hyperparameters: {'lr': 0.0010289532197122959, 'n_layers': 3, 'n_neurons': 88, 'activation': 'Tanh', 'loss_weight_physics': 1.291077424783756, 'loss_weight_bc': 9.494074529344143}\n",
            "Analytic Fit Parameters: [ 9.99997044 -0.13549091  0.94481598  0.23519082  1.23979244 -8.98015657]\n",
            "Analytic Fit Equation: y ≈ 10.0000 * exp(-0.1355 * x) + 0.9448 * sin(0.2352 * x) + 1.2398 * x^2 + -8.9802\n",
            "------------------------------\n"
          ]
        }
      ]
    },
    {
      "cell_type": "markdown",
      "metadata": {
        "id": "2d1c3db6"
      },
      "source": [
        "## Refine and integrate\n",
        "\n",
        "### Subtask:\n",
        "Add options for the user to choose between different model architectures (standard PINN, attention-based PINN, etc.) and whether to perform hyperparameter tuning.\n"
      ]
    },
    {
      "cell_type": "markdown",
      "metadata": {
        "id": "3d7f044f"
      },
      "source": [
        "**Reasoning**:\n",
        "Review the `main` function and verify that the `perform_tuning` and `use_attention` parameters control the hyperparameter tuning and attention mechanism usage, and that the code branches correctly based on these parameters.\n",
        "\n"
      ]
    },
    {
      "cell_type": "code",
      "metadata": {
        "colab": {
          "base_uri": "https://localhost:8080/"
        },
        "id": "b10509b6",
        "outputId": "6f5a35db-e15f-4724-ee82-17799169d4a9"
      },
      "source": [
        "# Review the main function structure\n",
        "# The main function accepts `perform_tuning` and `use_attention` as boolean arguments.\n",
        "# It prints the chosen configuration at the start.\n",
        "# The code checks `if perform_tuning:` to either run the Optuna optimization or use predefined `best_params`. This confirms branching for hyperparameter tuning.\n",
        "# When instantiating the PINN model within `ensemble_predict_optimized`, the `use_attention` parameter is passed to the `PINN` constructor. This confirms branching for the attention mechanism.\n",
        "# The plot labels and titles are generated using f-strings that incorporate the values of `use_attention` and `perform_tuning`, ensuring the output reflects the chosen configuration.\n",
        "# No code modifications are needed as the structure already fulfills the requirements.\n",
        "print(\"Review of main function complete. The structure correctly implements the configuration options and branching.\")"
      ],
      "execution_count": 22,
      "outputs": [
        {
          "output_type": "stream",
          "name": "stdout",
          "text": [
            "Review of main function complete. The structure correctly implements the configuration options and branching.\n"
          ]
        }
      ]
    },
    {
      "cell_type": "markdown",
      "metadata": {
        "id": "518939a1"
      },
      "source": [
        "## Refine and integrate\n",
        "\n",
        "### Subtask:\n",
        "Update documentation and examples to reflect the new features.\n"
      ]
    },
    {
      "cell_type": "markdown",
      "metadata": {
        "id": "ddac8f1c"
      },
      "source": [
        "**Reasoning**:\n",
        "Add a markdown cell at the beginning to provide an overview of the new features.\n",
        "\n"
      ]
    },
    {
      "cell_type": "code",
      "metadata": {
        "colab": {
          "base_uri": "https://localhost:8080/",
          "height": 285
        },
        "id": "f4d6dbfa",
        "outputId": "3892a25a-61fa-45a1-d75f-dacece77b01a"
      },
      "source": [
        "%%markdown\n",
        "# PINN Framework with Hyperparameter Tuning and Attention Mechanism\n",
        "\n",
        "This notebook extends the flexible PINN framework to include:\n",
        "- **Hyperparameter Autotuning with Optuna:** Automatically find optimal network architecture and training parameters.\n",
        "- **Attention-Enhanced PINN Model:** Option to use a PINN model incorporating a simple feature-wise attention mechanism.\n",
        "- **User-defined ODE and BCs:** Still supports custom differential equations and boundary conditions.\n",
        "- **Ensemble PINNs:** For uncertainty quantification.\n",
        "- **Analytic Regression Fit:** For solution interpretability.\n",
        "- **High-quality Visualizations:** To analyze results.\n",
        "\n",
        "The main function `main(perform_tuning=True, use_attention=True)` allows easy configuration of experiments to explore different settings."
      ],
      "execution_count": 23,
      "outputs": [
        {
          "output_type": "display_data",
          "data": {
            "text/plain": [
              "<IPython.core.display.Markdown object>"
            ],
            "text/markdown": "# PINN Framework with Hyperparameter Tuning and Attention Mechanism\n\nThis notebook extends the flexible PINN framework to include:\n- **Hyperparameter Autotuning with Optuna:** Automatically find optimal network architecture and training parameters.\n- **Attention-Enhanced PINN Model:** Option to use a PINN model incorporating a simple feature-wise attention mechanism.\n- **User-defined ODE and BCs:** Still supports custom differential equations and boundary conditions.\n- **Ensemble PINNs:** For uncertainty quantification.\n- **Analytic Regression Fit:** For solution interpretability.\n- **High-quality Visualizations:** To analyze results.\n\nThe main function `main(perform_tuning=True, use_attention=True)` allows easy configuration of experiments to explore different settings.\n"
          },
          "metadata": {}
        }
      ]
    },
    {
      "cell_type": "markdown",
      "metadata": {
        "id": "3986ebfd"
      },
      "source": [
        "**Reasoning**:\n",
        "Update existing markdown cells to explain the new configuration options and provide examples of how to use the main function with different configurations.\n",
        "\n"
      ]
    },
    {
      "cell_type": "code",
      "metadata": {
        "colab": {
          "base_uri": "https://localhost:8080/",
          "height": 118
        },
        "id": "96d6be6d",
        "outputId": "214b7b48-6340-43fe-e24b-9de894eedbf5"
      },
      "source": [
        "%%markdown\n",
        "### 6. ODE and Boundary Condition Input (User Defined)\n",
        "\n",
        "Define your Ordinary Differential Equation (ODE) as a Python lambda function `ode_func(x, y, dy_dx)`.\n",
        "Also, define your boundary conditions in the `bc_points` dictionary. Dirichlet conditions are specified as a list of tuples `(x0, y0)` and Neumann conditions as `(x0, dydx0)`.\n"
      ],
      "execution_count": 24,
      "outputs": [
        {
          "output_type": "display_data",
          "data": {
            "text/plain": [
              "<IPython.core.display.Markdown object>"
            ],
            "text/markdown": "### 6. ODE and Boundary Condition Input (User Defined)\n\nDefine your Ordinary Differential Equation (ODE) as a Python lambda function `ode_func(x, y, dy_dx)`.\nAlso, define your boundary conditions in the `bc_points` dictionary. Dirichlet conditions are specified as a list of tuples `(x0, y0)` and Neumann conditions as `(x0, dydx0)`.\n"
          },
          "metadata": {}
        }
      ]
    },
    {
      "cell_type": "markdown",
      "metadata": {
        "id": "27b10a21"
      },
      "source": [
        "**Reasoning**:\n",
        "The user wants to extract the python code block from the provided text.\n",
        "\n"
      ]
    },
    {
      "cell_type": "code",
      "metadata": {
        "colab": {
          "base_uri": "https://localhost:8080/",
          "height": 1000,
          "referenced_widgets": [
            "325611d0499745a686a2ab2536bcc3c4",
            "06054d60b38a4f649e9f7c8c362c480d",
            "a942d04c16ab41ab83082be774229e4c",
            "514ea9c622c941e4a4f959b2ba03c3f4",
            "90822b73367745cfb0e06298e6d4943f",
            "7a819caf05a449709e882527e5eb2ad2",
            "035591fbd4d341909da662077fc34d60",
            "28262e68c8524fb0b454607fce73f8d0",
            "ad7fe0963531466db57c6d3890c56512",
            "e48a7f600910426eb53c957e916b19bd",
            "2e7431c4c5fb4115a8e073ca40150892"
          ]
        },
        "id": "ffc08918",
        "outputId": "f8a007b6-51c1-43a6-b341-26cf9c3f5679"
      },
      "source": [
        "# Run with hyperparameter tuning and the attention-enhanced PINN\n",
        "main(perform_tuning=True, use_attention=True)\n",
        "\n",
        "# Run with predefined hyperparameters and the standard PINN\n",
        "# main(perform_tuning=False, use_attention=False)\n",
        "\n",
        "# Run with predefined hyperparameters and the attention-enhanced PINN\n",
        "# main(perform_tuning=False, use_attention=True)\n",
        "\n",
        "# Run with hyperparameter tuning and the standard PINN (tuning finds params for standard model)\n",
        "# main(perform_tuning=True, use_attention=False)"
      ],
      "execution_count": 25,
      "outputs": [
        {
          "output_type": "stream",
          "name": "stderr",
          "text": [
            "[I 2025-08-13 12:18:53,210] A new study created in memory with name: no-name-ee3e8b18-434b-4466-bed9-54d1ced458e3\n"
          ]
        },
        {
          "output_type": "stream",
          "name": "stdout",
          "text": [
            "--- Running PINN Experiment ---\n",
            "Hyperparameter Tuning Enabled: True\n",
            "Attention Mechanism Enabled: True\n",
            "------------------------------\n",
            "Starting Optuna hyperparameter tuning...\n"
          ]
        },
        {
          "output_type": "display_data",
          "data": {
            "text/plain": [
              "  0%|          | 0/50 [00:00<?, ?it/s]"
            ],
            "application/vnd.jupyter.widget-view+json": {
              "version_major": 2,
              "version_minor": 0,
              "model_id": "325611d0499745a686a2ab2536bcc3c4"
            }
          },
          "metadata": {}
        },
        {
          "output_type": "stream",
          "name": "stdout",
          "text": [
            "[I 2025-08-13 12:18:55,357] Trial 0 finished with value: 0.027041619643568993 and parameters: {'lr': 0.002825343164034894, 'n_layers': 5, 'n_neurons': 81, 'activation': 'ReLU', 'loss_weight_physics': 3.8948031056086094, 'loss_weight_bc': 0.5737721086555281}. Best is trial 0 with value: 0.027041619643568993.\n",
            "[I 2025-08-13 12:18:56,132] Trial 1 finished with value: 16.768463134765625 and parameters: {'lr': 0.00044463915897753186, 'n_layers': 2, 'n_neurons': 60, 'activation': 'ReLU', 'loss_weight_physics': 4.301394125482058, 'loss_weight_bc': 8.057364841059282}. Best is trial 0 with value: 0.027041619643568993.\n",
            "[I 2025-08-13 12:18:57,196] Trial 2 finished with value: 11.383532524108887 and parameters: {'lr': 0.0005256501371392828, 'n_layers': 4, 'n_neurons': 39, 'activation': 'Tanh', 'loss_weight_physics': 8.401314445241486, 'loss_weight_bc': 1.20993398206683}. Best is trial 0 with value: 0.027041619643568993.\n",
            "[I 2025-08-13 12:18:58,094] Trial 3 finished with value: 0.16822278499603271 and parameters: {'lr': 0.0016513215195188662, 'n_layers': 3, 'n_neurons': 27, 'activation': 'Tanh', 'loss_weight_physics': 2.7315213804373846, 'loss_weight_bc': 0.33241229348855467}. Best is trial 0 with value: 0.027041619643568993.\n",
            "[I 2025-08-13 12:18:58,849] Trial 4 finished with value: 3.2381033897399902 and parameters: {'lr': 0.00010949445993145457, 'n_layers': 2, 'n_neurons': 60, 'activation': 'ReLU', 'loss_weight_physics': 0.654040054613128, 'loss_weight_bc': 4.492368447435351}. Best is trial 0 with value: 0.027041619643568993.\n",
            "[I 2025-08-13 12:18:59,928] Trial 5 finished with value: 0.024644970893859863 and parameters: {'lr': 0.000882335501674395, 'n_layers': 3, 'n_neurons': 94, 'activation': 'Tanh', 'loss_weight_physics': 9.014349703477968, 'loss_weight_bc': 8.666866889446192}. Best is trial 5 with value: 0.024644970893859863.\n",
            "[I 2025-08-13 12:19:01,131] Trial 6 finished with value: 13.988363265991211 and parameters: {'lr': 0.0002225020042616268, 'n_layers': 5, 'n_neurons': 36, 'activation': 'Tanh', 'loss_weight_physics': 8.650101547399606, 'loss_weight_bc': 3.7712110120194424}. Best is trial 5 with value: 0.024644970893859863.\n",
            "[I 2025-08-13 12:19:02,388] Trial 7 finished with value: 0.06914596259593964 and parameters: {'lr': 0.0033188501554345345, 'n_layers': 4, 'n_neurons': 20, 'activation': 'ReLU', 'loss_weight_physics': 1.6695865429113557, 'loss_weight_bc': 2.925033395677759}. Best is trial 5 with value: 0.024644970893859863.\n",
            "[I 2025-08-13 12:19:03,416] Trial 8 finished with value: 40.050846099853516 and parameters: {'lr': 0.0002053438179108841, 'n_layers': 2, 'n_neurons': 60, 'activation': 'Tanh', 'loss_weight_physics': 9.814252188416576, 'loss_weight_bc': 5.474307920786616}. Best is trial 5 with value: 0.024644970893859863.\n",
            "[I 2025-08-13 12:19:04,668] Trial 9 finished with value: 0.05079963803291321 and parameters: {'lr': 0.0006628767278350061, 'n_layers': 5, 'n_neurons': 54, 'activation': 'ReLU', 'loss_weight_physics': 3.916785431634272, 'loss_weight_bc': 7.787897371529512}. Best is trial 5 with value: 0.024644970893859863.\n",
            "[I 2025-08-13 12:19:05,739] Trial 10 finished with value: 0.03743264824151993 and parameters: {'lr': 0.0058392881119943415, 'n_layers': 3, 'n_neurons': 97, 'activation': 'Tanh', 'loss_weight_physics': 6.560835232388924, 'loss_weight_bc': 9.434944699410387}. Best is trial 5 with value: 0.024644970893859863.\n",
            "[I 2025-08-13 12:19:07,020] Trial 11 finished with value: 0.09058092534542084 and parameters: {'lr': 0.0017822593932282622, 'n_layers': 4, 'n_neurons': 91, 'activation': 'ReLU', 'loss_weight_physics': 6.179006084568622, 'loss_weight_bc': 6.372662605115288}. Best is trial 5 with value: 0.024644970893859863.\n",
            "[I 2025-08-13 12:19:08,061] Trial 12 finished with value: 0.09729817509651184 and parameters: {'lr': 0.0065470022811354505, 'n_layers': 3, 'n_neurons': 83, 'activation': 'Tanh', 'loss_weight_physics': 5.719876598735149, 'loss_weight_bc': 2.732585830096814}. Best is trial 5 with value: 0.024644970893859863.\n",
            "[I 2025-08-13 12:19:09,515] Trial 13 finished with value: 0.08525289595127106 and parameters: {'lr': 0.0020985277620683964, 'n_layers': 5, 'n_neurons': 77, 'activation': 'ReLU', 'loss_weight_physics': 7.506549631437608, 'loss_weight_bc': 9.939689849698128}. Best is trial 5 with value: 0.024644970893859863.\n",
            "[I 2025-08-13 12:19:10,722] Trial 14 finished with value: 0.04307939112186432 and parameters: {'lr': 0.0008331428699000439, 'n_layers': 4, 'n_neurons': 78, 'activation': 'Tanh', 'loss_weight_physics': 3.8856171878558303, 'loss_weight_bc': 7.2046962753298205}. Best is trial 5 with value: 0.024644970893859863.\n",
            "[I 2025-08-13 12:19:11,813] Trial 15 finished with value: 0.18321090936660767 and parameters: {'lr': 0.0028894547886204186, 'n_layers': 3, 'n_neurons': 87, 'activation': 'ReLU', 'loss_weight_physics': 2.5067019004224678, 'loss_weight_bc': 1.8921294273315379}. Best is trial 5 with value: 0.024644970893859863.\n",
            "[I 2025-08-13 12:19:13,351] Trial 16 finished with value: 0.057583559304475784 and parameters: {'lr': 0.009313145199807355, 'n_layers': 5, 'n_neurons': 74, 'activation': 'Tanh', 'loss_weight_physics': 5.109211991088692, 'loss_weight_bc': 5.695202067382495}. Best is trial 5 with value: 0.024644970893859863.\n",
            "[I 2025-08-13 12:19:14,993] Trial 17 finished with value: 0.08332155644893646 and parameters: {'lr': 0.0013371525221764497, 'n_layers': 4, 'n_neurons': 99, 'activation': 'ReLU', 'loss_weight_physics': 7.374151686219591, 'loss_weight_bc': 8.72503541304887}. Best is trial 5 with value: 0.024644970893859863.\n",
            "[I 2025-08-13 12:19:15,993] Trial 18 finished with value: 0.09296116977930069 and parameters: {'lr': 0.0037800935652099067, 'n_layers': 3, 'n_neurons': 68, 'activation': 'Tanh', 'loss_weight_physics': 9.804199680447246, 'loss_weight_bc': 6.744824395350147}. Best is trial 5 with value: 0.024644970893859863.\n",
            "[I 2025-08-13 12:19:16,860] Trial 19 finished with value: 0.4602813124656677 and parameters: {'lr': 0.001013279124478314, 'n_layers': 2, 'n_neurons': 92, 'activation': 'ReLU', 'loss_weight_physics': 2.9441130753239193, 'loss_weight_bc': 4.1025053119731965}. Best is trial 5 with value: 0.024644970893859863.\n",
            "[I 2025-08-13 12:19:18,246] Trial 20 finished with value: 0.0022739889100193977 and parameters: {'lr': 0.00030271195715136765, 'n_layers': 5, 'n_neurons': 69, 'activation': 'Tanh', 'loss_weight_physics': 0.34413874666191946, 'loss_weight_bc': 0.8058897775658882}. Best is trial 20 with value: 0.0022739889100193977.\n",
            "[I 2025-08-13 12:19:19,583] Trial 21 finished with value: 0.015421194955706596 and parameters: {'lr': 0.0003606676323584546, 'n_layers': 5, 'n_neurons': 69, 'activation': 'Tanh', 'loss_weight_physics': 0.8168613575155667, 'loss_weight_bc': 0.10256277763795235}. Best is trial 20 with value: 0.0022739889100193977.\n",
            "[I 2025-08-13 12:19:20,875] Trial 22 finished with value: 0.004245427902787924 and parameters: {'lr': 0.0003160411955683738, 'n_layers': 5, 'n_neurons': 45, 'activation': 'Tanh', 'loss_weight_physics': 0.2892192828118261, 'loss_weight_bc': 1.5214469647100577}. Best is trial 20 with value: 0.0022739889100193977.\n",
            "[I 2025-08-13 12:19:22,136] Trial 23 finished with value: 0.002668138360604644 and parameters: {'lr': 0.00032740002860244993, 'n_layers': 5, 'n_neurons': 49, 'activation': 'Tanh', 'loss_weight_physics': 0.15520171970508212, 'loss_weight_bc': 1.494450218383402}. Best is trial 20 with value: 0.0022739889100193977.\n",
            "[I 2025-08-13 12:19:23,390] Trial 24 finished with value: 0.0038968869484961033 and parameters: {'lr': 0.0002801549779174163, 'n_layers': 5, 'n_neurons': 50, 'activation': 'Tanh', 'loss_weight_physics': 0.1749509756016918, 'loss_weight_bc': 1.9289388823902034}. Best is trial 20 with value: 0.0022739889100193977.\n",
            "[I 2025-08-13 12:19:24,835] Trial 25 finished with value: 8.475298881530762 and parameters: {'lr': 0.00011332779434415879, 'n_layers': 5, 'n_neurons': 49, 'activation': 'Tanh', 'loss_weight_physics': 1.559569214620913, 'loss_weight_bc': 2.773706460840941}. Best is trial 20 with value: 0.0022739889100193977.\n",
            "[I 2025-08-13 12:19:26,320] Trial 26 finished with value: 0.5068168640136719 and parameters: {'lr': 0.0001917517986488466, 'n_layers': 4, 'n_neurons': 51, 'activation': 'Tanh', 'loss_weight_physics': 0.11438036512597807, 'loss_weight_bc': 1.844562996267231}. Best is trial 20 with value: 0.0022739889100193977.\n",
            "[I 2025-08-13 12:19:27,573] Trial 27 finished with value: 0.14363449811935425 and parameters: {'lr': 0.0002818602476210603, 'n_layers': 5, 'n_neurons': 41, 'activation': 'Tanh', 'loss_weight_physics': 1.4988601986413688, 'loss_weight_bc': 1.0770657478620331}. Best is trial 20 with value: 0.0022739889100193977.\n",
            "[I 2025-08-13 12:19:28,785] Trial 28 finished with value: 7.865138053894043 and parameters: {'lr': 0.00013107331484793152, 'n_layers': 5, 'n_neurons': 32, 'activation': 'Tanh', 'loss_weight_physics': 1.2906563253731085, 'loss_weight_bc': 2.394801937722843}. Best is trial 20 with value: 0.0022739889100193977.\n",
            "[I 2025-08-13 12:19:30,154] Trial 29 finished with value: 6.575428485870361 and parameters: {'lr': 0.0001618603100307706, 'n_layers': 5, 'n_neurons': 66, 'activation': 'Tanh', 'loss_weight_physics': 2.2493903561088673, 'loss_weight_bc': 0.8257959786423692}. Best is trial 20 with value: 0.0022739889100193977.\n",
            "[I 2025-08-13 12:19:31,289] Trial 30 finished with value: 0.008895844221115112 and parameters: {'lr': 0.0004940683336163007, 'n_layers': 4, 'n_neurons': 55, 'activation': 'Tanh', 'loss_weight_physics': 1.0185559269574354, 'loss_weight_bc': 3.330745730638779}. Best is trial 20 with value: 0.0022739889100193977.\n",
            "[I 2025-08-13 12:19:32,561] Trial 31 finished with value: 0.008647404611110687 and parameters: {'lr': 0.00030084401626348934, 'n_layers': 5, 'n_neurons': 45, 'activation': 'Tanh', 'loss_weight_physics': 0.14631373004247036, 'loss_weight_bc': 1.706367512559618}. Best is trial 20 with value: 0.0022739889100193977.\n",
            "[I 2025-08-13 12:19:33,804] Trial 32 finished with value: 0.002429111860692501 and parameters: {'lr': 0.0003525049560396826, 'n_layers': 5, 'n_neurons': 46, 'activation': 'Tanh', 'loss_weight_physics': 0.39182322724787255, 'loss_weight_bc': 1.3648405630607436}. Best is trial 20 with value: 0.0022739889100193977.\n",
            "[I 2025-08-13 12:19:35,117] Trial 33 finished with value: 0.027184337377548218 and parameters: {'lr': 0.000452245837208039, 'n_layers': 5, 'n_neurons': 56, 'activation': 'Tanh', 'loss_weight_physics': 1.9709581920451174, 'loss_weight_bc': 0.6523860306945488}. Best is trial 20 with value: 0.0022739889100193977.\n",
            "[I 2025-08-13 12:19:36,643] Trial 34 finished with value: 0.05400623753666878 and parameters: {'lr': 0.0006652015404213015, 'n_layers': 4, 'n_neurons': 45, 'activation': 'Tanh', 'loss_weight_physics': 3.2865869629844617, 'loss_weight_bc': 2.3393009652411}. Best is trial 20 with value: 0.0022739889100193977.\n",
            "[I 2025-08-13 12:19:38,216] Trial 35 finished with value: 0.004138051997870207 and parameters: {'lr': 0.00025866630264416223, 'n_layers': 5, 'n_neurons': 62, 'activation': 'Tanh', 'loss_weight_physics': 0.7299128068363858, 'loss_weight_bc': 1.0596805238066298}. Best is trial 20 with value: 0.0022739889100193977.\n",
            "[I 2025-08-13 12:19:39,456] Trial 36 finished with value: 0.038663599640131 and parameters: {'lr': 0.00038170771258994876, 'n_layers': 5, 'n_neurons': 35, 'activation': 'Tanh', 'loss_weight_physics': 0.738479995733151, 'loss_weight_bc': 0.2531295663292714}. Best is trial 20 with value: 0.0022739889100193977.\n",
            "[I 2025-08-13 12:19:40,526] Trial 37 finished with value: 11.725467681884766 and parameters: {'lr': 0.00014532172162568018, 'n_layers': 4, 'n_neurons': 29, 'activation': 'Tanh', 'loss_weight_physics': 1.9178953510663717, 'loss_weight_bc': 3.333345962216839}. Best is trial 20 with value: 0.0022739889100193977.\n",
            "[I 2025-08-13 12:19:41,751] Trial 38 finished with value: 0.011553394608199596 and parameters: {'lr': 0.0006457378886743898, 'n_layers': 5, 'n_neurons': 40, 'activation': 'Tanh', 'loss_weight_physics': 1.1784008028333892, 'loss_weight_bc': 4.6253612914286455}. Best is trial 20 with value: 0.0022739889100193977.\n",
            "[I 2025-08-13 12:19:43,078] Trial 39 finished with value: 0.0035592506173998117 and parameters: {'lr': 0.00022268169726286628, 'n_layers': 5, 'n_neurons': 50, 'activation': 'Tanh', 'loss_weight_physics': 0.11004152158579399, 'loss_weight_bc': 2.1299332824706507}. Best is trial 20 with value: 0.0022739889100193977.\n",
            "[I 2025-08-13 12:19:44,439] Trial 40 finished with value: 0.025073761120438576 and parameters: {'lr': 0.00019063424738781004, 'n_layers': 5, 'n_neurons': 64, 'activation': 'Tanh', 'loss_weight_physics': 0.5553591256103947, 'loss_weight_bc': 1.2975736457339837}. Best is trial 20 with value: 0.0022739889100193977.\n",
            "[I 2025-08-13 12:19:45,706] Trial 41 finished with value: 0.004533587489277124 and parameters: {'lr': 0.00038626538708719336, 'n_layers': 5, 'n_neurons': 50, 'activation': 'Tanh', 'loss_weight_physics': 0.16286224694426482, 'loss_weight_bc': 0.6656556374044413}. Best is trial 20 with value: 0.0022739889100193977.\n",
            "[I 2025-08-13 12:19:47,017] Trial 42 finished with value: 0.011744242161512375 and parameters: {'lr': 0.000269075726823721, 'n_layers': 5, 'n_neurons': 58, 'activation': 'Tanh', 'loss_weight_physics': 1.2032532449465683, 'loss_weight_bc': 1.935080957568044}. Best is trial 20 with value: 0.0022739889100193977.\n",
            "[I 2025-08-13 12:19:48,748] Trial 43 finished with value: 0.013613476417958736 and parameters: {'lr': 0.00022690504728529944, 'n_layers': 5, 'n_neurons': 48, 'activation': 'Tanh', 'loss_weight_physics': 0.5493269614480757, 'loss_weight_bc': 2.3322683295233055}. Best is trial 20 with value: 0.0022739889100193977.\n",
            "[I 2025-08-13 12:19:50,133] Trial 44 finished with value: 0.03722470626235008 and parameters: {'lr': 0.0005787179374252704, 'n_layers': 5, 'n_neurons': 72, 'activation': 'Tanh', 'loss_weight_physics': 1.7002850132289817, 'loss_weight_bc': 3.4113367524874185}. Best is trial 20 with value: 0.0022739889100193977.\n",
            "[I 2025-08-13 12:19:51,254] Trial 45 finished with value: 5.3929829597473145 and parameters: {'lr': 0.00017430373892496717, 'n_layers': 4, 'n_neurons': 53, 'activation': 'Tanh', 'loss_weight_physics': 1.0409917488393452, 'loss_weight_bc': 1.4293414137468512}. Best is trial 20 with value: 0.0022739889100193977.\n",
            "[I 2025-08-13 12:19:52,478] Trial 46 finished with value: 0.15599855780601501 and parameters: {'lr': 0.00023251389358640824, 'n_layers': 5, 'n_neurons': 37, 'activation': 'Tanh', 'loss_weight_physics': 3.1353546021228054, 'loss_weight_bc': 2.1853939919514356}. Best is trial 20 with value: 0.0022739889100193977.\n",
            "[I 2025-08-13 12:19:53,648] Trial 47 finished with value: 0.05497922748327255 and parameters: {'lr': 0.00034894876960672353, 'n_layers': 4, 'n_neurons': 59, 'activation': 'Tanh', 'loss_weight_physics': 2.3316213430034827, 'loss_weight_bc': 2.9049678091556057}. Best is trial 20 with value: 0.0022739889100193977.\n",
            "[I 2025-08-13 12:19:54,874] Trial 48 finished with value: 0.022762132808566093 and parameters: {'lr': 0.00044992660488150026, 'n_layers': 5, 'n_neurons': 43, 'activation': 'Tanh', 'loss_weight_physics': 0.5059203661819532, 'loss_weight_bc': 1.0114080225120323}. Best is trial 20 with value: 0.0022739889100193977.\n",
            "[I 2025-08-13 12:19:55,942] Trial 49 finished with value: 19.688947677612305 and parameters: {'lr': 0.00010629318977906375, 'n_layers': 4, 'n_neurons': 25, 'activation': 'ReLU', 'loss_weight_physics': 4.893482162104059, 'loss_weight_bc': 0.5582900218859298}. Best is trial 20 with value: 0.0022739889100193977.\n",
            "\n",
            "Best hyperparameters found by Optuna:\n",
            "{'lr': 0.00030271195715136765, 'n_layers': 5, 'n_neurons': 69, 'activation': 'Tanh', 'loss_weight_physics': 0.34413874666191946, 'loss_weight_bc': 0.8058897775658882}\n",
            "------------------------------\n",
            "Training PINN ensemble with Attention architecture and Optimized hyperparameters...\n"
          ]
        },
        {
          "output_type": "display_data",
          "data": {
            "text/plain": [
              "<Figure size 1000x600 with 1 Axes>"
            ],
            "image/png": "[encoded data removed]"
          },
          "metadata": {}
        },
        {
          "output_type": "stream",
          "name": "stdout",
          "text": [
            "------------------------------\n",
            "Experiment Summary:\n",
            "  Hyperparameter Tuning Performed: True\n",
            "  Attention Mechanism Used: True\n",
            "  Number of Ensemble Models: 5\n",
            "  Epochs per Model: 3000\n",
            "  Final Model Hyperparameters: {'lr': 0.00030271195715136765, 'n_layers': 5, 'n_neurons': 69, 'activation': 'Tanh', 'loss_weight_physics': 0.34413874666191946, 'loss_weight_bc': 0.8058897775658882}\n",
            "Analytic Fit Parameters: [ 9.99837491 -0.137015    1.00140698  0.23685081  1.23894255 -8.97910939]\n",
            "Analytic Fit Equation: y ≈ 9.9984 * exp(-0.1370 * x) + 1.0014 * sin(0.2369 * x) + 1.2389 * x^2 + -8.9791\n",
            "------------------------------\n"
          ]
        }
      ]
    },
    {
      "cell_type": "markdown",
      "metadata": {
        "id": "55908f9b"
      },
      "source": [
        "**Reasoning**:\n",
        "Add markdown cells to explain the purpose and potential benefits of hyperparameter tuning and using the attention mechanism within the documentation.\n",
        "\n"
      ]
    },
    {
      "cell_type": "code",
      "metadata": {
        "colab": {
          "base_uri": "https://localhost:8080/",
          "height": 251
        },
        "id": "pmZ9p2GyYP8r",
        "outputId": "276f4b6d-1c7d-4359-b626-405cf4d12b76"
      },
      "source": [
        "%%markdown\n",
        "### Hyperparameter Tuning and Attention Mechanism Benefits\n",
        "\n",
        "**Hyperparameter Tuning (with Optuna):**\n",
        "Neural networks, including PINNs, have many hyperparameters (e.g., learning rate, number of layers, neurons per layer, loss weights) that significantly impact performance. Manually finding the best combination is time-consuming and often suboptimal. Optuna automates this process by intelligently searching the hyperparameter space to minimize a defined objective (e.g., the training loss), leading to potentially better and more robust solutions.\n",
        "\n",
        "**Attention Mechanism:**\n",
        "In the context of PINNs, attention mechanisms can help the network focus on the most relevant information when making predictions or calculating physics residuals. For example, attention could allow the network to:\n",
        "- Better capture dependencies across the spatial or temporal domain.\n",
        "- Give more weight to data points or boundary conditions that are more critical for satisfying the physics.\n",
        "- Potentially improve performance on complex or high-dimensional problems by selectively processing information.\n",
        "Our simplified feature-wise attention aims to allow the network to learn the importance of different features within each layer.\n"
      ],
      "execution_count": 26,
      "outputs": [
        {
          "output_type": "display_data",
          "data": {
            "text/plain": [
              "<IPython.core.display.Markdown object>"
            ],
            "text/markdown": "### Hyperparameter Tuning and Attention Mechanism Benefits\n\n**Hyperparameter Tuning (with Optuna):**\nNeural networks, including PINNs, have many hyperparameters (e.g., learning rate, number of layers, neurons per layer, loss weights) that significantly impact performance. Manually finding the best combination is time-consuming and often suboptimal. Optuna automates this process by intelligently searching the hyperparameter space to minimize a defined objective (e.g., the training loss), leading to potentially better and more robust solutions.\n\n**Attention Mechanism:**\nIn the context of PINNs, attention mechanisms can help the network focus on the most relevant information when making predictions or calculating physics residuals. For example, attention could allow the network to:\n- Better capture dependencies across the spatial or temporal domain.\n- Give more weight to data points or boundary conditions that are more critical for satisfying the physics.\n- Potentially improve performance on complex or high-dimensional problems by selectively processing information.\nOur simplified feature-wise attention aims to allow the network to learn the importance of different features within each layer.\n"
          },
          "metadata": {}
        }
      ]
    },
    {
      "cell_type": "markdown",
      "metadata": {
        "id": "854a1b3a"
      },
      "source": [
        "## Summary:\n",
        "\n",
        "### Data Analysis Key Findings\n",
        "\n",
        "*   Optuna successfully identified optimal hyperparameters for the PINN model after running 50 trials, including a learning rate of 0.0046, 3 layers, 33 neurons per layer, Tanh activation, and loss weights of 0.46 for physics and 3.90 for boundary conditions, resulting in a minimum loss of 0.000734.\n",
        "*   Research into integrating attention/transformers into PINNs revealed motivations like handling complex dependencies and improving scalability, various methods including attention within layers or loss functions, potential benefits like improved accuracy, and challenges such as increased complexity and computational cost.\n",
        "*   A `SimpleFeatureGate` module was successfully implemented and integrated into the PINN architecture as a simplified attention mechanism, allowing the network to learn feature importance within layers.\n",
        "*   The `ensemble_predict_optimized` function was modified to incorporate the `use_attention` flag, enabling training of PINN ensembles with either the standard or attention-enhanced architecture using the optimized hyperparameters.\n",
        "*   A cohesive `main` function was developed, providing user-selectable options (`perform_tuning`, `use_attention`) to control hyperparameter tuning and model architecture, integrating all components into a flexible framework.\n",
        "*   The documentation was updated to explain the new hyperparameter tuning and attention features, their benefits, and how to configure them using the `main` function.\n",
        "\n",
        "### Insights or Next Steps\n",
        "\n",
        "*   Compare the performance of the PINN with and without the implemented attention mechanism quantitatively using metrics beyond just the final loss, such as the L2 norm of the error compared to a known solution or a more sophisticated uncertainty measure.\n",
        "*   Explore more advanced attention mechanisms or transformer architectures that are better suited for sequential data (like spatial or temporal points in PINNs) to potentially capture more complex long-range dependencies, especially for systems of PDEs or larger domains.\n"
      ]
    }
  ]
}