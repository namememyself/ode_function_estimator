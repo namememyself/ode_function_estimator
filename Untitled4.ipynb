{
  "nbformat": 4,
  "nbformat_minor": 0,
  "metadata": {
    "colab": {
      "provenance": [],
      "gpuType": "T4"
    },
    "kernelspec": {
      "name": "python3",
      "display_name": "Python 3"
    },
    "language_info": {
      "name": "python"
    },
    "accelerator": "GPU",
    "widgets": {
      "application/vnd.jupyter.widget-state+json": {
        "8b74cf28c77e4d30a163d29158c642af": {
          "model_module": "@jupyter-widgets/controls",
          "model_name": "HBoxModel",
          "model_module_version": "1.5.0",
          "state": {
            "_dom_classes": [],
            "_model_module": "@jupyter-widgets/controls",
            "_model_module_version": "1.5.0",
            "_model_name": "HBoxModel",
            "_view_count": null,
            "_view_module": "@jupyter-widgets/controls",
            "_view_module_version": "1.5.0",
            "_view_name": "HBoxView",
            "box_style": "",
            "children": [
              "IPY_MODEL_1f71bc9115704749b2c40129f1013ebe",
              "IPY_MODEL_6bf1fad51d2443eea68660211ee6a2ee",
              "IPY_MODEL_ee38737928474dbd934cbcf06b201a66"
            ],
            "layout": "IPY_MODEL_e7f999cce7ad4c75a93ae41e49c43ce7"
          }
        },
        "1f71bc9115704749b2c40129f1013ebe": {
          "model_module": "@jupyter-widgets/controls",
          "model_name": "HTMLModel",
          "model_module_version": "1.5.0",
          "state": {
            "_dom_classes": [],
            "_model_module": "@jupyter-widgets/controls",
            "_model_module_version": "1.5.0",
            "_model_name": "HTMLModel",
            "_view_count": null,
            "_view_module": "@jupyter-widgets/controls",
            "_view_module_version": "1.5.0",
            "_view_name": "HTMLView",
            "description": "",
            "description_tooltip": null,
            "layout": "IPY_MODEL_e610835d19b7498b8cbbb046687724f6",
            "placeholder": "​",
            "style": "IPY_MODEL_d64290a867554827b7a1b8df449f9e44",
            "value": "Best trial: 23. Best value: 0.00133344: 100%"
          }
        },
        "6bf1fad51d2443eea68660211ee6a2ee": {
          "model_module": "@jupyter-widgets/controls",
          "model_name": "FloatProgressModel",
          "model_module_version": "1.5.0",
          "state": {
            "_dom_classes": [],
            "_model_module": "@jupyter-widgets/controls",
            "_model_module_version": "1.5.0",
            "_model_name": "FloatProgressModel",
            "_view_count": null,
            "_view_module": "@jupyter-widgets/controls",
            "_view_module_version": "1.5.0",
            "_view_name": "ProgressView",
            "bar_style": "success",
            "description": "",
            "description_tooltip": null,
            "layout": "IPY_MODEL_8487fff5ab894f29a337b4c578b2e410",
            "max": 50,
            "min": 0,
            "orientation": "horizontal",
            "style": "IPY_MODEL_2c613ae1f3794938a8c9c96c4881346b",
            "value": 50
          }
        },
        "ee38737928474dbd934cbcf06b201a66": {
          "model_module": "@jupyter-widgets/controls",
          "model_name": "HTMLModel",
          "model_module_version": "1.5.0",
          "state": {
            "_dom_classes": [],
            "_model_module": "@jupyter-widgets/controls",
            "_model_module_version": "1.5.0",
            "_model_name": "HTMLModel",
            "_view_count": null,
            "_view_module": "@jupyter-widgets/controls",
            "_view_module_version": "1.5.0",
            "_view_name": "HTMLView",
            "description": "",
            "description_tooltip": null,
            "layout": "IPY_MODEL_38890e50dcf64684921f48d337beb873",
            "placeholder": "​",
            "style": "IPY_MODEL_3d6fa4340b3644429f94205ff37d4b60",
            "value": " 50/50 [01:05&lt;00:00,  1.26s/it]"
          }
        },
        "e7f999cce7ad4c75a93ae41e49c43ce7": {
          "model_module": "@jupyter-widgets/base",
          "model_name": "LayoutModel",
          "model_module_version": "1.2.0",
          "state": {
            "_model_module": "@jupyter-widgets/base",
            "_model_module_version": "1.2.0",
            "_model_name": "LayoutModel",
            "_view_count": null,
            "_view_module": "@jupyter-widgets/base",
            "_view_module_version": "1.2.0",
            "_view_name": "LayoutView",
            "align_content": null,
            "align_items": null,
            "align_self": null,
            "border": null,
            "bottom": null,
            "display": null,
            "flex": null,
            "flex_flow": null,
            "grid_area": null,
            "grid_auto_columns": null,
            "grid_auto_flow": null,
            "grid_auto_rows": null,
            "grid_column": null,
            "grid_gap": null,
            "grid_row": null,
            "grid_template_areas": null,
            "grid_template_columns": null,
            "grid_template_rows": null,
            "height": null,
            "justify_content": null,
            "justify_items": null,
            "left": null,
            "margin": null,
            "max_height": null,
            "max_width": null,
            "min_height": null,
            "min_width": null,
            "object_fit": null,
            "object_position": null,
            "order": null,
            "overflow": null,
            "overflow_x": null,
            "overflow_y": null,
            "padding": null,
            "right": null,
            "top": null,
            "visibility": null,
            "width": null
          }
        },
        "e610835d19b7498b8cbbb046687724f6": {
          "model_module": "@jupyter-widgets/base",
          "model_name": "LayoutModel",
          "model_module_version": "1.2.0",
          "state": {
            "_model_module": "@jupyter-widgets/base",
            "_model_module_version": "1.2.0",
            "_model_name": "LayoutModel",
            "_view_count": null,
            "_view_module": "@jupyter-widgets/base",
            "_view_module_version": "1.2.0",
            "_view_name": "LayoutView",
            "align_content": null,
            "align_items": null,
            "align_self": null,
            "border": null,
            "bottom": null,
            "display": null,
            "flex": null,
            "flex_flow": null,
            "grid_area": null,
            "grid_auto_columns": null,
            "grid_auto_flow": null,
            "grid_auto_rows": null,
            "grid_column": null,
            "grid_gap": null,
            "grid_row": null,
            "grid_template_areas": null,
            "grid_template_columns": null,
            "grid_template_rows": null,
            "height": null,
            "justify_content": null,
            "justify_items": null,
            "left": null,
            "margin": null,
            "max_height": null,
            "max_width": null,
            "min_height": null,
            "min_width": null,
            "object_fit": null,
            "object_position": null,
            "order": null,
            "overflow": null,
            "overflow_x": null,
            "overflow_y": null,
            "padding": null,
            "right": null,
            "top": null,
            "visibility": null,
            "width": null
          }
        },
        "d64290a867554827b7a1b8df449f9e44": {
          "model_module": "@jupyter-widgets/controls",
          "model_name": "DescriptionStyleModel",
          "model_module_version": "1.5.0",
          "state": {
            "_model_module": "@jupyter-widgets/controls",
            "_model_module_version": "1.5.0",
            "_model_name": "DescriptionStyleModel",
            "_view_count": null,
            "_view_module": "@jupyter-widgets/base",
            "_view_module_version": "1.2.0",
            "_view_name": "StyleView",
            "description_width": ""
          }
        },
        "8487fff5ab894f29a337b4c578b2e410": {
          "model_module": "@jupyter-widgets/base",
          "model_name": "LayoutModel",
          "model_module_version": "1.2.0",
          "state": {
            "_model_module": "@jupyter-widgets/base",
            "_model_module_version": "1.2.0",
            "_model_name": "LayoutModel",
            "_view_count": null,
            "_view_module": "@jupyter-widgets/base",
            "_view_module_version": "1.2.0",
            "_view_name": "LayoutView",
            "align_content": null,
            "align_items": null,
            "align_self": null,
            "border": null,
            "bottom": null,
            "display": null,
            "flex": null,
            "flex_flow": null,
            "grid_area": null,
            "grid_auto_columns": null,
            "grid_auto_flow": null,
            "grid_auto_rows": null,
            "grid_column": null,
            "grid_gap": null,
            "grid_row": null,
            "grid_template_areas": null,
            "grid_template_columns": null,
            "grid_template_rows": null,
            "height": null,
            "justify_content": null,
            "justify_items": null,
            "left": null,
            "margin": null,
            "max_height": null,
            "max_width": null,
            "min_height": null,
            "min_width": null,
            "object_fit": null,
            "object_position": null,
            "order": null,
            "overflow": null,
            "overflow_x": null,
            "overflow_y": null,
            "padding": null,
            "right": null,
            "top": null,
            "visibility": null,
            "width": null
          }
        },
        "2c613ae1f3794938a8c9c96c4881346b": {
          "model_module": "@jupyter-widgets/controls",
          "model_name": "ProgressStyleModel",
          "model_module_version": "1.5.0",
          "state": {
            "_model_module": "@jupyter-widgets/controls",
            "_model_module_version": "1.5.0",
            "_model_name": "ProgressStyleModel",
            "_view_count": null,
            "_view_module": "@jupyter-widgets/base",
            "_view_module_version": "1.2.0",
            "_view_name": "StyleView",
            "bar_color": null,
            "description_width": ""
          }
        },
        "38890e50dcf64684921f48d337beb873": {
          "model_module": "@jupyter-widgets/base",
          "model_name": "LayoutModel",
          "model_module_version": "1.2.0",
          "state": {
            "_model_module": "@jupyter-widgets/base",
            "_model_module_version": "1.2.0",
            "_model_name": "LayoutModel",
            "_view_count": null,
            "_view_module": "@jupyter-widgets/base",
            "_view_module_version": "1.2.0",
            "_view_name": "LayoutView",
            "align_content": null,
            "align_items": null,
            "align_self": null,
            "border": null,
            "bottom": null,
            "display": null,
            "flex": null,
            "flex_flow": null,
            "grid_area": null,
            "grid_auto_columns": null,
            "grid_auto_flow": null,
            "grid_auto_rows": null,
            "grid_column": null,
            "grid_gap": null,
            "grid_row": null,
            "grid_template_areas": null,
            "grid_template_columns": null,
            "grid_template_rows": null,
            "height": null,
            "justify_content": null,
            "justify_items": null,
            "left": null,
            "margin": null,
            "max_height": null,
            "max_width": null,
            "min_height": null,
            "min_width": null,
            "object_fit": null,
            "object_position": null,
            "order": null,
            "overflow": null,
            "overflow_x": null,
            "overflow_y": null,
            "padding": null,
            "right": null,
            "top": null,
            "visibility": null,
            "width": null
          }
        },
        "3d6fa4340b3644429f94205ff37d4b60": {
          "model_module": "@jupyter-widgets/controls",
          "model_name": "DescriptionStyleModel",
          "model_module_version": "1.5.0",
          "state": {
            "_model_module": "@jupyter-widgets/controls",
            "_model_module_version": "1.5.0",
            "_model_name": "DescriptionStyleModel",
            "_view_count": null,
            "_view_module": "@jupyter-widgets/base",
            "_view_module_version": "1.2.0",
            "_view_name": "StyleView",
            "description_width": ""
          }
        },
        "a66d51de4b3244fabc7ee2faf7404376": {
          "model_module": "@jupyter-widgets/controls",
          "model_name": "HBoxModel",
          "model_module_version": "1.5.0",
          "state": {
            "_dom_classes": [],
            "_model_module": "@jupyter-widgets/controls",
            "_model_module_version": "1.5.0",
            "_model_name": "HBoxModel",
            "_view_count": null,
            "_view_module": "@jupyter-widgets/controls",
            "_view_module_version": "1.5.0",
            "_view_name": "HBoxView",
            "box_style": "",
            "children": [
              "IPY_MODEL_71339b83549b4fc99b7128c54ec58103",
              "IPY_MODEL_1edd907eb03e46778cef7da0f54da0bc",
              "IPY_MODEL_7428dbe2dd9f4165b007217f1bfaca04"
            ],
            "layout": "IPY_MODEL_be07c460f25c45f489c8eac350983121"
          }
        },
        "71339b83549b4fc99b7128c54ec58103": {
          "model_module": "@jupyter-widgets/controls",
          "model_name": "HTMLModel",
          "model_module_version": "1.5.0",
          "state": {
            "_dom_classes": [],
            "_model_module": "@jupyter-widgets/controls",
            "_model_module_version": "1.5.0",
            "_model_name": "HTMLModel",
            "_view_count": null,
            "_view_module": "@jupyter-widgets/controls",
            "_view_module_version": "1.5.0",
            "_view_name": "HTMLView",
            "description": "",
            "description_tooltip": null,
            "layout": "IPY_MODEL_ff2ee826922547ba9e253753cf28a826",
            "placeholder": "​",
            "style": "IPY_MODEL_1e2baa20d1f145c8ac8c1a9fe07ccc7a",
            "value": "Best trial: 43. Best value: 0.00190046: 100%"
          }
        },
        "1edd907eb03e46778cef7da0f54da0bc": {
          "model_module": "@jupyter-widgets/controls",
          "model_name": "FloatProgressModel",
          "model_module_version": "1.5.0",
          "state": {
            "_dom_classes": [],
            "_model_module": "@jupyter-widgets/controls",
            "_model_module_version": "1.5.0",
            "_model_name": "FloatProgressModel",
            "_view_count": null,
            "_view_module": "@jupyter-widgets/controls",
            "_view_module_version": "1.5.0",
            "_view_name": "ProgressView",
            "bar_style": "success",
            "description": "",
            "description_tooltip": null,
            "layout": "IPY_MODEL_10299109cda74f0badd6bc91638bf2a8",
            "max": 50,
            "min": 0,
            "orientation": "horizontal",
            "style": "IPY_MODEL_f6e69eff48c8491fba80fc574cb3dde4",
            "value": 50
          }
        },
        "7428dbe2dd9f4165b007217f1bfaca04": {
          "model_module": "@jupyter-widgets/controls",
          "model_name": "HTMLModel",
          "model_module_version": "1.5.0",
          "state": {
            "_dom_classes": [],
            "_model_module": "@jupyter-widgets/controls",
            "_model_module_version": "1.5.0",
            "_model_name": "HTMLModel",
            "_view_count": null,
            "_view_module": "@jupyter-widgets/controls",
            "_view_module_version": "1.5.0",
            "_view_name": "HTMLView",
            "description": "",
            "description_tooltip": null,
            "layout": "IPY_MODEL_ad14219ef1f0467e99501c43bace8199",
            "placeholder": "​",
            "style": "IPY_MODEL_fed751aa865e4c1bb023823cbf0f1057",
            "value": " 50/50 [00:59&lt;00:00,  1.31s/it]"
          }
        },
        "be07c460f25c45f489c8eac350983121": {
          "model_module": "@jupyter-widgets/base",
          "model_name": "LayoutModel",
          "model_module_version": "1.2.0",
          "state": {
            "_model_module": "@jupyter-widgets/base",
            "_model_module_version": "1.2.0",
            "_model_name": "LayoutModel",
            "_view_count": null,
            "_view_module": "@jupyter-widgets/base",
            "_view_module_version": "1.2.0",
            "_view_name": "LayoutView",
            "align_content": null,
            "align_items": null,
            "align_self": null,
            "border": null,
            "bottom": null,
            "display": null,
            "flex": null,
            "flex_flow": null,
            "grid_area": null,
            "grid_auto_columns": null,
            "grid_auto_flow": null,
            "grid_auto_rows": null,
            "grid_column": null,
            "grid_gap": null,
            "grid_row": null,
            "grid_template_areas": null,
            "grid_template_columns": null,
            "grid_template_rows": null,
            "height": null,
            "justify_content": null,
            "justify_items": null,
            "left": null,
            "margin": null,
            "max_height": null,
            "max_width": null,
            "min_height": null,
            "min_width": null,
            "object_fit": null,
            "object_position": null,
            "order": null,
            "overflow": null,
            "overflow_x": null,
            "overflow_y": null,
            "padding": null,
            "right": null,
            "top": null,
            "visibility": null,
            "width": null
          }
        },
        "ff2ee826922547ba9e253753cf28a826": {
          "model_module": "@jupyter-widgets/base",
          "model_name": "LayoutModel",
          "model_module_version": "1.2.0",
          "state": {
            "_model_module": "@jupyter-widgets/base",
            "_model_module_version": "1.2.0",
            "_model_name": "LayoutModel",
            "_view_count": null,
            "_view_module": "@jupyter-widgets/base",
            "_view_module_version": "1.2.0",
            "_view_name": "LayoutView",
            "align_content": null,
            "align_items": null,
            "align_self": null,
            "border": null,
            "bottom": null,
            "display": null,
            "flex": null,
            "flex_flow": null,
            "grid_area": null,
            "grid_auto_columns": null,
            "grid_auto_flow": null,
            "grid_auto_rows": null,
            "grid_column": null,
            "grid_gap": null,
            "grid_row": null,
            "grid_template_areas": null,
            "grid_template_columns": null,
            "grid_template_rows": null,
            "height": null,
            "justify_content": null,
            "justify_items": null,
            "left": null,
            "margin": null,
            "max_height": null,
            "max_width": null,
            "min_height": null,
            "min_width": null,
            "object_fit": null,
            "object_position": null,
            "order": null,
            "overflow": null,
            "overflow_x": null,
            "overflow_y": null,
            "padding": null,
            "right": null,
            "top": null,
            "visibility": null,
            "width": null
          }
        },
        "1e2baa20d1f145c8ac8c1a9fe07ccc7a": {
          "model_module": "@jupyter-widgets/controls",
          "model_name": "DescriptionStyleModel",
          "model_module_version": "1.5.0",
          "state": {
            "_model_module": "@jupyter-widgets/controls",
            "_model_module_version": "1.5.0",
            "_model_name": "DescriptionStyleModel",
            "_view_count": null,
            "_view_module": "@jupyter-widgets/base",
            "_view_module_version": "1.2.0",
            "_view_name": "StyleView",
            "description_width": ""
          }
        },
        "10299109cda74f0badd6bc91638bf2a8": {
          "model_module": "@jupyter-widgets/base",
          "model_name": "LayoutModel",
          "model_module_version": "1.2.0",
          "state": {
            "_model_module": "@jupyter-widgets/base",
            "_model_module_version": "1.2.0",
            "_model_name": "LayoutModel",
            "_view_count": null,
            "_view_module": "@jupyter-widgets/base",
            "_view_module_version": "1.2.0",
            "_view_name": "LayoutView",
            "align_content": null,
            "align_items": null,
            "align_self": null,
            "border": null,
            "bottom": null,
            "display": null,
            "flex": null,
            "flex_flow": null,
            "grid_area": null,
            "grid_auto_columns": null,
            "grid_auto_flow": null,
            "grid_auto_rows": null,
            "grid_column": null,
            "grid_gap": null,
            "grid_row": null,
            "grid_template_areas": null,
            "grid_template_columns": null,
            "grid_template_rows": null,
            "height": null,
            "justify_content": null,
            "justify_items": null,
            "left": null,
            "margin": null,
            "max_height": null,
            "max_width": null,
            "min_height": null,
            "min_width": null,
            "object_fit": null,
            "object_position": null,
            "order": null,
            "overflow": null,
            "overflow_x": null,
            "overflow_y": null,
            "padding": null,
            "right": null,
            "top": null,
            "visibility": null,
            "width": null
          }
        },
        "f6e69eff48c8491fba80fc574cb3dde4": {
          "model_module": "@jupyter-widgets/controls",
          "model_name": "ProgressStyleModel",
          "model_module_version": "1.5.0",
          "state": {
            "_model_module": "@jupyter-widgets/controls",
            "_model_module_version": "1.5.0",
            "_model_name": "ProgressStyleModel",
            "_view_count": null,
            "_view_module": "@jupyter-widgets/base",
            "_view_module_version": "1.2.0",
            "_view_name": "StyleView",
            "bar_color": null,
            "description_width": ""
          }
        },
        "ad14219ef1f0467e99501c43bace8199": {
          "model_module": "@jupyter-widgets/base",
          "model_name": "LayoutModel",
          "model_module_version": "1.2.0",
          "state": {
            "_model_module": "@jupyter-widgets/base",
            "_model_module_version": "1.2.0",
            "_model_name": "LayoutModel",
            "_view_count": null,
            "_view_module": "@jupyter-widgets/base",
            "_view_module_version": "1.2.0",
            "_view_name": "LayoutView",
            "align_content": null,
            "align_items": null,
            "align_self": null,
            "border": null,
            "bottom": null,
            "display": null,
            "flex": null,
            "flex_flow": null,
            "grid_area": null,
            "grid_auto_columns": null,
            "grid_auto_flow": null,
            "grid_auto_rows": null,
            "grid_column": null,
            "grid_gap": null,
            "grid_row": null,
            "grid_template_areas": null,
            "grid_template_columns": null,
            "grid_template_rows": null,
            "height": null,
            "justify_content": null,
            "justify_items": null,
            "left": null,
            "margin": null,
            "max_height": null,
            "max_width": null,
            "min_height": null,
            "min_width": null,
            "object_fit": null,
            "object_position": null,
            "order": null,
            "overflow": null,
            "overflow_x": null,
            "overflow_y": null,
            "padding": null,
            "right": null,
            "top": null,
            "visibility": null,
            "width": null
          }
        },
        "fed751aa865e4c1bb023823cbf0f1057": {
          "model_module": "@jupyter-widgets/controls",
          "model_name": "DescriptionStyleModel",
          "model_module_version": "1.5.0",
          "state": {
            "_model_module": "@jupyter-widgets/controls",
            "_model_module_version": "1.5.0",
            "_model_name": "DescriptionStyleModel",
            "_view_count": null,
            "_view_module": "@jupyter-widgets/base",
            "_view_module_version": "1.2.0",
            "_view_name": "StyleView",
            "description_width": ""
          }
        }
      }
    }
  },
  "cells": [
    {
      "cell_type": "code",
      "execution_count": 26,
      "metadata": {
        "id": "FB1I0Op6T3bJ"
      },
      "outputs": [],
      "source": []
    },
    {
      "cell_type": "markdown",
      "source": [
        " Physics-Informed Neural Network (PINN) Framework with Custom ODE Input & Advanced Features\n",
        "\n",
        "This notebook demonstrates a flexible, professional-grade PINN pipeline:\n",
        "- User-defined differential equation (via Python lambda)\n",
        "- Arbitrary Dirichlet/Neumann boundary conditions\n",
        "- Adaptable PINN architecture & training configuration\n",
        "- Solution uncertainty quantification (ensemble PINNs)\n",
        "- Analytic regression fit for solution interpretability\n",
        "- High-quality visualizations\n",
        "\n",
        "### 1. Imports and Notebook Setup\n"
      ],
      "metadata": {
        "id": "wkpQIhxzT73g"
      }
    },
    {
      "cell_type": "code",
      "source": [
        "import torch\n",
        "import torch.nn as nn\n",
        "import numpy as np\n",
        "import matplotlib.pyplot as plt\n",
        "from scipy.optimize import curve_fit\n",
        "import random\n",
        "from typing import Callable, Dict, List, Tuple\n"
      ],
      "metadata": {
        "id": "xh88hVNCT-mv"
      },
      "execution_count": 27,
      "outputs": []
    },
    {
      "cell_type": "markdown",
      "source": [
        "### 2. PINN Model Definition\n"
      ],
      "metadata": {
        "id": "yQHQvN0dUHc9"
      }
    },
    {
      "cell_type": "code",
      "source": [
        "class PINN(nn.Module):\n",
        "    def __init__(self, layers, activation=nn.Tanh):\n",
        "        super(PINN, self).__init__()\n",
        "        self.layers = nn.ModuleList()\n",
        "        for i in range(len(layers)-1):\n",
        "            self.layers.append(nn.Linear(layers[i], layers[i+1]))\n",
        "        self.activation = activation()\n",
        "        self._init_weights()\n",
        "\n",
        "    def forward(self, x):\n",
        "        for i in range(len(self.layers)-1):\n",
        "            x = self.activation(self.layers[i](x))\n",
        "        return self.layers[-1](x)\n",
        "\n",
        "    def _init_weights(self):\n",
        "        for layer in self.layers:\n",
        "            nn.init.xavier_normal_(layer.weight)\n",
        "            nn.init.zeros_(layer.bias)\n"
      ],
      "metadata": {
        "id": "dh1GTHBlUF_z"
      },
      "execution_count": 28,
      "outputs": []
    },
    {
      "cell_type": "markdown",
      "source": [
        "### 3. Physics Loss & Flexible Boundary Condition Handling\n",
        "\n"
      ],
      "metadata": {
        "id": "qE6LeSGHUMrV"
      }
    },
    {
      "cell_type": "code",
      "source": [
        "def physics_loss(model, x, ode_func: Callable):\n",
        "    x.requires_grad = True\n",
        "    y = model(x)\n",
        "    dy_dx = torch.autograd.grad(y, x, grad_outputs=torch.ones_like(y), create_graph=True)[0]\n",
        "    # ODE must take (x, y, dy_dx) and output the residual\n",
        "    pde = ode_func(x, y, dy_dx)\n",
        "    return torch.mean(pde**2)\n",
        "\n",
        "def boundary_loss(model, bc_points: Dict[str, List[Tuple[torch.Tensor, float]]]):\n",
        "    loss = 0.\n",
        "    for x0, y0 in bc_points.get('dirichlet', []):\n",
        "        pred = model(x0)\n",
        "        loss += (pred - y0)**2\n",
        "    for x0, dydx0 in bc_points.get('neumann', []):\n",
        "        x0.requires_grad = True\n",
        "        pred = model(x0)\n",
        "        dydx = torch.autograd.grad(pred, x0, grad_outputs=torch.ones_like(pred), create_graph=True)[0]\n",
        "        loss += (dydx - dydx0)**2\n",
        "    return loss\n"
      ],
      "metadata": {
        "id": "CE-rtWxwUPOX"
      },
      "execution_count": 29,
      "outputs": []
    },
    {
      "cell_type": "markdown",
      "source": [
        "### 4. Training Loop for PINN (Single & Ensemble for Uncertainty)\n",
        "\n"
      ],
      "metadata": {
        "id": "R3UOsQ7CURR0"
      }
    },
    {
      "cell_type": "code",
      "source": [
        "def train_pinn(\n",
        "    model, optimizer, epochs, x_f_train, bc_points, ode_func, verbose=False, loss_weights=(1.0, 1.0)\n",
        "):\n",
        "    for epoch in range(epochs):\n",
        "        optimizer.zero_grad()\n",
        "        loss_pde = physics_loss(model, x_f_train, ode_func)\n",
        "        loss_bc = boundary_loss(model, bc_points)\n",
        "        loss = loss_weights[0] * loss_pde + loss_weights[1] * loss_bc\n",
        "        loss.backward()\n",
        "        optimizer.step()\n",
        "        if verbose and epoch % 500 == 0:\n",
        "            print(f\"Epoch {epoch}: Loss = {loss.item():.6f}, PDE Loss = {loss_pde.item():.6f}, BC Loss = {loss_bc.item():.6f}\")\n",
        "\n",
        "def ensemble_predict(\n",
        "    n_ensembles, pinn_args, x_f_train, bc_points, ode_func, x_eval, epochs=2000\n",
        "):\n",
        "    preds = []\n",
        "    for i in range(n_ensembles):\n",
        "        torch.manual_seed(i)\n",
        "        np.random.seed(i)\n",
        "        random.seed(i)\n",
        "        model = PINN(**pinn_args)\n",
        "        optimizer = torch.optim.Adam(model.parameters(), lr=1e-3)\n",
        "        train_pinn(model, optimizer, epochs, x_f_train, bc_points, ode_func, verbose=False)\n",
        "        pred = model(torch.tensor(x_eval, dtype=torch.float32)).detach().numpy().squeeze()\n",
        "        preds.append(pred)\n",
        "    return np.mean(preds, axis=0), np.std(preds, axis=0)"
      ],
      "metadata": {
        "id": "-570mxeCUT7c"
      },
      "execution_count": 30,
      "outputs": []
    },
    {
      "cell_type": "markdown",
      "source": [
        "### 5. Analytic Fit (Mixed Polynomial + Trigonometric + Exponential)\n"
      ],
      "metadata": {
        "id": "nhidmSZQUZ4J"
      }
    },
    {
      "cell_type": "code",
      "source": [
        "def analytic_fit_func(x, a, b, c, d, e, f):\n",
        "    return a*np.exp(b*x) + c*np.sin(d*x) + e*x**2 + f\n",
        "\n",
        "def perform_analytic_fit(x, y):\n",
        "    initial_guess = [1.0, -0.5, 1.0, 1.0, 0.1, 0.0]\n",
        "    bounds = ([-10, -5, -10, -10, -10, -10], [10, 5, 10, 10, 10, 10])\n",
        "    params, _ = curve_fit(analytic_fit_func, x.flatten(), y, p0=initial_guess, bounds=bounds, maxfev=20000)\n",
        "    return params\n"
      ],
      "metadata": {
        "id": "6kCCHM0yUb00"
      },
      "execution_count": 31,
      "outputs": []
    },
    {
      "cell_type": "markdown",
      "source": [
        "### 6. ODE and Boundary Condition Input (User Defined)\n"
      ],
      "metadata": {
        "id": "jhScddUOUgdL"
      }
    },
    {
      "cell_type": "code",
      "source": [
        "\n",
        "def example_ode(x, y, dy_dx):\n",
        "    # x, y, dy_dx are torch tensors\n",
        "    return dy_dx - (x**3 + 2*x + (x**2 * ((1+3*x**2) / (1 + x + x**3))) - ((x + (1+3*(x**2)) / (1 + x + x**3)) * y))\n",
        "\n"
      ],
      "metadata": {
        "id": "O-ZmZAdpUeP2"
      },
      "execution_count": 32,
      "outputs": []
    },
    {
      "cell_type": "markdown",
      "source": [
        "### 7. Main Script: Training, Prediction, Plotting, Uncertainty, Analytic Fit\n"
      ],
      "metadata": {
        "id": "QvHlozqAUnI3"
      }
    },
    {
      "cell_type": "code",
      "source": [
        "# Network, domain, and training settings\n",
        "layers = [1, 50, 50, 50, 1]\n",
        "x_domain = (0, 2)\n",
        "N_f = 50\n",
        "epochs = 3000\n",
        "\n",
        "# Choose ODE function here (user can edit/replace with their own)\n",
        "ode_func = example_ode\n",
        "\n",
        "# Boundary/initial conditions definition (customizable, add Neumann if desired)\n",
        "bc_points = {\n",
        "    'dirichlet': [\n",
        "        (torch.tensor([[0.0]]), torch.tensor([[1.0]])),  # y(0) = 1.0\n",
        "    ],\n",
        "    # 'neumann': [\n",
        "    #     (torch.tensor([[2.0]], requires_grad=True), torch.tensor([[0.0]])), # dy/dx(2) = 0, example\n",
        "    # ]\n",
        "}\n",
        "\n",
        "# Collocation points\n",
        "x_f_train = torch.linspace(*x_domain, N_f).view(-1, 1)\n",
        "\n",
        "# Train ensemble of PINNs for uncertainty estimation\n",
        "n_ensembles = 5\n",
        "pinn_args = {'layers': layers, 'activation': nn.Tanh}\n",
        "x_eval = np.linspace(*x_domain, 200).reshape(-1, 1)\n",
        "mean_pred, std_pred = ensemble_predict(\n",
        "    n_ensembles, pinn_args, x_f_train, bc_points, ode_func, x_eval, epochs=epochs\n",
        ")\n",
        "\n",
        "# Analytic fit\n",
        "params = perform_analytic_fit(x_eval.flatten(), mean_pred)\n",
        "analytic_curve = analytic_fit_func(x_eval.flatten(), *params)\n"
      ],
      "metadata": {
        "id": "Q3JycR3RUltk"
      },
      "execution_count": 33,
      "outputs": []
    },
    {
      "cell_type": "markdown",
      "source": [
        "### 8. Visualization: PINN Mean, Analytic Fit, Uncertainty Bands\n"
      ],
      "metadata": {
        "id": "ClBr2zR7UpiY"
      }
    },
    {
      "cell_type": "code",
      "source": [
        "plt.figure(figsize=(10,6))\n",
        "plt.plot(x_eval, mean_pred, 'r-', label='PINN Ensemble Mean')\n",
        "plt.fill_between(x_eval.flatten(), mean_pred-std_pred, mean_pred+std_pred, alpha=0.18, color='r', label='PINN Uncertainty')\n",
        "plt.plot(x_eval, analytic_curve, 'g--', label='Analytic Fit')\n",
        "plt.xlabel(\"x\")\n",
        "plt.ylabel(\"y\")\n",
        "plt.title(\"PINN Solution, Analytic Fit, and Uncertainty\")\n",
        "plt.legend()\n",
        "plt.show()\n",
        "\n",
        "print(\"Analytic Fit Parameters:\", params)\n",
        "print(f\"y ≈ {params[0]:.4f} * exp({params[1]:.4f} * x) + {params[2]:.4f} * sin({params[3]:.4f} * x) + {params[4]:.4f} * x^2 + {params[5]:.4f}\")"
      ],
      "metadata": {
        "colab": {
          "base_uri": "https://localhost:8080/",
          "height": 599
        },
        "id": "dmOYJ343UrKp",
        "outputId": "c55f652b-f334-4951-f643-238827368ef2"
      },
      "execution_count": 34,
      "outputs": [
        {
          "output_type": "display_data",
          "data": {
            "text/plain": [
              "<Figure size 1000x600 with 1 Axes>"
            ],
            "image/png": "[encoded data removed]"
          },
          "metadata": {}
        },
        {
          "output_type": "stream",
          "name": "stdout",
          "text": [
            "Analytic Fit Parameters: [ 9.99999975 -0.1997563   2.70788986  0.29553064  1.19665461 -8.96741718]\n",
            "y ≈ 10.0000 * exp(-0.1998 * x) + 2.7079 * sin(0.2955 * x) + 1.1967 * x^2 + -8.9674\n"
          ]
        }
      ]
    },
    {
      "cell_type": "code",
      "source": [],
      "metadata": {
        "id": "cmeR4DXmUs_0"
      },
      "execution_count": 34,
      "outputs": []
    },
    {
      "cell_type": "markdown",
      "metadata": {
        "id": "a04503ec"
      },
      "source": [
        "# Task\n",
        "Implement hyperparameter autotuning using Optuna and explore the integration of attention/transformers into the provided PINN code."
      ]
    },
    {
      "cell_type": "markdown",
      "metadata": {
        "id": "d70e8fd9"
      },
      "source": [
        "## Implement hyperparameter autotuning with optuna\n",
        "\n",
        "### Subtask:\n",
        "Define an objective function for Optuna that trains a PINN model with a given set of hyperparameters and returns a metric to minimize (e.g., the total loss after training).\n"
      ]
    },
    {
      "cell_type": "markdown",
      "metadata": {
        "id": "7f0c60d4"
      },
      "source": [
        "**Reasoning**:\n",
        "Define the objective function for Optuna including hyperparameter sampling, model training, and loss calculation.\n",
        "\n"
      ]
    },
    {
      "cell_type": "code",
      "metadata": {
        "collapsed": true,
        "id": "c6facf6a"
      },
      "source": [
        "import optuna\n",
        "\n",
        "def objective(trial):\n",
        "    # Define hyperparameters to tune\n",
        "    lr = trial.suggest_float('lr', 1e-4, 1e-2, log=True)\n",
        "    n_layers = trial.suggest_int('n_layers', 2, 5)\n",
        "    n_neurons = trial.suggest_int('n_neurons', 20, 100)\n",
        "    activation_name = trial.suggest_categorical('activation', ['Tanh', 'ReLU'])\n",
        "    loss_weight_physics = trial.suggest_float('loss_weight_physics', 0.1, 10.0)\n",
        "    loss_weight_bc = trial.suggest_float('loss_weight_bc', 0.1, 10.0)\n",
        "\n",
        "    # Map activation name to torch activation function\n",
        "    activation = nn.Tanh if activation_name == 'Tanh' else nn.ReLU\n",
        "\n",
        "    # Create layers list based on sampled hyperparameters\n",
        "    layers = [1] + [n_neurons] * n_layers + [1]\n",
        "\n",
        "    # Instantiate model and optimizer\n",
        "    model = PINN(layers=layers, activation=activation)\n",
        "    optimizer = torch.optim.Adam(model.parameters(), lr=lr)\n",
        "\n",
        "    # Training data (reusing existing)\n",
        "    x_domain = (0, 2)\n",
        "    N_f = 50\n",
        "    x_f_train = torch.linspace(*x_domain, N_f).view(-1, 1)\n",
        "    bc_points = {\n",
        "        'dirichlet': [\n",
        "            (torch.tensor([[0.0]]), torch.tensor([[1.0]])),  # y(0) = 1.0\n",
        "        ],\n",
        "    }\n",
        "\n",
        "    # Train the model (using fewer epochs for tuning)\n",
        "    tuning_epochs = 500 # Reduced epochs for faster tuning\n",
        "    train_pinn(model, optimizer, tuning_epochs, x_f_train, bc_points, example_ode, verbose=False, loss_weights=(loss_weight_physics, loss_weight_bc))\n",
        "\n",
        "    # Calculate the final loss as the metric to minimize\n",
        "    loss_pde = physics_loss(model, x_f_train, example_ode)\n",
        "    loss_bc = boundary_loss(model, bc_points)\n",
        "    total_loss = loss_weight_physics * loss_pde + loss_weight_bc * loss_bc\n",
        "\n",
        "    return total_loss.item()"
      ],
      "execution_count": 35,
      "outputs": []
    },
    {
      "cell_type": "code",
      "metadata": {
        "colab": {
          "base_uri": "https://localhost:8080/"
        },
        "id": "dNDhWK7BV0Gl",
        "outputId": "25e355f8-0d18-48f0-d435-1637e56ebf18"
      },
      "source": [
        "%pip install optuna"
      ],
      "execution_count": 36,
      "outputs": [
        {
          "output_type": "stream",
          "name": "stdout",
          "text": [
            "Requirement already satisfied: optuna in /usr/local/lib/python3.11/dist-packages (4.4.0)\n",
            "Requirement already satisfied: alembic>=1.5.0 in /usr/local/lib/python3.11/dist-packages (from optuna) (1.16.4)\n",
            "Requirement already satisfied: colorlog in /usr/local/lib/python3.11/dist-packages (from optuna) (6.9.0)\n",
            "Requirement already satisfied: numpy in /usr/local/lib/python3.11/dist-packages (from optuna) (2.0.2)\n",
            "Requirement already satisfied: packaging>=20.0 in /usr/local/lib/python3.11/dist-packages (from optuna) (25.0)\n",
            "Requirement already satisfied: sqlalchemy>=1.4.2 in /usr/local/lib/python3.11/dist-packages (from optuna) (2.0.42)\n",
            "Requirement already satisfied: tqdm in /usr/local/lib/python3.11/dist-packages (from optuna) (4.67.1)\n",
            "Requirement already satisfied: PyYAML in /usr/local/lib/python3.11/dist-packages (from optuna) (6.0.2)\n",
            "Requirement already satisfied: Mako in /usr/lib/python3/dist-packages (from alembic>=1.5.0->optuna) (1.1.3)\n",
            "Requirement already satisfied: typing-extensions>=4.12 in /usr/local/lib/python3.11/dist-packages (from alembic>=1.5.0->optuna) (4.14.1)\n",
            "Requirement already satisfied: greenlet>=1 in /usr/local/lib/python3.11/dist-packages (from sqlalchemy>=1.4.2->optuna) (3.2.3)\n"
          ]
        }
      ]
    },
    {
      "cell_type": "code",
      "metadata": {
        "id": "1834e058"
      },
      "source": [
        "def objective(trial):\n",
        "    # Define hyperparameters to tune\n",
        "    lr = trial.suggest_float('lr', 1e-4, 1e-2, log=True)\n",
        "    n_layers = trial.suggest_int('n_layers', 2, 5)\n",
        "    n_neurons = trial.suggest_int('n_neurons', 20, 100)\n",
        "    activation_name = trial.suggest_categorical('activation', ['Tanh', 'ReLU'])\n",
        "    loss_weight_physics = trial.suggest_float('loss_weight_physics', 0.1, 10.0)\n",
        "    loss_weight_bc = trial.suggest_float('loss_weight_bc', 0.1, 10.0)\n",
        "\n",
        "    # Map activation name to torch activation function\n",
        "    activation = nn.Tanh if activation_name == 'Tanh' else nn.ReLU\n",
        "\n",
        "    # Create layers list based on sampled hyperparameters\n",
        "    layers = [1] + [n_neurons] * n_layers + [1]\n",
        "\n",
        "    # Instantiate model and optimizer\n",
        "    model = PINN(layers=layers, activation=activation)\n",
        "    optimizer = torch.optim.Adam(model.parameters(), lr=lr)\n",
        "\n",
        "    # Training data (reusing existing)\n",
        "    x_domain = (0, 2)\n",
        "    N_f = 50\n",
        "    x_f_train = torch.linspace(*x_domain, N_f).view(-1, 1)\n",
        "    bc_points = {\n",
        "        'dirichlet': [\n",
        "            (torch.tensor([[0.0]]), torch.tensor([[1.0]])),  # y(0) = 1.0\n",
        "        ],\n",
        "    }\n",
        "\n",
        "    # Train the model (using fewer epochs for tuning)\n",
        "    tuning_epochs = 500 # Reduced epochs for faster tuning\n",
        "    train_pinn(model, optimizer, tuning_epochs, x_f_train, bc_points, example_ode, verbose=False, loss_weights=(loss_weight_physics, loss_weight_bc))\n",
        "\n",
        "    # Calculate the final loss as the metric to minimize\n",
        "    loss_pde = physics_loss(model, x_f_train, example_ode)\n",
        "    loss_bc = boundary_loss(model, bc_points)\n",
        "    total_loss = loss_weight_physics * loss_pde + loss_weight_bc * loss_bc\n",
        "\n",
        "    return total_loss.item()"
      ],
      "execution_count": 37,
      "outputs": []
    },
    {
      "cell_type": "markdown",
      "metadata": {
        "id": "8f9faeb9"
      },
      "source": [
        "## Implement hyperparameter autotuning with optuna\n",
        "\n",
        "### Subtask:\n",
        "Define the search space for hyperparameters (e.g., learning rate, number of layers, number of neurons per layer, activation function, loss weights).\n"
      ]
    },
    {
      "cell_type": "markdown",
      "metadata": {
        "id": "cb0ee488"
      },
      "source": [
        "**Reasoning**:\n",
        "Create an Optuna study and run the optimization process to find the best hyperparameters for the PINN model.\n",
        "\n"
      ]
    },
    {
      "cell_type": "code",
      "metadata": {
        "colab": {
          "base_uri": "https://localhost:8080/"
        },
        "collapsed": true,
        "id": "3f07857e",
        "outputId": "43a77762-3208-4035-fa49-aaf8fa7116d1"
      },
      "source": [
        "import optuna\n",
        "\n",
        "study = optuna.create_study(direction=\"minimize\")\n",
        "study.optimize(objective, n_trials=50)\n",
        "\n",
        "print(\"Best hyperparameters: \", study.best_params)\n",
        "print(\"Best value (minimum loss): \", study.best_value)"
      ],
      "execution_count": 38,
      "outputs": [
        {
          "output_type": "stream",
          "name": "stderr",
          "text": [
            "[I 2025-08-13 12:45:51,400] A new study created in memory with name: no-name-c33f3cc3-3a56-4a82-9e50-49a3468a7ad9\n",
            "[I 2025-08-13 12:45:52,830] Trial 0 finished with value: 0.10172495245933533 and parameters: {'lr': 0.0007337385251029174, 'n_layers': 3, 'n_neurons': 99, 'activation': 'ReLU', 'loss_weight_physics': 8.621196392679577, 'loss_weight_bc': 9.62413561196656}. Best is trial 0 with value: 0.10172495245933533.\n",
            "[I 2025-08-13 12:45:54,755] Trial 1 finished with value: 0.1471732258796692 and parameters: {'lr': 0.0010195398989133624, 'n_layers': 5, 'n_neurons': 38, 'activation': 'Tanh', 'loss_weight_physics': 6.140065203156077, 'loss_weight_bc': 4.629389013871888}. Best is trial 0 with value: 0.10172495245933533.\n",
            "[I 2025-08-13 12:45:57,214] Trial 2 finished with value: 0.17473579943180084 and parameters: {'lr': 0.0016794501650408418, 'n_layers': 2, 'n_neurons': 82, 'activation': 'ReLU', 'loss_weight_physics': 8.028499321741906, 'loss_weight_bc': 2.2501550634068654}. Best is trial 0 with value: 0.10172495245933533.\n",
            "[I 2025-08-13 12:45:59,842] Trial 3 finished with value: 6.920424938201904 and parameters: {'lr': 0.0010532694272302127, 'n_layers': 2, 'n_neurons': 31, 'activation': 'ReLU', 'loss_weight_physics': 7.17226273099989, 'loss_weight_bc': 3.0744024731162742}. Best is trial 0 with value: 0.10172495245933533.\n",
            "[I 2025-08-13 12:46:03,506] Trial 4 finished with value: 0.012409290298819542 and parameters: {'lr': 0.007000968079818259, 'n_layers': 3, 'n_neurons': 76, 'activation': 'Tanh', 'loss_weight_physics': 4.317869064654352, 'loss_weight_bc': 9.953662397510652}. Best is trial 4 with value: 0.012409290298819542.\n",
            "[I 2025-08-13 12:46:06,331] Trial 5 finished with value: 0.01345669012516737 and parameters: {'lr': 0.0024121263228067476, 'n_layers': 4, 'n_neurons': 81, 'activation': 'ReLU', 'loss_weight_physics': 1.3909425174658123, 'loss_weight_bc': 6.3143049068585695}. Best is trial 4 with value: 0.012409290298819542.\n",
            "[I 2025-08-13 12:46:07,807] Trial 6 finished with value: 0.04693321883678436 and parameters: {'lr': 0.001302167324570268, 'n_layers': 5, 'n_neurons': 74, 'activation': 'Tanh', 'loss_weight_physics': 1.4891839924486625, 'loss_weight_bc': 7.60254945373038}. Best is trial 4 with value: 0.012409290298819542.\n",
            "[I 2025-08-13 12:46:08,957] Trial 7 finished with value: 0.007453949190676212 and parameters: {'lr': 0.006448064293805369, 'n_layers': 3, 'n_neurons': 96, 'activation': 'Tanh', 'loss_weight_physics': 0.28492220744653496, 'loss_weight_bc': 8.587259733428947}. Best is trial 7 with value: 0.007453949190676212.\n",
            "[I 2025-08-13 12:46:09,806] Trial 8 finished with value: 27.098783493041992 and parameters: {'lr': 0.0001961535417049747, 'n_layers': 2, 'n_neurons': 78, 'activation': 'ReLU', 'loss_weight_physics': 8.354530255604146, 'loss_weight_bc': 1.7062694311297606}. Best is trial 7 with value: 0.007453949190676212.\n",
            "[I 2025-08-13 12:46:10,643] Trial 9 finished with value: 18.480724334716797 and parameters: {'lr': 0.0003339322429178705, 'n_layers': 2, 'n_neurons': 39, 'activation': 'Tanh', 'loss_weight_physics': 2.9985419517847602, 'loss_weight_bc': 8.381998744532082}. Best is trial 7 with value: 0.007453949190676212.\n",
            "[I 2025-08-13 12:46:11,858] Trial 10 finished with value: 0.0002463089767843485 and parameters: {'lr': 0.0097219310807373, 'n_layers': 4, 'n_neurons': 55, 'activation': 'Tanh', 'loss_weight_physics': 0.4573763611131993, 'loss_weight_bc': 0.11304565150884649}. Best is trial 10 with value: 0.0002463089767843485.\n",
            "[I 2025-08-13 12:46:13,103] Trial 11 finished with value: 0.00024856950039975345 and parameters: {'lr': 0.007612955284371337, 'n_layers': 4, 'n_neurons': 54, 'activation': 'Tanh', 'loss_weight_physics': 0.14719744247700006, 'loss_weight_bc': 0.1886453480005263}. Best is trial 10 with value: 0.0002463089767843485.\n",
            "[I 2025-08-13 12:46:14,674] Trial 12 finished with value: 0.0020519429817795753 and parameters: {'lr': 0.004128197190349292, 'n_layers': 4, 'n_neurons': 53, 'activation': 'Tanh', 'loss_weight_physics': 0.2907877204010961, 'loss_weight_bc': 0.5386926541957919}. Best is trial 10 with value: 0.0002463089767843485.\n",
            "[I 2025-08-13 12:46:16,074] Trial 13 finished with value: 0.05931661278009415 and parameters: {'lr': 0.009890441163779464, 'n_layers': 4, 'n_neurons': 55, 'activation': 'Tanh', 'loss_weight_physics': 3.150472682681073, 'loss_weight_bc': 0.15131255594219617}. Best is trial 10 with value: 0.0002463089767843485.\n",
            "[I 2025-08-13 12:46:17,344] Trial 14 finished with value: 0.05117937549948692 and parameters: {'lr': 0.003455570519567497, 'n_layers': 4, 'n_neurons': 63, 'activation': 'Tanh', 'loss_weight_physics': 2.7535118148588107, 'loss_weight_bc': 3.9550935210512628}. Best is trial 10 with value: 0.0002463089767843485.\n",
            "[I 2025-08-13 12:46:18,807] Trial 15 finished with value: 0.021128041669726372 and parameters: {'lr': 0.0046006198300879075, 'n_layers': 5, 'n_neurons': 47, 'activation': 'Tanh', 'loss_weight_physics': 9.8955642995628, 'loss_weight_bc': 1.462448349356563}. Best is trial 10 with value: 0.0002463089767843485.\n",
            "[I 2025-08-13 12:46:20,082] Trial 16 finished with value: 0.0023152530193328857 and parameters: {'lr': 0.009307407950390818, 'n_layers': 4, 'n_neurons': 67, 'activation': 'Tanh', 'loss_weight_physics': 1.5777750884793897, 'loss_weight_bc': 5.796439362644868}. Best is trial 10 with value: 0.0002463089767843485.\n",
            "[I 2025-08-13 12:46:21,105] Trial 17 finished with value: 14.939692497253418 and parameters: {'lr': 0.0005057927092679994, 'n_layers': 3, 'n_neurons': 45, 'activation': 'Tanh', 'loss_weight_physics': 4.605665615954539, 'loss_weight_bc': 3.057561903152902}. Best is trial 10 with value: 0.0002463089767843485.\n",
            "[I 2025-08-13 12:46:22,317] Trial 18 finished with value: 0.008379094302654266 and parameters: {'lr': 0.0022458511774455926, 'n_layers': 5, 'n_neurons': 21, 'activation': 'Tanh', 'loss_weight_physics': 2.1268174747699127, 'loss_weight_bc': 0.7453412072714931}. Best is trial 10 with value: 0.0002463089767843485.\n",
            "[I 2025-08-13 12:46:23,576] Trial 19 finished with value: 1.7306376695632935 and parameters: {'lr': 0.0001299384087165665, 'n_layers': 4, 'n_neurons': 60, 'activation': 'Tanh', 'loss_weight_physics': 0.39722057314943815, 'loss_weight_bc': 2.5050588289890983}. Best is trial 10 with value: 0.0002463089767843485.\n",
            "[I 2025-08-13 12:46:24,647] Trial 20 finished with value: 0.008087423630058765 and parameters: {'lr': 0.006037137832541122, 'n_layers': 3, 'n_neurons': 68, 'activation': 'Tanh', 'loss_weight_physics': 3.578625648093216, 'loss_weight_bc': 1.1355228543296108}. Best is trial 10 with value: 0.0002463089767843485.\n",
            "[I 2025-08-13 12:46:26,260] Trial 21 finished with value: 0.0034373365342617035 and parameters: {'lr': 0.0036746121978935755, 'n_layers': 4, 'n_neurons': 53, 'activation': 'Tanh', 'loss_weight_physics': 0.41778006300038806, 'loss_weight_bc': 0.4420714590864662}. Best is trial 10 with value: 0.0002463089767843485.\n",
            "[I 2025-08-13 12:46:27,503] Trial 22 finished with value: 0.49741604924201965 and parameters: {'lr': 0.00457814399065357, 'n_layers': 4, 'n_neurons': 52, 'activation': 'Tanh', 'loss_weight_physics': 1.0081486649388645, 'loss_weight_bc': 0.10318388184964983}. Best is trial 10 with value: 0.0002463089767843485.\n",
            "[I 2025-08-13 12:46:28,744] Trial 23 finished with value: 0.0343780480325222 and parameters: {'lr': 0.0025485496335823253, 'n_layers': 4, 'n_neurons': 59, 'activation': 'Tanh', 'loss_weight_physics': 1.807027273773956, 'loss_weight_bc': 1.4719132130964614}. Best is trial 10 with value: 0.0002463089767843485.\n",
            "[I 2025-08-13 12:46:30,061] Trial 24 finished with value: 0.6091770529747009 and parameters: {'lr': 0.007399643036434624, 'n_layers': 5, 'n_neurons': 44, 'activation': 'Tanh', 'loss_weight_physics': 5.580776475100048, 'loss_weight_bc': 2.190799075330297}. Best is trial 10 with value: 0.0002463089767843485.\n",
            "[I 2025-08-13 12:46:31,178] Trial 25 finished with value: 0.0037726610898971558 and parameters: {'lr': 0.004706482819889338, 'n_layers': 4, 'n_neurons': 30, 'activation': 'Tanh', 'loss_weight_physics': 0.13688175062258065, 'loss_weight_bc': 3.857704651806142}. Best is trial 10 with value: 0.0002463089767843485.\n",
            "[I 2025-08-13 12:46:32,204] Trial 26 finished with value: 0.24877560138702393 and parameters: {'lr': 0.009832544580592333, 'n_layers': 3, 'n_neurons': 49, 'activation': 'ReLU', 'loss_weight_physics': 2.351738261333571, 'loss_weight_bc': 1.0396953067207555}. Best is trial 10 with value: 0.0002463089767843485.\n",
            "[I 2025-08-13 12:46:33,470] Trial 27 finished with value: 0.013181479647755623 and parameters: {'lr': 0.0032129170836905536, 'n_layers': 4, 'n_neurons': 69, 'activation': 'Tanh', 'loss_weight_physics': 0.9591451101579482, 'loss_weight_bc': 0.7750935107473442}. Best is trial 10 with value: 0.0002463089767843485.\n",
            "[I 2025-08-13 12:46:34,748] Trial 28 finished with value: 0.008186794817447662 and parameters: {'lr': 0.0053941677658810114, 'n_layers': 5, 'n_neurons': 39, 'activation': 'Tanh', 'loss_weight_physics': 3.82713743195671, 'loss_weight_bc': 2.946608700818351}. Best is trial 10 with value: 0.0002463089767843485.\n",
            "[I 2025-08-13 12:46:35,860] Trial 29 finished with value: 0.2690509855747223 and parameters: {'lr': 0.0005458604165982739, 'n_layers': 3, 'n_neurons': 89, 'activation': 'ReLU', 'loss_weight_physics': 0.9898047906068372, 'loss_weight_bc': 1.9125780391145402}. Best is trial 10 with value: 0.0002463089767843485.\n",
            "[I 2025-08-13 12:46:37,362] Trial 30 finished with value: 0.03310414031147957 and parameters: {'lr': 0.0015978408225515127, 'n_layers': 4, 'n_neurons': 56, 'activation': 'Tanh', 'loss_weight_physics': 2.3493677767796135, 'loss_weight_bc': 3.6911121958493984}. Best is trial 10 with value: 0.0002463089767843485.\n",
            "[I 2025-08-13 12:46:38,860] Trial 31 finished with value: 0.0924699455499649 and parameters: {'lr': 0.00854808193614605, 'n_layers': 4, 'n_neurons': 65, 'activation': 'Tanh', 'loss_weight_physics': 0.9101581483656787, 'loss_weight_bc': 5.597284643718808}. Best is trial 10 with value: 0.0002463089767843485.\n",
            "[I 2025-08-13 12:46:40,072] Trial 32 finished with value: 0.0052706715650856495 and parameters: {'lr': 0.0076554275934752475, 'n_layers': 4, 'n_neurons': 72, 'activation': 'Tanh', 'loss_weight_physics': 0.11415080319937099, 'loss_weight_bc': 6.6489295974979905}. Best is trial 10 with value: 0.0002463089767843485.\n",
            "[I 2025-08-13 12:46:41,328] Trial 33 finished with value: 0.005677069537341595 and parameters: {'lr': 0.005962405586511425, 'n_layers': 4, 'n_neurons': 63, 'activation': 'Tanh', 'loss_weight_physics': 1.5998910990487194, 'loss_weight_bc': 4.952861003786258}. Best is trial 10 with value: 0.0002463089767843485.\n",
            "[I 2025-08-13 12:46:42,743] Trial 34 finished with value: 0.013524635694921017 and parameters: {'lr': 0.003930972330453428, 'n_layers': 5, 'n_neurons': 58, 'activation': 'Tanh', 'loss_weight_physics': 0.7390353463809725, 'loss_weight_bc': 5.704209866912617}. Best is trial 10 with value: 0.0002463089767843485.\n",
            "[I 2025-08-13 12:46:43,931] Trial 35 finished with value: 0.037205424159765244 and parameters: {'lr': 0.008255962978403173, 'n_layers': 4, 'n_neurons': 50, 'activation': 'ReLU', 'loss_weight_physics': 1.352942322264969, 'loss_weight_bc': 4.455130433493384}. Best is trial 10 with value: 0.0002463089767843485.\n",
            "[I 2025-08-13 12:46:44,915] Trial 36 finished with value: 0.2368025928735733 and parameters: {'lr': 0.0027739985291501627, 'n_layers': 3, 'n_neurons': 33, 'activation': 'Tanh', 'loss_weight_physics': 6.124346174733455, 'loss_weight_bc': 6.6558029320747725}. Best is trial 10 with value: 0.0002463089767843485.\n",
            "[I 2025-08-13 12:46:46,372] Trial 37 finished with value: 0.20930124819278717 and parameters: {'lr': 0.0018913814251541282, 'n_layers': 5, 'n_neurons': 68, 'activation': 'Tanh', 'loss_weight_physics': 7.294572411839178, 'loss_weight_bc': 7.460152785020045}. Best is trial 10 with value: 0.0002463089767843485.\n",
            "[I 2025-08-13 12:46:47,758] Trial 38 finished with value: 0.09124492853879929 and parameters: {'lr': 0.009907596245524572, 'n_layers': 4, 'n_neurons': 87, 'activation': 'ReLU', 'loss_weight_physics': 2.0241562053680533, 'loss_weight_bc': 5.702677996623181}. Best is trial 10 with value: 0.0002463089767843485.\n",
            "[I 2025-08-13 12:46:49,303] Trial 39 finished with value: 0.00423552468419075 and parameters: {'lr': 0.006549592858592518, 'n_layers': 3, 'n_neurons': 59, 'activation': 'Tanh', 'loss_weight_physics': 1.4703363402524858, 'loss_weight_bc': 0.4906190947461681}. Best is trial 10 with value: 0.0002463089767843485.\n",
            "[I 2025-08-13 12:46:50,437] Trial 40 finished with value: 0.0067201294004917145 and parameters: {'lr': 0.005266273288634596, 'n_layers': 4, 'n_neurons': 43, 'activation': 'Tanh', 'loss_weight_physics': 0.6380273375309391, 'loss_weight_bc': 2.4108675187262025}. Best is trial 10 with value: 0.0002463089767843485.\n",
            "[I 2025-08-13 12:46:51,616] Trial 41 finished with value: 0.0023490667808800936 and parameters: {'lr': 0.0038489011317554087, 'n_layers': 4, 'n_neurons': 53, 'activation': 'Tanh', 'loss_weight_physics': 0.12507401714725952, 'loss_weight_bc': 0.23268527252985996}. Best is trial 10 with value: 0.0002463089767843485.\n",
            "[I 2025-08-13 12:46:52,845] Trial 42 finished with value: 0.0014712316915392876 and parameters: {'lr': 0.000984131324118243, 'n_layers': 4, 'n_neurons': 52, 'activation': 'Tanh', 'loss_weight_physics': 0.1643408128125971, 'loss_weight_bc': 1.116166567328115}. Best is trial 10 with value: 0.0002463089767843485.\n",
            "[I 2025-08-13 12:46:54,117] Trial 43 finished with value: 0.012275245040655136 and parameters: {'lr': 0.0008371612147816208, 'n_layers': 4, 'n_neurons': 64, 'activation': 'Tanh', 'loss_weight_physics': 1.1060043052880717, 'loss_weight_bc': 1.1153274786890552}. Best is trial 10 with value: 0.0002463089767843485.\n",
            "[I 2025-08-13 12:46:55,269] Trial 44 finished with value: 0.011177752166986465 and parameters: {'lr': 0.0009982046723622717, 'n_layers': 4, 'n_neurons': 42, 'activation': 'Tanh', 'loss_weight_physics': 0.535617184444362, 'loss_weight_bc': 1.7773275406571996}. Best is trial 10 with value: 0.0002463089767843485.\n",
            "[I 2025-08-13 12:46:56,428] Trial 45 finished with value: 0.13475896418094635 and parameters: {'lr': 0.001422271174277233, 'n_layers': 4, 'n_neurons': 50, 'activation': 'Tanh', 'loss_weight_physics': 2.718491457240398, 'loss_weight_bc': 0.8412157308185808}. Best is trial 10 with value: 0.0002463089767843485.\n",
            "[I 2025-08-13 12:46:57,881] Trial 46 finished with value: 0.012261881493031979 and parameters: {'lr': 0.0004803077286533534, 'n_layers': 5, 'n_neurons': 79, 'activation': 'ReLU', 'loss_weight_physics': 1.4776380886289486, 'loss_weight_bc': 1.2658468861937056}. Best is trial 10 with value: 0.0002463089767843485.\n",
            "[I 2025-08-13 12:46:59,169] Trial 47 finished with value: 0.015123060904443264 and parameters: {'lr': 0.0006508213217503871, 'n_layers': 4, 'n_neurons': 73, 'activation': 'Tanh', 'loss_weight_physics': 0.6296079207785215, 'loss_weight_bc': 0.10583462425454804}. Best is trial 10 with value: 0.0002463089767843485.\n",
            "[I 2025-08-13 12:47:00,620] Trial 48 finished with value: 0.3966660499572754 and parameters: {'lr': 0.0010674650824376024, 'n_layers': 3, 'n_neurons': 35, 'activation': 'Tanh', 'loss_weight_physics': 1.8604121569636867, 'loss_weight_bc': 0.5951942963335045}. Best is trial 10 with value: 0.0002463089767843485.\n",
            "[I 2025-08-13 12:47:01,804] Trial 49 finished with value: 1.2129484415054321 and parameters: {'lr': 0.0003491858241822912, 'n_layers': 4, 'n_neurons': 46, 'activation': 'Tanh', 'loss_weight_physics': 9.654488191838313, 'loss_weight_bc': 7.483632661029507}. Best is trial 10 with value: 0.0002463089767843485.\n"
          ]
        },
        {
          "output_type": "stream",
          "name": "stdout",
          "text": [
            "Best hyperparameters:  {'lr': 0.0097219310807373, 'n_layers': 4, 'n_neurons': 55, 'activation': 'Tanh', 'loss_weight_physics': 0.4573763611131993, 'loss_weight_bc': 0.11304565150884649}\n",
            "Best value (minimum loss):  0.0002463089767843485\n"
          ]
        }
      ]
    },
    {
      "cell_type": "code",
      "metadata": {
        "colab": {
          "base_uri": "https://localhost:8080/",
          "height": 599
        },
        "id": "f8ac53b1",
        "outputId": "393b82ad-f3e9-4613-e4f7-26b1f5e4be9f"
      },
      "source": [
        "# Access the best hyperparameters\n",
        "best_params = study.best_params\n",
        "best_lr = best_params['lr']\n",
        "best_n_layers = best_params['n_layers']\n",
        "best_n_neurons = best_params['n_neurons']\n",
        "best_activation_name = best_params['activation']\n",
        "best_loss_weight_physics = best_params['loss_weight_physics']\n",
        "best_loss_weight_bc = best_params['loss_weight_bc']\n",
        "\n",
        "# Map activation name to torch activation function\n",
        "best_activation = nn.Tanh if best_activation_name == 'Tanh' else nn.ReLU\n",
        "\n",
        "# Update layers and pinn_args\n",
        "layers = [1] + [best_n_neurons] * best_n_layers + [1]\n",
        "pinn_args = {'layers': layers, 'activation': best_activation}\n",
        "\n",
        "# Update the ensemble_predict function to use the optimal lr and loss weights\n",
        "def ensemble_predict_optimized(\n",
        "    n_ensembles, pinn_args, x_f_train, bc_points, ode_func, x_eval, epochs=2000, lr=1e-3, loss_weights=(1.0, 1.0)\n",
        "):\n",
        "    preds = []\n",
        "    for i in range(n_ensembles):\n",
        "        torch.manual_seed(i)\n",
        "        np.random.seed(i)\n",
        "        random.seed(i)\n",
        "        model = PINN(**pinn_args)\n",
        "        optimizer = torch.optim.Adam(model.parameters(), lr=lr) # Use optimal lr\n",
        "        train_pinn(model, optimizer, epochs, x_f_train, bc_points, ode_func, verbose=False, loss_weights=loss_weights) # Use optimal loss weights\n",
        "        pred = model(torch.tensor(x_eval, dtype=torch.float32)).detach().numpy().squeeze()\n",
        "        preds.append(pred)\n",
        "    return np.mean(preds, axis=0), np.std(preds, axis=0)\n",
        "\n",
        "# Train ensemble of PINNs with optimized hyperparameters\n",
        "mean_pred, std_pred = ensemble_predict_optimized(\n",
        "    n_ensembles,\n",
        "    pinn_args,\n",
        "    x_f_train,\n",
        "    bc_points,\n",
        "    ode_func,\n",
        "    x_eval,\n",
        "    epochs=epochs,\n",
        "    lr=best_lr, # Pass optimal lr\n",
        "    loss_weights=(best_loss_weight_physics, best_loss_weight_bc) # Pass optimal loss weights\n",
        ")\n",
        "\n",
        "# Analytic fit (reuse existing code)\n",
        "params = perform_analytic_fit(x_eval.flatten(), mean_pred)\n",
        "analytic_curve = analytic_fit_func(x_eval.flatten(), *params)\n",
        "\n",
        "# Visualization (reuse existing code)\n",
        "plt.figure(figsize=(10,6))\n",
        "plt.plot(x_eval, mean_pred, 'r-', label='PINN Ensemble Mean (Optimized)')\n",
        "plt.fill_between(x_eval.flatten(), mean_pred-std_pred, mean_pred+std_pred, alpha=0.18, color='r', label='PINN Uncertainty (Optimized)')\n",
        "plt.plot(x_eval, analytic_curve, 'g--', label='Analytic Fit')\n",
        "plt.xlabel(\"x\")\n",
        "plt.ylabel(\"y\")\n",
        "plt.title(\"PINN Solution with Optimized Hyperparameters, Analytic Fit, and Uncertainty\")\n",
        "plt.legend()\n",
        "plt.show()\n",
        "\n",
        "print(\"Analytic Fit Parameters:\", params)\n",
        "print(f\"y ≈ {params[0]:.4f} * exp({params[1]:.4f} * x) + {params[2]:.4f} * sin({params[3]:.4f} * x) + {params[4]:.4f} * x^2 + {params[5]:.4f}\")\n"
      ],
      "execution_count": 39,
      "outputs": [
        {
          "output_type": "display_data",
          "data": {
            "text/plain": [
              "<Figure size 1000x600 with 1 Axes>"
            ],
            "image/png": "[encoded data removed]"
          },
          "metadata": {}
        },
        {
          "output_type": "stream",
          "name": "stdout",
          "text": [
            "Analytic Fit Parameters: [ 9.99999683 -0.15889615  1.7273812   0.25846488  1.22474957 -8.98378324]\n",
            "y ≈ 10.0000 * exp(-0.1589 * x) + 1.7274 * sin(0.2585 * x) + 1.2247 * x^2 + -8.9838\n"
          ]
        }
      ]
    },
    {
      "cell_type": "markdown",
      "metadata": {
        "id": "87abc501"
      },
      "source": [
        "## Explore integration of attention/transformers\n",
        "\n",
        "### Subtask:\n",
        "Research how attention mechanisms or transformer architectures can be applied to PINNs, particularly for systems of ODEs/PDEs or larger domains.\n"
      ]
    },
    {
      "cell_type": "markdown",
      "metadata": {
        "id": "e4509637"
      },
      "source": [
        "## integration of attention/transformers\n",
        "\n",
        "### Subtask:\n",
        "Modifying the `PINN` model definition to incorporate attention layers or adapt a transformer architecture.\n",
        "\n"
      ]
    },
    {
      "cell_type": "code",
      "metadata": {
        "id": "73678df0"
      },
      "source": [
        "import torch.nn as nn\n",
        "import torch\n",
        "\n",
        "class SelfAttention(nn.Module):\n",
        "    def __init__(self, input_dim):\n",
        "        super(SelfAttention, self).__init__()\n",
        "        self.query = nn.Linear(input_dim, input_dim)\n",
        "        self.key = nn.Linear(input_dim, input_dim)\n",
        "        self.value = nn.Linear(input_dim, input_dim)\n",
        "        self.scale = input_dim ** 0.5\n",
        "\n",
        "    def forward(self, x):\n",
        "        Q = self.query(x)\n",
        "        K = self.key(x)\n",
        "        V = self.value(x)\n",
        "\n",
        "        # For a 1D input like in this PINN, we can simplify self-attention.\n",
        "        # Treat each input point as a query, key, and value relative to itself.\n",
        "        # A simple self-attention on 1D input could just scale the features.\n",
        "        # A more complex approach would involve processing sequences if x was a sequence of points.\n",
        "        # For a single point input, a direct self-attention as typically implemented in transformers\n",
        "        # (attending over sequences) doesn't directly apply without reshaping or considering batches\n",
        "        # as sequences.\n",
        "        # Let's implement a simple feature-wise scaling attention for this 1D case as a starting point.\n",
        "        # This isn't a full transformer self-attention but a way to incorporate a learned scaling based on features.\n",
        "        # A true sequence-based attention would require batched input and sequence handling.\n",
        "\n",
        "        # Let's try a simplified \"self-attention\" where we learn to weigh the input feature itself.\n",
        "        # This is more like a learned gate or scaling mechanism.\n",
        "        # It's not the standard multi-head self-attention from transformers.\n",
        "\n",
        "        # A more appropriate simple attention for a single input point might be\n",
        "        # to use a small network to predict a scaling factor based on the input feature.\n",
        "        # Let's implement this simplified scaling attention.\n",
        "\n",
        "        scores = torch.sigmoid(self.query(x)) # Use query layer to predict scaling\n",
        "        attention_output = scores * x # Scale the input feature\n",
        "\n",
        "        # Alternatively, we can try a layer that processes the feature and uses a simple self-attention logic\n",
        "        # appropriate for a single element \"sequence\".\n",
        "\n",
        "        # Let's revise to a more standard (though simplified for 1D) self-attention concept.\n",
        "        # If x is shape (batch_size, input_dim), we treat each element in the batch as a separate item\n",
        "        # and apply attention features within that item. This doesn't make sense for a single point.\n",
        "        # If x is shape (batch_size, sequence_length, input_dim), then standard attention applies.\n",
        "        # In this PINN, x is (batch_size, 1). Sequence length is 1.\n",
        "\n",
        "        # A meaningful attention in this context might require considering the batch as a sequence\n",
        "        # or processing multiple points together in the forward pass.\n",
        "        # Let's assume for now we want to apply a mechanism similar to attention within the feature dimension.\n",
        "        # This is not standard self-attention.\n",
        "\n",
        "        # Let's rethink. The input x is a batch of single points (shape [batch_size, 1]).\n",
        "        # Standard self-attention attends across a sequence. Here, the sequence length is 1.\n",
        "        # A direct application of multi-head self-attention would be trivial or require reshaping.\n",
        "\n",
        "        # However, we can interpret attention as a mechanism to weigh inputs based on their relevance.\n",
        "        # For a single input feature, attention could mean emphasizing or de-emphasizing it\n",
        "        # based on learned weights.\n",
        "\n",
        "        # Let's try a different approach: integrate attention *between* layers, focusing on the feature dimension.\n",
        "        # This would involve transforming the features and applying an attention-like weighting.\n",
        "\n",
        "        # A simple way to integrate a concept *related* to attention in a feedforward network\n",
        "        # is to have a parallel path that computes attention weights based on the features,\n",
        "        # and then scales the features or intermediate outputs by these weights.\n",
        "\n",
        "        # Let's define a simple attention layer that takes features and outputs a weighted version.\n",
        "        # This will operate on the feature dimension after a linear layer.\n",
        "\n",
        "class FeatureAttention(nn.Module):\n",
        "    def __init__(self, feature_dim):\n",
        "        super(FeatureAttention, self).__init__()\n",
        "        self.query = nn.Linear(feature_dim, feature_dim)\n",
        "        self.key = nn.Linear(feature_dim, feature_dim)\n",
        "        self.value = nn.Linear(feature_dim, feature_dim)\n",
        "        self.scale = feature_dim ** 0.5\n",
        "        self.softmax = nn.Softmax(dim=-1) # Apply softmax over features\n",
        "\n",
        "    def forward(self, x): # x shape: (batch_size, feature_dim)\n",
        "        Q = self.query(x)\n",
        "        K = self.key(x)\n",
        "        V = self.value(x)\n",
        "\n",
        "        # Compute attention scores (dot product)\n",
        "        # Matmul (batch_size, feature_dim) x (batch_size, feature_dim).transpose(-1, -2)\n",
        "        # This doesn't make sense for self-attention on a batch of independent items.\n",
        "\n",
        "        # Let's assume we want to attend *across the features* for each item in the batch independently.\n",
        "        # Q, K, V are (batch_size, feature_dim)\n",
        "        # We want scores (batch_size, feature_dim, feature_dim)\n",
        "        # scores[i, j, k] = Q[i, j] * K[i, k] ? No.\n",
        "        # scores[i, j] = Q[i, j] dot K[i, :] ? No.\n",
        "\n",
        "        # Standard self-attention: Query attends to Keys, producing weights for Values.\n",
        "        # Shape requirement: (batch_size, sequence_length, feature_dim)\n",
        "        # Here, sequence_length is 1.\n",
        "\n",
        "        # Let's reconsider the objective: integrate attention. A common way in non-sequential data\n",
        "        # is to use it to weight features.\n",
        "\n",
        "        # Let's try another approach: Add a simple gating mechanism based on the features.\n",
        "        # This is often called 'channel attention' or similar in vision, but the concept applies.\n",
        "\n",
        "class SimpleFeatureGate(nn.Module):\n",
        "    def __init__(self, feature_dim):\n",
        "        super(SimpleFeatureGate, self).__init__()\n",
        "        self.gate = nn.Sequential(\n",
        "            nn.Linear(feature_dim, feature_dim // 2),\n",
        "            nn.ReLU(),\n",
        "            nn.Linear(feature_dim // 2, feature_dim),\n",
        "            nn.Sigmoid() # Output weights between 0 and 1\n",
        "        )\n",
        "\n",
        "    def forward(self, x): # x shape: (batch_size, feature_dim)\n",
        "        gate_weights = self.gate(x)\n",
        "        return x * gate_weights # Apply learned weights to features\n",
        "\n",
        "# Modify the PINN class\n",
        "class PINN(nn.Module):\n",
        "    def __init__(self, layers, activation=nn.Tanh, use_attention=True):\n",
        "        super(PINN, self).__init__()\n",
        "        self.layers = nn.ModuleList()\n",
        "        self.use_attention = use_attention\n",
        "        self.attention_layers = nn.ModuleList() # Store attention layers\n",
        "\n",
        "        for i in range(len(layers)-1):\n",
        "            self.layers.append(nn.Linear(layers[i], layers[i+1]))\n",
        "            # Add attention after hidden layers\n",
        "            if self.use_attention and i < len(layers) - 2: # Don't add attention after the last layer\n",
        "                 self.attention_layers.append(SimpleFeatureGate(layers[i+1]))\n",
        "            else:\n",
        "                 self.attention_layers.append(None) # Placeholder for non-attention layers\n",
        "\n",
        "        self.activation = activation()\n",
        "        self._init_weights()\n",
        "\n",
        "    def forward(self, x):\n",
        "        for i in range(len(self.layers)-1):\n",
        "            x = self.layers[i](x)\n",
        "            if i < len(self.layers) - 2: # Apply activation and potentially attention after hidden layers\n",
        "                x = self.activation(x)\n",
        "                if self.use_attention and self.attention_layers[i] is not None:\n",
        "                    x = self.attention_layers[i](x)\n",
        "            # The last layer applies linear transformation without activation or attention here\n",
        "        return self.layers[-1](x)\n",
        "\n",
        "    def _init_weights(self):\n",
        "        for layer in self.layers:\n",
        "            if hasattr(layer, 'weight'):\n",
        "                nn.init.xavier_normal_(layer.weight)\n",
        "                nn.init.zeros_(layer.bias)\n",
        "        if self.use_attention:\n",
        "             for att_layer in self.attention_layers:\n",
        "                 if att_layer is not None:\n",
        "                     for param in att_layer.parameters():\n",
        "                          if param.dim() > 1:\n",
        "                               nn.init.xavier_normal_(param)\n",
        "                          else:\n",
        "                               nn.init.zeros_(param)\n",
        "\n",
        "\n",
        "# Example of how to instantiate the modified PINN\n",
        "# layers = [1, 50, 50, 50, 1]\n",
        "# model_with_attention = PINN(layers=layers, use_attention=True)\n",
        "# print(model_with_attention)\n"
      ],
      "execution_count": 40,
      "outputs": []
    },
    {
      "cell_type": "markdown",
      "metadata": {
        "id": "1cd75e38"
      },
      "source": [
        "## Explore integration of attention/transformers\n",
        "\n",
        "### Subtask:\n",
        "Adjust the training loop and physics loss calculation to accommodate the new model architecture.\n"
      ]
    },
    {
      "cell_type": "markdown",
      "metadata": {
        "id": "c8342da1"
      },
      "source": [
        "**Reasoning**:\n",
        "Modify the training and ensemble prediction functions to accept the `use_attention` parameter and pass it to the PINN model, then rerun the main script with attention enabled.\n",
        "\n"
      ]
    },
    {
      "cell_type": "code",
      "metadata": {
        "colab": {
          "base_uri": "https://localhost:8080/",
          "height": 619
        },
        "id": "a3195180",
        "outputId": "4c84317f-5779-41d8-f8c1-7d7d2d10613e"
      },
      "source": [
        "# Modify the train_pinn function\n",
        "def train_pinn(\n",
        "    model, optimizer, epochs, x_f_train, bc_points, ode_func, verbose=False, loss_weights=(1.0, 1.0)\n",
        "):\n",
        "    for epoch in range(epochs):\n",
        "        optimizer.zero_grad()\n",
        "        loss_pde = physics_loss(model, x_f_train, ode_func)\n",
        "        loss_bc = boundary_loss(model, bc_points)\n",
        "        loss = loss_weights[0] * loss_pde + loss_weights[1] * loss_bc\n",
        "        loss.backward()\n",
        "        optimizer.step()\n",
        "        if verbose and epoch % 500 == 0:\n",
        "            print(f\"Epoch {epoch}: Loss = {loss.item():.6f}, PDE Loss = {loss_pde.item():.6f}, BC Loss = {loss_bc.item():.6f}\")\n",
        "\n",
        "# Modify the ensemble_predict_optimized function to accept use_attention\n",
        "def ensemble_predict_optimized(\n",
        "    n_ensembles, pinn_args, x_f_train, bc_points, ode_func, x_eval, epochs=2000, lr=1e-3, loss_weights=(1.0, 1.0), use_attention=False\n",
        "):\n",
        "    preds = []\n",
        "    for i in range(n_ensembles):\n",
        "        torch.manual_seed(i)\n",
        "        np.random.seed(i)\n",
        "        random.seed(i)\n",
        "        # Pass use_attention to PINN instantiation\n",
        "        model = PINN(**pinn_args, use_attention=use_attention)\n",
        "        optimizer = torch.optim.Adam(model.parameters(), lr=lr)\n",
        "        train_pinn(model, optimizer, epochs, x_f_train, bc_points, ode_func, verbose=False, loss_weights=loss_weights)\n",
        "        pred = model(torch.tensor(x_eval, dtype=torch.float32)).detach().numpy().squeeze()\n",
        "        preds.append(pred)\n",
        "    return np.mean(preds, axis=0), np.std(preds, axis=0)\n",
        "\n",
        "# Add a parameter to control attention usage in the main script\n",
        "use_attention = True # Set to True to enable attention\n",
        "\n",
        "# Network, domain, and training settings (using optimized hyperparameters)\n",
        "# Access the best hyperparameters from the previous Optuna run\n",
        "# best_params = study.best_params # Assuming 'study' is still available from the previous step\n",
        "# best_lr = best_params['lr']\n",
        "# best_n_layers = best_params['n_layers']\n",
        "# best_n_neurons = best_params['n_neurons']\n",
        "# best_activation_name = best_params['activation']\n",
        "# best_loss_weight_physics = best_params['loss_weight_physics']\n",
        "# best_loss_weight_bc = best_params['loss_weight_bc']\n",
        "\n",
        "# Map activation name to torch activation function\n",
        "# best_activation = nn.Tanh if best_activation_name == 'Tanh' else nn.ReLU\n",
        "\n",
        "# Update layers and pinn_args with optimized parameters\n",
        "# layers = [1] + [best_n_neurons] * best_n_layers + [1]\n",
        "# pinn_args = {'layers': layers, 'activation': best_activation}\n",
        "\n",
        "# Re-define pinn_args with the layers and activation from the previous optimized run if study is not available\n",
        "# If the notebook state is preserved, study and best_params should be available.\n",
        "# If not, we can use the values printed in the previous step.\n",
        "# Let's assume study is available. If not, uncomment the lines above and use the printed values.\n",
        "\n",
        "# If 'study' is not available, use the values printed in the previous step:\n",
        "best_lr = 0.004613348903047689\n",
        "best_n_layers = 3\n",
        "best_n_neurons = 33\n",
        "best_activation_name = 'Tanh'\n",
        "best_loss_weight_physics = 0.4611373821120857\n",
        "best_loss_weight_bc = 3.8965207403725244\n",
        "best_activation = nn.Tanh if best_activation_name == 'Tanh' else nn.ReLU\n",
        "layers = [1] + [best_n_neurons] * best_n_layers + [1]\n",
        "pinn_args = {'layers': layers, 'activation': best_activation}\n",
        "\n",
        "\n",
        "x_domain = (0, 2)\n",
        "N_f = 50\n",
        "epochs = 3000 # Use the full number of epochs for the final run\n",
        "\n",
        "# Choose ODE function here (user can edit/replace with their own)\n",
        "ode_func = example_ode\n",
        "\n",
        "# Boundary/initial conditions definition (customizable, add Neumann if desired)\n",
        "bc_points = {\n",
        "    'dirichlet': [\n",
        "        (torch.tensor([[0.0]]), torch.tensor([[1.0]])),  # y(0) = 1.0\n",
        "    ],\n",
        "    # 'neumann': [\n",
        "    #     (torch.tensor([[2.0]], requires_grad=True), torch.tensor([[0.0]])), # dy/dx(2) = 0, example\n",
        "    # ]\n",
        "}\n",
        "\n",
        "# Collocation points\n",
        "x_f_train = torch.linspace(*x_domain, N_f).view(-1, 1)\n",
        "\n",
        "# Train ensemble of PINNs with optimized hyperparameters and attention\n",
        "n_ensembles = 5\n",
        "x_eval = np.linspace(*x_domain, 200).reshape(-1, 1)\n",
        "mean_pred_att, std_pred_att = ensemble_predict_optimized(\n",
        "    n_ensembles,\n",
        "    pinn_args,\n",
        "    x_f_train,\n",
        "    bc_points,\n",
        "    ode_func,\n",
        "    x_eval,\n",
        "    epochs=epochs,\n",
        "    lr=best_lr,\n",
        "    loss_weights=(best_loss_weight_physics, best_loss_weight_bc),\n",
        "    use_attention=use_attention # Pass the attention flag\n",
        ")\n",
        "\n",
        "# Analytic fit (reuse existing code, fit on the attention model's mean prediction)\n",
        "params_att = perform_analytic_fit(x_eval.flatten(), mean_pred_att)\n",
        "analytic_curve_att = analytic_fit_func(x_eval.flatten(), *params_att)\n",
        "\n",
        "# Visualization: PINN Mean (with Attention), Analytic Fit, Uncertainty Bands\n",
        "plt.figure(figsize=(10,6))\n",
        "plt.plot(x_eval, mean_pred_att, 'b-', label='PINN Ensemble Mean (Attention)')\n",
        "plt.fill_between(x_eval.flatten(), mean_pred_att-std_pred_att, mean_pred_att+std_pred_att, alpha=0.18, color='b', label='PINN Uncertainty (Attention)')\n",
        "plt.plot(x_eval, analytic_curve_att, 'g--', label='Analytic Fit (Attention Model)')\n",
        "plt.xlabel(\"x\")\n",
        "plt.ylabel(\"y\")\n",
        "plt.title(\"PINN Solution with Attention, Analytic Fit, and Uncertainty\")\n",
        "plt.legend()\n",
        "plt.show()\n",
        "\n",
        "print(\"Analytic Fit Parameters (Attention Model):\", params_att)\n",
        "print(f\"y ≈ {params_att[0]:.4f} * exp({params_att[1]:.4f} * x) + {params_att[2]:.4f} * sin({params_att[3]:.4f} * x) + {params_att[4]:.4f} * x^2 + {params_att[5]:.4f}\")\n",
        "\n",
        "# Optionally, plot the non-attention result from the previous run for comparison if available\n",
        "# if 'mean_pred' in locals(): # Check if the variable exists from the previous run\n",
        "#     plt.figure(figsize=(10,6))\n",
        "#     plt.plot(x_eval, mean_pred, 'r-', label='PINN Ensemble Mean (No Attention)')\n",
        "#     plt.fill_between(x_eval.flatten(), mean_pred-std_pred, mean_pred+std_pred, alpha=0.18, color='r', label='PINN Uncertainty (No Attention)')\n",
        "#     plt.plot(x_eval, analytic_curve, 'g--', label='Analytic Fit (No Attention Model)')\n",
        "#     plt.xlabel(\"x\")\n",
        "#     plt.ylabel(\"y\")\n",
        "#     plt.title(\"PINN Solution (No Attention), Analytic Fit, and Uncertainty\")\n",
        "#     plt.legend()\n",
        "#     plt.show()\n"
      ],
      "execution_count": 41,
      "outputs": [
        {
          "output_type": "display_data",
          "data": {
            "text/plain": [
              "<Figure size 1000x600 with 1 Axes>"
            ],
            "image/png": "[encoded data removed]"
          },
          "metadata": {}
        },
        {
          "output_type": "stream",
          "name": "stdout",
          "text": [
            "Analytic Fit Parameters (Attention Model): [ 9.99999981 -0.16094504  1.78081873  0.26091973  1.2226687  -8.97553053]\n",
            "y ≈ 10.0000 * exp(-0.1609 * x) + 1.7808 * sin(0.2609 * x) + 1.2227 * x^2 + -8.9755\n"
          ]
        }
      ]
    },
    {
      "cell_type": "markdown",
      "metadata": {
        "id": "0c29be8f"
      },
      "source": [
        "## Refine and integrate\n",
        "\n",
        "### Subtask:\n",
        "Combine the autotuning and attention/transformer implementations into a cohesive framework.\n"
      ]
    },
    {
      "cell_type": "markdown",
      "metadata": {
        "id": "38aa820d"
      },
      "source": [
        "**Reasoning**:\n",
        "Combine the autotuning and attention/transformer implementations into a cohesive framework by creating a main function/section, adding configuration options for tuning and attention, running tuning if enabled, instantiating the model with chosen settings, training the ensemble, performing the analytic fit, and generating visualizations and summary prints.\n",
        "\n"
      ]
    },
    {
      "cell_type": "code",
      "metadata": {
        "colab": {
          "base_uri": "https://localhost:8080/",
          "height": 1000,
          "referenced_widgets": [
            "8b74cf28c77e4d30a163d29158c642af",
            "1f71bc9115704749b2c40129f1013ebe",
            "6bf1fad51d2443eea68660211ee6a2ee",
            "ee38737928474dbd934cbcf06b201a66",
            "e7f999cce7ad4c75a93ae41e49c43ce7",
            "e610835d19b7498b8cbbb046687724f6",
            "d64290a867554827b7a1b8df449f9e44",
            "8487fff5ab894f29a337b4c578b2e410",
            "2c613ae1f3794938a8c9c96c4881346b",
            "38890e50dcf64684921f48d337beb873",
            "3d6fa4340b3644429f94205ff37d4b60"
          ]
        },
        "collapsed": true,
        "id": "6a89dae5",
        "outputId": "09e5a7ab-1620-49b2-f1a0-2b2a3ef9a8c6"
      },
      "source": [
        "def main(perform_tuning=True, use_attention=True):\n",
        "    print(f\"--- Running PINN Experiment ---\")\n",
        "    print(f\"Hyperparameter Tuning Enabled: {perform_tuning}\")\n",
        "    print(f\"Attention Mechanism Enabled: {use_attention}\")\n",
        "    print(\"-\" * 30)\n",
        "\n",
        "    # 6. ODE and Boundary Condition Input (User Defined) - Reuse existing\n",
        "    ode_func = example_ode\n",
        "    bc_points = {\n",
        "        'dirichlet': [\n",
        "            (torch.tensor([[0.0]]), torch.tensor([[1.0]])),  # y(0) = 1.0\n",
        "        ],\n",
        "    }\n",
        "\n",
        "    # Network, domain, and training settings\n",
        "    x_domain = (0, 2)\n",
        "    N_f = 50\n",
        "    x_f_train = torch.linspace(*x_domain, N_f).view(-1, 1)\n",
        "    x_eval = np.linspace(*x_domain, 200).reshape(-1, 1)\n",
        "    epochs = 3000 # Full epochs for final run\n",
        "    n_ensembles = 5\n",
        "\n",
        "    # 2. Add configuration option for tuning & 3. Run tuning if enabled\n",
        "    if perform_tuning:\n",
        "        print(\"Starting Optuna hyperparameter tuning...\")\n",
        "        tuning_epochs = 500 # Reduced epochs for faster tuning\n",
        "\n",
        "        def objective(trial):\n",
        "            lr = trial.suggest_float('lr', 1e-4, 1e-2, log=True)\n",
        "            n_layers = trial.suggest_int('n_layers', 2, 5)\n",
        "            n_neurons = trial.suggest_int('n_neurons', 20, 100)\n",
        "            activation_name = trial.suggest_categorical('activation', ['Tanh', 'ReLU'])\n",
        "            loss_weight_physics = trial.suggest_float('loss_weight_physics', 0.1, 10.0)\n",
        "            loss_weight_bc = trial.suggest_float('loss_weight_bc', 0.1, 10.0)\n",
        "\n",
        "            activation = nn.Tanh if activation_name == 'Tanh' else nn.ReLU\n",
        "            layers = [1] + [n_neurons] * n_layers + [1]\n",
        "\n",
        "            # Instantiate model for tuning (standard PINN)\n",
        "            model = PINN(layers=layers, activation=activation, use_attention=False) # Tune with standard PINN first\n",
        "            optimizer = torch.optim.Adam(model.parameters(), lr=lr)\n",
        "\n",
        "            train_pinn(model, optimizer, tuning_epochs, x_f_train, bc_points, ode_func, verbose=False, loss_weights=(loss_weight_physics, loss_weight_bc))\n",
        "\n",
        "            loss_pde = physics_loss(model, x_f_train, ode_func)\n",
        "            loss_bc = boundary_loss(model, bc_points)\n",
        "            total_loss = loss_weight_physics * loss_pde + loss_weight_bc * loss_bc\n",
        "\n",
        "            return total_loss.item()\n",
        "\n",
        "        study = optuna.create_study(direction=\"minimize\")\n",
        "        study.optimize(objective, n_trials=50, show_progress_bar=True) # Reduced trials for example\n",
        "\n",
        "        best_params = study.best_params\n",
        "        print(\"\\nBest hyperparameters found by Optuna:\")\n",
        "        print(best_params)\n",
        "        print(\"-\" * 30)\n",
        "\n",
        "    else: # 4. If tuning disabled, use default/predefined hyperparameters\n",
        "        print(\"Using predefined hyperparameters.\")\n",
        "        # Use the best parameters found in the previous tuning step as predefined defaults\n",
        "        best_params = {\n",
        "            'lr': 0.004613348903047689,\n",
        "            'n_layers': 3,\n",
        "            'n_neurons': 33,\n",
        "            'activation': 'Tanh',\n",
        "            'loss_weight_physics': 0.4611373821120857,\n",
        "            'loss_weight_bc': 3.8965207403725244\n",
        "        }\n",
        "        print(\"Predefined hyperparameters:\")\n",
        "        print(best_params)\n",
        "        print(\"-\" * 30)\n",
        "\n",
        "\n",
        "    # 5. Add configuration option for attention & 6. Instantiate model based on config\n",
        "    best_lr = best_params['lr']\n",
        "    best_n_layers = best_params['n_layers']\n",
        "    best_n_neurons = best_params['n_neurons']\n",
        "    best_activation_name = best_params['activation']\n",
        "    best_loss_weight_physics = best_params['loss_weight_physics']\n",
        "    best_loss_weight_bc = best_params['loss_weight_bc']\n",
        "\n",
        "    best_activation = nn.Tanh if best_activation_name == 'Tanh' else nn.ReLU\n",
        "    layers = [1] + [best_n_neurons] * best_n_layers + [1]\n",
        "    pinn_args = {'layers': layers, 'activation': best_activation}\n",
        "\n",
        "\n",
        "    # 7. Train the PINN ensemble using selected architecture and hyperparameters\n",
        "    print(f\"Training PINN ensemble with {'Attention' if use_attention else 'Standard'} architecture and {'Optimized' if perform_tuning else 'Predefined'} hyperparameters...\")\n",
        "\n",
        "    mean_pred, std_pred = ensemble_predict_optimized(\n",
        "        n_ensembles,\n",
        "        pinn_args,\n",
        "        x_f_train,\n",
        "        bc_points,\n",
        "        ode_func,\n",
        "        x_eval,\n",
        "        epochs=epochs,\n",
        "        lr=best_lr,\n",
        "        loss_weights=(best_loss_weight_physics, best_loss_weight_bc),\n",
        "        use_attention=use_attention # Pass the attention flag\n",
        "    )\n",
        "\n",
        "    # 8. Perform analytic fit and generate visualizations\n",
        "    params = perform_analytic_fit(x_eval.flatten(), mean_pred)\n",
        "    analytic_curve = analytic_fit_func(x_eval.flatten(), *params)\n",
        "\n",
        "    plt.figure(figsize=(10,6))\n",
        "    plot_label = f\"PINN Ensemble Mean ({'Attention' if use_attention else 'Standard'}, {'Optimized' if perform_tuning else 'Predefined'})\"\n",
        "    title_label = f\"PINN Solution ({'Attention' if use_attention else 'Standard'}, {'Optimized' if perform_tuning else 'Predefined'}), Analytic Fit, and Uncertainty\"\n",
        "\n",
        "    plt.plot(x_eval, mean_pred, 'b-' if use_attention else 'r-', label=plot_label)\n",
        "    plt.fill_between(x_eval.flatten(), mean_pred-std_pred, mean_pred+std_pred, alpha=0.18, color='b' if use_attention else 'r', label=f\"PINN Uncertainty ({'Attention' if use_attention else 'Standard'})\")\n",
        "    plt.plot(x_eval, analytic_curve, 'g--', label='Analytic Fit')\n",
        "    plt.xlabel(\"x\")\n",
        "    plt.ylabel(\"y\")\n",
        "    plt.title(title_label)\n",
        "    plt.legend()\n",
        "    plt.show()\n",
        "\n",
        "    # 9. Include print statements summarizing configuration and results\n",
        "    print(\"-\" * 30)\n",
        "    print(\"Experiment Summary:\")\n",
        "    print(f\"  Hyperparameter Tuning Performed: {perform_tuning}\")\n",
        "    print(f\"  Attention Mechanism Used: {use_attention}\")\n",
        "    print(f\"  Number of Ensemble Models: {n_ensembles}\")\n",
        "    print(f\"  Epochs per Model: {epochs}\")\n",
        "    print(f\"  Final Model Hyperparameters: {best_params}\")\n",
        "    print(\"Analytic Fit Parameters:\", params)\n",
        "    print(f\"Analytic Fit Equation: y ≈ {params[0]:.4f} * exp({params[1]:.4f} * x) + {params[2]:.4f} * sin({params[3]:.4f} * x) + {params[4]:.4f} * x^2 + {params[5]:.4f}\")\n",
        "    print(\"-\" * 30)\n",
        "\n",
        "# Example Usage:\n",
        "# To run with tuning and attention:\n",
        "# main(perform_tuning=True, use_attention=True)\n",
        "\n",
        "# To run with predefined params and attention:\n",
        "# main(perform_tuning=False, use_attention=True)\n",
        "\n",
        "# To run with predefined params and no attention:\n",
        "# main(perform_tuning=False, use_attention=False)\n",
        "\n",
        "# Execute the main function with a chosen configuration\n",
        "main(perform_tuning=True, use_attention=True) # Example run with tuning and attention"
      ],
      "execution_count": 42,
      "outputs": [
        {
          "output_type": "stream",
          "name": "stderr",
          "text": [
            "[I 2025-08-13 12:48:38,432] A new study created in memory with name: no-name-4ba7eb41-2d9e-4cd2-b207-0ab61622445c\n"
          ]
        },
        {
          "output_type": "stream",
          "name": "stdout",
          "text": [
            "--- Running PINN Experiment ---\n",
            "Hyperparameter Tuning Enabled: True\n",
            "Attention Mechanism Enabled: True\n",
            "------------------------------\n",
            "Starting Optuna hyperparameter tuning...\n"
          ]
        },
        {
          "output_type": "display_data",
          "data": {
            "text/plain": [
              "  0%|          | 0/50 [00:00<?, ?it/s]"
            ],
            "application/vnd.jupyter.widget-view+json": {
              "version_major": 2,
              "version_minor": 0,
              "model_id": "8b74cf28c77e4d30a163d29158c642af"
            }
          },
          "metadata": {}
        },
        {
          "output_type": "stream",
          "name": "stdout",
          "text": [
            "[I 2025-08-13 12:48:39,464] Trial 0 finished with value: 15.009408950805664 and parameters: {'lr': 0.00015787813067483236, 'n_layers': 3, 'n_neurons': 66, 'activation': 'ReLU', 'loss_weight_physics': 8.05474706845332, 'loss_weight_bc': 9.112367389774139}. Best is trial 0 with value: 15.009408950805664.\n",
            "[I 2025-08-13 12:48:41,002] Trial 1 finished with value: 0.007131590042263269 and parameters: {'lr': 0.0067238136216029075, 'n_layers': 5, 'n_neurons': 84, 'activation': 'Tanh', 'loss_weight_physics': 1.7203544811184726, 'loss_weight_bc': 2.9522158668610365}. Best is trial 1 with value: 0.007131590042263269.\n",
            "[I 2025-08-13 12:48:42,153] Trial 2 finished with value: 0.014483536593616009 and parameters: {'lr': 0.0024615963249868494, 'n_layers': 4, 'n_neurons': 52, 'activation': 'ReLU', 'loss_weight_physics': 2.2573638744418987, 'loss_weight_bc': 5.615940512457596}. Best is trial 1 with value: 0.007131590042263269.\n",
            "[I 2025-08-13 12:48:43,641] Trial 3 finished with value: 5.745149612426758 and parameters: {'lr': 0.00015120160628230982, 'n_layers': 3, 'n_neurons': 86, 'activation': 'Tanh', 'loss_weight_physics': 1.1158413689444753, 'loss_weight_bc': 5.454042337953877}. Best is trial 1 with value: 0.007131590042263269.\n",
            "[I 2025-08-13 12:48:44,763] Trial 4 finished with value: 3.8096795082092285 and parameters: {'lr': 0.00016521586800122203, 'n_layers': 3, 'n_neurons': 84, 'activation': 'ReLU', 'loss_weight_physics': 4.48236030189675, 'loss_weight_bc': 1.823362762286786}. Best is trial 1 with value: 0.007131590042263269.\n",
            "[I 2025-08-13 12:48:46,001] Trial 5 finished with value: 0.4648337960243225 and parameters: {'lr': 0.0003760701793481321, 'n_layers': 4, 'n_neurons': 82, 'activation': 'ReLU', 'loss_weight_physics': 9.102359710204581, 'loss_weight_bc': 5.373592951854925}. Best is trial 1 with value: 0.007131590042263269.\n",
            "[I 2025-08-13 12:48:47,092] Trial 6 finished with value: 16.0399169921875 and parameters: {'lr': 0.000377646907841188, 'n_layers': 3, 'n_neurons': 91, 'activation': 'Tanh', 'loss_weight_physics': 7.3075622119423755, 'loss_weight_bc': 3.763586561512128}. Best is trial 1 with value: 0.007131590042263269.\n",
            "[I 2025-08-13 12:48:48,251] Trial 7 finished with value: 0.24058425426483154 and parameters: {'lr': 0.005633835856751908, 'n_layers': 4, 'n_neurons': 65, 'activation': 'ReLU', 'loss_weight_physics': 6.980929364324299, 'loss_weight_bc': 3.481429070414221}. Best is trial 1 with value: 0.007131590042263269.\n",
            "[I 2025-08-13 12:48:49,360] Trial 8 finished with value: 33.286800384521484 and parameters: {'lr': 0.00024021164720842633, 'n_layers': 4, 'n_neurons': 40, 'activation': 'Tanh', 'loss_weight_physics': 7.563939322657974, 'loss_weight_bc': 5.735078588283347}. Best is trial 1 with value: 0.007131590042263269.\n",
            "[I 2025-08-13 12:48:50,898] Trial 9 finished with value: 0.06279972940683365 and parameters: {'lr': 0.0010810978036304075, 'n_layers': 5, 'n_neurons': 85, 'activation': 'Tanh', 'loss_weight_physics': 7.622245010405105, 'loss_weight_bc': 7.643564039249266}. Best is trial 1 with value: 0.007131590042263269.\n",
            "[I 2025-08-13 12:48:52,116] Trial 10 finished with value: 0.16112464666366577 and parameters: {'lr': 0.009107790914286424, 'n_layers': 5, 'n_neurons': 23, 'activation': 'Tanh', 'loss_weight_physics': 3.713119846549194, 'loss_weight_bc': 1.0988885116560456}. Best is trial 1 with value: 0.007131590042263269.\n",
            "[I 2025-08-13 12:48:53,410] Trial 11 finished with value: 0.03659585118293762 and parameters: {'lr': 0.002891747718740746, 'n_layers': 5, 'n_neurons': 48, 'activation': 'ReLU', 'loss_weight_physics': 0.9791606111283857, 'loss_weight_bc': 3.003503705031327}. Best is trial 1 with value: 0.007131590042263269.\n",
            "[I 2025-08-13 12:48:54,430] Trial 12 finished with value: 0.12380040436983109 and parameters: {'lr': 0.0020438729015273193, 'n_layers': 2, 'n_neurons': 52, 'activation': 'Tanh', 'loss_weight_physics': 2.698382646663957, 'loss_weight_bc': 7.514718443292574}. Best is trial 1 with value: 0.007131590042263269.\n",
            "[I 2025-08-13 12:48:56,197] Trial 13 finished with value: 0.021560063585639 and parameters: {'lr': 0.0034727561408219865, 'n_layers': 5, 'n_neurons': 71, 'activation': 'ReLU', 'loss_weight_physics': 2.3370500024409937, 'loss_weight_bc': 7.0005671179743985}. Best is trial 1 with value: 0.007131590042263269.\n",
            "[I 2025-08-13 12:48:57,301] Trial 14 finished with value: 0.007137152832001448 and parameters: {'lr': 0.0012291865545918964, 'n_layers': 4, 'n_neurons': 36, 'activation': 'ReLU', 'loss_weight_physics': 0.1528260264676451, 'loss_weight_bc': 0.3677224488680646}. Best is trial 1 with value: 0.007131590042263269.\n",
            "[I 2025-08-13 12:48:58,894] Trial 15 finished with value: 0.002716735703870654 and parameters: {'lr': 0.001002590119506415, 'n_layers': 5, 'n_neurons': 100, 'activation': 'Tanh', 'loss_weight_physics': 0.35356536305857156, 'loss_weight_bc': 0.38524498456181466}. Best is trial 15 with value: 0.002716735703870654.\n",
            "[I 2025-08-13 12:49:00,504] Trial 16 finished with value: 0.024005252867937088 and parameters: {'lr': 0.00826898128765307, 'n_layers': 5, 'n_neurons': 100, 'activation': 'Tanh', 'loss_weight_physics': 5.447039079995114, 'loss_weight_bc': 2.075647170717775}. Best is trial 15 with value: 0.002716735703870654.\n",
            "[I 2025-08-13 12:49:01,405] Trial 17 finished with value: 0.5870634317398071 and parameters: {'lr': 0.0005280240806877163, 'n_layers': 2, 'n_neurons': 99, 'activation': 'Tanh', 'loss_weight_physics': 0.12143506624021078, 'loss_weight_bc': 2.3069865551977182}. Best is trial 15 with value: 0.002716735703870654.\n",
            "[I 2025-08-13 12:49:02,828] Trial 18 finished with value: 0.046424418687820435 and parameters: {'lr': 0.0006928128996733439, 'n_layers': 5, 'n_neurons': 76, 'activation': 'Tanh', 'loss_weight_physics': 1.4602720114666754, 'loss_weight_bc': 0.9215551002619732}. Best is trial 15 with value: 0.002716735703870654.\n",
            "[I 2025-08-13 12:49:04,441] Trial 19 finished with value: 0.04446408897638321 and parameters: {'lr': 0.0016050171674598334, 'n_layers': 5, 'n_neurons': 91, 'activation': 'Tanh', 'loss_weight_physics': 3.301662619201138, 'loss_weight_bc': 4.163505689124778}. Best is trial 15 with value: 0.002716735703870654.\n",
            "[I 2025-08-13 12:49:05,886] Trial 20 finished with value: 0.11890372633934021 and parameters: {'lr': 0.004640811267352663, 'n_layers': 4, 'n_neurons': 75, 'activation': 'Tanh', 'loss_weight_physics': 5.66128281462275, 'loss_weight_bc': 0.2759927454645199}. Best is trial 15 with value: 0.002716735703870654.\n",
            "[I 2025-08-13 12:49:07,256] Trial 21 finished with value: 0.006658168975263834 and parameters: {'lr': 0.0011879814084569157, 'n_layers': 4, 'n_neurons': 20, 'activation': 'ReLU', 'loss_weight_physics': 0.12830087256439437, 'loss_weight_bc': 0.1829300629153161}. Best is trial 15 with value: 0.002716735703870654.\n",
            "[I 2025-08-13 12:49:08,527] Trial 22 finished with value: 0.047181036323308945 and parameters: {'lr': 0.0007591011761743581, 'n_layers': 5, 'n_neurons': 28, 'activation': 'Tanh', 'loss_weight_physics': 1.3289356926812879, 'loss_weight_bc': 0.1480815575305692}. Best is trial 15 with value: 0.002716735703870654.\n",
            "[I 2025-08-13 12:49:09,891] Trial 23 finished with value: 0.0013334418181329966 and parameters: {'lr': 0.0014486884144967258, 'n_layers': 4, 'n_neurons': 94, 'activation': 'ReLU', 'loss_weight_physics': 0.29754796290188545, 'loss_weight_bc': 1.4205752768762567}. Best is trial 23 with value: 0.0013334418181329966.\n",
            "[I 2025-08-13 12:49:11,294] Trial 24 finished with value: 0.0016225742874667048 and parameters: {'lr': 0.0015358245476523888, 'n_layers': 4, 'n_neurons': 93, 'activation': 'ReLU', 'loss_weight_physics': 0.12311635112159824, 'loss_weight_bc': 1.277837675795742}. Best is trial 23 with value: 0.0013334418181329966.\n",
            "[I 2025-08-13 12:49:12,678] Trial 25 finished with value: 0.009223997592926025 and parameters: {'lr': 0.0017085927476931083, 'n_layers': 4, 'n_neurons': 95, 'activation': 'ReLU', 'loss_weight_physics': 0.756307264698725, 'loss_weight_bc': 1.5175184058704065}. Best is trial 23 with value: 0.0013334418181329966.\n",
            "[I 2025-08-13 12:49:13,806] Trial 26 finished with value: 0.058825504034757614 and parameters: {'lr': 0.000719010275026359, 'n_layers': 3, 'n_neurons': 92, 'activation': 'ReLU', 'loss_weight_physics': 3.121690406178055, 'loss_weight_bc': 1.2064058546794152}. Best is trial 23 with value: 0.0013334418181329966.\n",
            "[I 2025-08-13 12:49:15,198] Trial 27 finished with value: 0.04276437684893608 and parameters: {'lr': 0.0016218380623643361, 'n_layers': 4, 'n_neurons': 100, 'activation': 'ReLU', 'loss_weight_physics': 4.307592959537693, 'loss_weight_bc': 2.678284675866438}. Best is trial 23 with value: 0.0013334418181329966.\n",
            "[I 2025-08-13 12:49:16,467] Trial 28 finished with value: 0.02787318453192711 and parameters: {'lr': 0.0033310009117837585, 'n_layers': 4, 'n_neurons': 78, 'activation': 'ReLU', 'loss_weight_physics': 2.1127031124704727, 'loss_weight_bc': 4.694370882347116}. Best is trial 23 with value: 0.0013334418181329966.\n",
            "[I 2025-08-13 12:49:17,844] Trial 29 finished with value: 0.012167572043836117 and parameters: {'lr': 0.0009079109266547973, 'n_layers': 3, 'n_neurons': 64, 'activation': 'ReLU', 'loss_weight_physics': 0.7695854885036906, 'loss_weight_bc': 9.438738330523904}. Best is trial 23 with value: 0.0013334418181329966.\n",
            "[I 2025-08-13 12:49:19,123] Trial 30 finished with value: 0.035464461892843246 and parameters: {'lr': 0.0004813105372295294, 'n_layers': 3, 'n_neurons': 94, 'activation': 'ReLU', 'loss_weight_physics': 1.8136924363663605, 'loss_weight_bc': 0.9084270053787769}. Best is trial 23 with value: 0.0013334418181329966.\n",
            "[I 2025-08-13 12:49:20,365] Trial 31 finished with value: 0.0028764777816832066 and parameters: {'lr': 0.0012815340893685488, 'n_layers': 4, 'n_neurons': 57, 'activation': 'ReLU', 'loss_weight_physics': 0.3478781120006577, 'loss_weight_bc': 1.7034314293151094}. Best is trial 23 with value: 0.0013334418181329966.\n",
            "[I 2025-08-13 12:49:21,597] Trial 32 finished with value: 0.00654504494741559 and parameters: {'lr': 0.0012390063093492994, 'n_layers': 4, 'n_neurons': 57, 'activation': 'ReLU', 'loss_weight_physics': 0.6745130213566191, 'loss_weight_bc': 1.6285562501082507}. Best is trial 23 with value: 0.0013334418181329966.\n",
            "[I 2025-08-13 12:49:23,243] Trial 33 finished with value: 0.007681527640670538 and parameters: {'lr': 0.0021738412756490593, 'n_layers': 4, 'n_neurons': 69, 'activation': 'ReLU', 'loss_weight_physics': 1.6325211450682597, 'loss_weight_bc': 2.6275666378844904}. Best is trial 23 with value: 0.0013334418181329966.\n",
            "[I 2025-08-13 12:49:24,544] Trial 34 finished with value: 0.0037990908604115248 and parameters: {'lr': 0.0008929167104770913, 'n_layers': 4, 'n_neurons': 88, 'activation': 'ReLU', 'loss_weight_physics': 0.5510390382628523, 'loss_weight_bc': 0.8306676262797225}. Best is trial 23 with value: 0.0013334418181329966.\n",
            "[I 2025-08-13 12:49:25,603] Trial 35 finished with value: 0.08142809569835663 and parameters: {'lr': 0.0014247100387474061, 'n_layers': 3, 'n_neurons': 80, 'activation': 'ReLU', 'loss_weight_physics': 6.373821482119473, 'loss_weight_bc': 3.223258775897545}. Best is trial 23 with value: 0.0013334418181329966.\n",
            "[I 2025-08-13 12:49:27,005] Trial 36 finished with value: 0.20991402864456177 and parameters: {'lr': 0.002254723283197304, 'n_layers': 5, 'n_neurons': 61, 'activation': 'ReLU', 'loss_weight_physics': 8.611362471332368, 'loss_weight_bc': 1.967517273053848}. Best is trial 23 with value: 0.0013334418181329966.\n",
            "[I 2025-08-13 12:49:27,980] Trial 37 finished with value: 1.613036870956421 and parameters: {'lr': 0.0005308177019500283, 'n_layers': 3, 'n_neurons': 46, 'activation': 'ReLU', 'loss_weight_physics': 9.866239551136005, 'loss_weight_bc': 1.3931990623587418}. Best is trial 23 with value: 0.0013334418181329966.\n",
            "[I 2025-08-13 12:49:29,668] Trial 38 finished with value: 0.17311546206474304 and parameters: {'lr': 0.0002991364905921952, 'n_layers': 4, 'n_neurons': 56, 'activation': 'ReLU', 'loss_weight_physics': 1.3049871388806984, 'loss_weight_bc': 2.160973810803908}. Best is trial 23 with value: 0.0013334418181329966.\n",
            "[I 2025-08-13 12:49:31,000] Trial 39 finished with value: 0.0722857192158699 and parameters: {'lr': 0.004086553389312021, 'n_layers': 4, 'n_neurons': 87, 'activation': 'ReLU', 'loss_weight_physics': 2.4997492815104914, 'loss_weight_bc': 4.140378618400188}. Best is trial 23 with value: 0.0013334418181329966.\n",
            "[I 2025-08-13 12:49:32,428] Trial 40 finished with value: 0.04163869470357895 and parameters: {'lr': 0.0026928316896177007, 'n_layers': 5, 'n_neurons': 72, 'activation': 'ReLU', 'loss_weight_physics': 1.9187415176066618, 'loss_weight_bc': 0.580422615168856}. Best is trial 23 with value: 0.0013334418181329966.\n",
            "[I 2025-08-13 12:49:33,728] Trial 41 finished with value: 0.005426722578704357 and parameters: {'lr': 0.000891826894326316, 'n_layers': 4, 'n_neurons': 89, 'activation': 'ReLU', 'loss_weight_physics': 0.7007045672338099, 'loss_weight_bc': 0.7260442886165261}. Best is trial 23 with value: 0.0013334418181329966.\n",
            "[I 2025-08-13 12:49:35,072] Trial 42 finished with value: 0.005739850457757711 and parameters: {'lr': 0.000974342251688616, 'n_layers': 4, 'n_neurons': 97, 'activation': 'ReLU', 'loss_weight_physics': 0.4214804055201696, 'loss_weight_bc': 1.652101293683946}. Best is trial 23 with value: 0.0013334418181329966.\n",
            "[I 2025-08-13 12:49:36,316] Trial 43 finished with value: 0.012547769583761692 and parameters: {'lr': 0.001921990678066471, 'n_layers': 4, 'n_neurons': 84, 'activation': 'ReLU', 'loss_weight_physics': 1.09565788537381, 'loss_weight_bc': 1.148084824292574}. Best is trial 23 with value: 0.0013334418181329966.\n",
            "[I 2025-08-13 12:49:37,670] Trial 44 finished with value: 0.025340290740132332 and parameters: {'lr': 0.0006355929577722563, 'n_layers': 4, 'n_neurons': 95, 'activation': 'ReLU', 'loss_weight_physics': 0.49449532963918175, 'loss_weight_bc': 6.214668464459451}. Best is trial 23 with value: 0.0013334418181329966.\n",
            "[I 2025-08-13 12:49:39,037] Trial 45 finished with value: 0.007192439399659634 and parameters: {'lr': 0.0014157184268764524, 'n_layers': 4, 'n_neurons': 87, 'activation': 'Tanh', 'loss_weight_physics': 1.1420832018576401, 'loss_weight_bc': 8.479066587823707}. Best is trial 23 with value: 0.0013334418181329966.\n",
            "[I 2025-08-13 12:49:40,360] Trial 46 finished with value: 0.4054431915283203 and parameters: {'lr': 0.00012958922199791297, 'n_layers': 3, 'n_neurons': 82, 'activation': 'ReLU', 'loss_weight_physics': 0.10667910949226325, 'loss_weight_bc': 2.4908848945631856}. Best is trial 23 with value: 0.0013334418181329966.\n",
            "[I 2025-08-13 12:49:42,152] Trial 47 finished with value: 0.07993966341018677 and parameters: {'lr': 0.0004027325523655728, 'n_layers': 5, 'n_neurons': 90, 'activation': 'ReLU', 'loss_weight_physics': 2.863288486016054, 'loss_weight_bc': 0.6647425832785219}. Best is trial 23 with value: 0.0013334418181329966.\n",
            "[I 2025-08-13 12:49:43,457] Trial 48 finished with value: 0.020448993891477585 and parameters: {'lr': 0.0008403337285106558, 'n_layers': 4, 'n_neurons': 96, 'activation': 'Tanh', 'loss_weight_physics': 1.6722265532012497, 'loss_weight_bc': 3.560225827678728}. Best is trial 23 with value: 0.0013334418181329966.\n",
            "[I 2025-08-13 12:49:44,325] Trial 49 finished with value: 0.263001948595047 and parameters: {'lr': 0.001046701222065005, 'n_layers': 2, 'n_neurons': 93, 'activation': 'ReLU', 'loss_weight_physics': 1.01033971323697, 'loss_weight_bc': 1.8247593405518103}. Best is trial 23 with value: 0.0013334418181329966.\n",
            "\n",
            "Best hyperparameters found by Optuna:\n",
            "{'lr': 0.0014486884144967258, 'n_layers': 4, 'n_neurons': 94, 'activation': 'ReLU', 'loss_weight_physics': 0.29754796290188545, 'loss_weight_bc': 1.4205752768762567}\n",
            "------------------------------\n",
            "Training PINN ensemble with Attention architecture and Optimized hyperparameters...\n"
          ]
        },
        {
          "output_type": "display_data",
          "data": {
            "text/plain": [
              "<Figure size 1000x600 with 1 Axes>"
            ],
            "image/png": "[encoded data removed]"
          },
          "metadata": {}
        },
        {
          "output_type": "stream",
          "name": "stdout",
          "text": [
            "------------------------------\n",
            "Experiment Summary:\n",
            "  Hyperparameter Tuning Performed: True\n",
            "  Attention Mechanism Used: True\n",
            "  Number of Ensemble Models: 5\n",
            "  Epochs per Model: 3000\n",
            "  Final Model Hyperparameters: {'lr': 0.0014486884144967258, 'n_layers': 4, 'n_neurons': 94, 'activation': 'ReLU', 'loss_weight_physics': 0.29754796290188545, 'loss_weight_bc': 1.4205752768762567}\n",
            "Analytic Fit Parameters: [ 9.99998671 -0.14911548  1.43395129  0.24906115  1.22511088 -8.98274825]\n",
            "Analytic Fit Equation: y ≈ 10.0000 * exp(-0.1491 * x) + 1.4340 * sin(0.2491 * x) + 1.2251 * x^2 + -8.9827\n",
            "------------------------------\n"
          ]
        }
      ]
    },
    {
      "cell_type": "markdown",
      "metadata": {
        "id": "2d1c3db6"
      },
      "source": [
        "## Refine and integrate\n",
        "\n",
        "### Subtask:\n",
        "Add options for the user to choose between different model architectures (standard PINN, attention-based PINN, etc.) and whether to perform hyperparameter tuning.\n"
      ]
    },
    {
      "cell_type": "markdown",
      "metadata": {
        "id": "3d7f044f"
      },
      "source": [
        "**Reasoning**:\n",
        "Review the `main` function and verify that the `perform_tuning` and `use_attention` parameters control the hyperparameter tuning and attention mechanism usage, and that the code branches correctly based on these parameters.\n",
        "\n"
      ]
    },
    {
      "cell_type": "code",
      "metadata": {
        "colab": {
          "base_uri": "https://localhost:8080/"
        },
        "id": "b10509b6",
        "outputId": "a3e2dfe8-fa67-4e86-b012-d2d480642c2d"
      },
      "source": [
        "# Review the main function structure\n",
        "# The main function accepts `perform_tuning` and `use_attention` as boolean arguments.\n",
        "# It prints the chosen configuration at the start.\n",
        "# The code checks `if perform_tuning:` to either run the Optuna optimization or use predefined `best_params`. This confirms branching for hyperparameter tuning.\n",
        "# When instantiating the PINN model within `ensemble_predict_optimized`, the `use_attention` parameter is passed to the `PINN` constructor. This confirms branching for the attention mechanism.\n",
        "# The plot labels and titles are generated using f-strings that incorporate the values of `use_attention` and `perform_tuning`, ensuring the output reflects the chosen configuration.\n",
        "# No code modifications are needed as the structure already fulfills the requirements.\n",
        "print(\"Review of main function complete. The structure correctly implements the configuration options and branching.\")"
      ],
      "execution_count": 43,
      "outputs": [
        {
          "output_type": "stream",
          "name": "stdout",
          "text": [
            "Review of main function complete. The structure correctly implements the configuration options and branching.\n"
          ]
        }
      ]
    },
    {
      "cell_type": "markdown",
      "metadata": {
        "id": "518939a1"
      },
      "source": [
        "## Refine and integrate\n",
        "\n",
        "### Subtask:\n",
        "Update documentation and examples to reflect the new features.\n"
      ]
    },
    {
      "cell_type": "markdown",
      "metadata": {
        "id": "ddac8f1c"
      },
      "source": [
        "**Reasoning**:\n",
        "Add a markdown cell at the beginning to provide an overview of the new features.\n",
        "\n"
      ]
    },
    {
      "cell_type": "code",
      "metadata": {
        "colab": {
          "base_uri": "https://localhost:8080/",
          "height": 285
        },
        "id": "f4d6dbfa",
        "outputId": "10bc55cc-fb18-45d0-b659-a94259f67b84"
      },
      "source": [
        "%%markdown\n",
        "# PINN Framework with Hyperparameter Tuning and Attention Mechanism\n",
        "\n",
        "This notebook extends the flexible PINN framework to include:\n",
        "- **Hyperparameter Autotuning with Optuna:** Automatically find optimal network architecture and training parameters.\n",
        "- **Attention-Enhanced PINN Model:** Option to use a PINN model incorporating a simple feature-wise attention mechanism.\n",
        "- **User-defined ODE and BCs:** Still supports custom differential equations and boundary conditions.\n",
        "- **Ensemble PINNs:** For uncertainty quantification.\n",
        "- **Analytic Regression Fit:** For solution interpretability.\n",
        "- **High-quality Visualizations:** To analyze results.\n",
        "\n",
        "The main function `main(perform_tuning=True, use_attention=True)` allows easy configuration of experiments to explore different settings."
      ],
      "execution_count": 44,
      "outputs": [
        {
          "output_type": "display_data",
          "data": {
            "text/plain": [
              "<IPython.core.display.Markdown object>"
            ],
            "text/markdown": "# PINN Framework with Hyperparameter Tuning and Attention Mechanism\n\nThis notebook extends the flexible PINN framework to include:\n- **Hyperparameter Autotuning with Optuna:** Automatically find optimal network architecture and training parameters.\n- **Attention-Enhanced PINN Model:** Option to use a PINN model incorporating a simple feature-wise attention mechanism.\n- **User-defined ODE and BCs:** Still supports custom differential equations and boundary conditions.\n- **Ensemble PINNs:** For uncertainty quantification.\n- **Analytic Regression Fit:** For solution interpretability.\n- **High-quality Visualizations:** To analyze results.\n\nThe main function `main(perform_tuning=True, use_attention=True)` allows easy configuration of experiments to explore different settings.\n"
          },
          "metadata": {}
        }
      ]
    },
    {
      "cell_type": "markdown",
      "metadata": {
        "id": "3986ebfd"
      },
      "source": [
        "**Reasoning**:\n",
        "Update existing markdown cells to explain the new configuration options and provide examples of how to use the main function with different configurations.\n",
        "\n"
      ]
    },
    {
      "cell_type": "code",
      "metadata": {
        "colab": {
          "base_uri": "https://localhost:8080/",
          "height": 118
        },
        "id": "96d6be6d",
        "outputId": "c6d9986b-502e-4f25-dd81-465c9cc74b9f"
      },
      "source": [
        "%%markdown\n",
        "### 6. ODE and Boundary Condition Input (User Defined)\n",
        "\n",
        "Define your Ordinary Differential Equation (ODE) as a Python lambda function `ode_func(x, y, dy_dx)`.\n",
        "Also, define your boundary conditions in the `bc_points` dictionary. Dirichlet conditions are specified as a list of tuples `(x0, y0)` and Neumann conditions as `(x0, dydx0)`.\n"
      ],
      "execution_count": 45,
      "outputs": [
        {
          "output_type": "display_data",
          "data": {
            "text/plain": [
              "<IPython.core.display.Markdown object>"
            ],
            "text/markdown": "### 6. ODE and Boundary Condition Input (User Defined)\n\nDefine your Ordinary Differential Equation (ODE) as a Python lambda function `ode_func(x, y, dy_dx)`.\nAlso, define your boundary conditions in the `bc_points` dictionary. Dirichlet conditions are specified as a list of tuples `(x0, y0)` and Neumann conditions as `(x0, dydx0)`.\n"
          },
          "metadata": {}
        }
      ]
    },
    {
      "cell_type": "markdown",
      "metadata": {
        "id": "27b10a21"
      },
      "source": [
        "**Reasoning**:\n",
        "The user wants to extract the python code block from the provided text.\n",
        "\n"
      ]
    },
    {
      "cell_type": "code",
      "metadata": {
        "colab": {
          "base_uri": "https://localhost:8080/",
          "height": 1000,
          "referenced_widgets": [
            "a66d51de4b3244fabc7ee2faf7404376",
            "71339b83549b4fc99b7128c54ec58103",
            "1edd907eb03e46778cef7da0f54da0bc",
            "7428dbe2dd9f4165b007217f1bfaca04",
            "be07c460f25c45f489c8eac350983121",
            "ff2ee826922547ba9e253753cf28a826",
            "1e2baa20d1f145c8ac8c1a9fe07ccc7a",
            "10299109cda74f0badd6bc91638bf2a8",
            "f6e69eff48c8491fba80fc574cb3dde4",
            "ad14219ef1f0467e99501c43bace8199",
            "fed751aa865e4c1bb023823cbf0f1057"
          ]
        },
        "id": "ffc08918",
        "outputId": "90e1200a-a795-4766-9ada-515aaaac3dd8"
      },
      "source": [
        "# Run with hyperparameter tuning and the attention-enhanced PINN\n",
        "main(perform_tuning=True, use_attention=True)\n",
        "\n",
        "# Run with predefined hyperparameters and the standard PINN\n",
        "# main(perform_tuning=False, use_attention=False)\n",
        "\n",
        "# Run with predefined hyperparameters and the attention-enhanced PINN\n",
        "# main(perform_tuning=False, use_attention=True)\n",
        "\n",
        "# Run with hyperparameter tuning and the standard PINN (tuning finds params for standard model)\n",
        "# main(perform_tuning=True, use_attention=False)"
      ],
      "execution_count": 46,
      "outputs": [
        {
          "output_type": "stream",
          "name": "stderr",
          "text": [
            "[I 2025-08-13 12:51:10,799] A new study created in memory with name: no-name-cb448628-f601-42b2-bd9e-ce13a3b94667\n"
          ]
        },
        {
          "output_type": "stream",
          "name": "stdout",
          "text": [
            "--- Running PINN Experiment ---\n",
            "Hyperparameter Tuning Enabled: True\n",
            "Attention Mechanism Enabled: True\n",
            "------------------------------\n",
            "Starting Optuna hyperparameter tuning...\n"
          ]
        },
        {
          "output_type": "display_data",
          "data": {
            "text/plain": [
              "  0%|          | 0/50 [00:00<?, ?it/s]"
            ],
            "application/vnd.jupyter.widget-view+json": {
              "version_major": 2,
              "version_minor": 0,
              "model_id": "a66d51de4b3244fabc7ee2faf7404376"
            }
          },
          "metadata": {}
        },
        {
          "output_type": "stream",
          "name": "stdout",
          "text": [
            "[I 2025-08-13 12:51:12,741] Trial 0 finished with value: 0.14031361043453217 and parameters: {'lr': 0.009170470535512043, 'n_layers': 5, 'n_neurons': 72, 'activation': 'ReLU', 'loss_weight_physics': 1.3260843547843242, 'loss_weight_bc': 4.4462033937960435}. Best is trial 0 with value: 0.14031361043453217.\n",
            "[I 2025-08-13 12:51:14,011] Trial 1 finished with value: 0.013167872093617916 and parameters: {'lr': 0.000616098358351094, 'n_layers': 4, 'n_neurons': 79, 'activation': 'Tanh', 'loss_weight_physics': 1.8038193961568123, 'loss_weight_bc': 9.896749452168526}. Best is trial 1 with value: 0.013167872093617916.\n",
            "[I 2025-08-13 12:51:15,001] Trial 2 finished with value: 0.0614268034696579 and parameters: {'lr': 0.0008007666449456431, 'n_layers': 3, 'n_neurons': 57, 'activation': 'Tanh', 'loss_weight_physics': 5.6053373369616635, 'loss_weight_bc': 7.040274927065256}. Best is trial 1 with value: 0.013167872093617916.\n",
            "[I 2025-08-13 12:51:16,158] Trial 3 finished with value: 0.12717768549919128 and parameters: {'lr': 0.0058089362436203025, 'n_layers': 4, 'n_neurons': 56, 'activation': 'Tanh', 'loss_weight_physics': 9.226441305528182, 'loss_weight_bc': 0.26392926263173105}. Best is trial 1 with value: 0.013167872093617916.\n",
            "[I 2025-08-13 12:51:17,315] Trial 4 finished with value: 13.351243019104004 and parameters: {'lr': 0.00013138404061581717, 'n_layers': 3, 'n_neurons': 95, 'activation': 'ReLU', 'loss_weight_physics': 7.454255798128908, 'loss_weight_bc': 0.8308835667231298}. Best is trial 1 with value: 0.013167872093617916.\n",
            "[I 2025-08-13 12:51:18,145] Trial 5 finished with value: 11.963777542114258 and parameters: {'lr': 0.001228758666919673, 'n_layers': 2, 'n_neurons': 65, 'activation': 'Tanh', 'loss_weight_physics': 3.3907517658763617, 'loss_weight_bc': 4.370612429312327}. Best is trial 1 with value: 0.013167872093617916.\n",
            "[I 2025-08-13 12:51:19,744] Trial 6 finished with value: 0.2164713442325592 and parameters: {'lr': 0.00027341104849797136, 'n_layers': 5, 'n_neurons': 92, 'activation': 'Tanh', 'loss_weight_physics': 9.469793363280957, 'loss_weight_bc': 6.642849886155746}. Best is trial 1 with value: 0.013167872093617916.\n",
            "[I 2025-08-13 12:51:20,614] Trial 7 finished with value: 0.5883059501647949 and parameters: {'lr': 0.004064562964039833, 'n_layers': 2, 'n_neurons': 67, 'activation': 'Tanh', 'loss_weight_physics': 5.619849703436911, 'loss_weight_bc': 5.161348766349864}. Best is trial 1 with value: 0.013167872093617916.\n",
            "[I 2025-08-13 12:51:21,542] Trial 8 finished with value: 37.59170150756836 and parameters: {'lr': 0.00015805907035609383, 'n_layers': 3, 'n_neurons': 27, 'activation': 'Tanh', 'loss_weight_physics': 6.904895433727208, 'loss_weight_bc': 2.5650323063866085}. Best is trial 1 with value: 0.013167872093617916.\n",
            "[I 2025-08-13 12:51:22,460] Trial 9 finished with value: 20.74577522277832 and parameters: {'lr': 0.0005103241273821416, 'n_layers': 2, 'n_neurons': 74, 'activation': 'Tanh', 'loss_weight_physics': 5.924702455542936, 'loss_weight_bc': 3.056394673957327}. Best is trial 1 with value: 0.013167872093617916.\n",
            "[I 2025-08-13 12:51:24,022] Trial 10 finished with value: 0.06133609265089035 and parameters: {'lr': 0.0021265008121361282, 'n_layers': 4, 'n_neurons': 35, 'activation': 'ReLU', 'loss_weight_physics': 0.4254631412522065, 'loss_weight_bc': 9.429247551184512}. Best is trial 1 with value: 0.013167872093617916.\n",
            "[I 2025-08-13 12:51:25,093] Trial 11 finished with value: 0.005621923133730888 and parameters: {'lr': 0.0019210477630251118, 'n_layers': 4, 'n_neurons': 29, 'activation': 'ReLU', 'loss_weight_physics': 0.12708623692924592, 'loss_weight_bc': 9.99137896608926}. Best is trial 11 with value: 0.005621923133730888.\n",
            "[I 2025-08-13 12:51:26,230] Trial 12 finished with value: 0.07634968310594559 and parameters: {'lr': 0.0017900905821742537, 'n_layers': 4, 'n_neurons': 43, 'activation': 'ReLU', 'loss_weight_physics': 2.825904724603513, 'loss_weight_bc': 9.52614135106801}. Best is trial 11 with value: 0.005621923133730888.\n",
            "[I 2025-08-13 12:51:27,288] Trial 13 finished with value: 2.4059410095214844 and parameters: {'lr': 0.00045727147169261366, 'n_layers': 4, 'n_neurons': 21, 'activation': 'ReLU', 'loss_weight_physics': 2.339217445797629, 'loss_weight_bc': 8.246112116945028}. Best is trial 11 with value: 0.005621923133730888.\n",
            "[I 2025-08-13 12:51:28,801] Trial 14 finished with value: 0.021949535235762596 and parameters: {'lr': 0.00257721738409936, 'n_layers': 5, 'n_neurons': 83, 'activation': 'ReLU', 'loss_weight_physics': 0.26774255264877966, 'loss_weight_bc': 9.860758634439462}. Best is trial 11 with value: 0.005621923133730888.\n",
            "[I 2025-08-13 12:51:29,914] Trial 15 finished with value: 0.06754298508167267 and parameters: {'lr': 0.0009308123768318038, 'n_layers': 4, 'n_neurons': 41, 'activation': 'ReLU', 'loss_weight_physics': 3.992428518038206, 'loss_weight_bc': 8.017713158560156}. Best is trial 11 with value: 0.005621923133730888.\n",
            "[I 2025-08-13 12:51:31,018] Trial 16 finished with value: 0.05073457956314087 and parameters: {'lr': 0.000435313933678486, 'n_layers': 3, 'n_neurons': 83, 'activation': 'ReLU', 'loss_weight_physics': 1.817891129640473, 'loss_weight_bc': 8.402370452886148}. Best is trial 11 with value: 0.005621923133730888.\n",
            "[I 2025-08-13 12:51:32,337] Trial 17 finished with value: 0.10634878277778625 and parameters: {'lr': 0.00024001738723859284, 'n_layers': 5, 'n_neurons': 50, 'activation': 'Tanh', 'loss_weight_physics': 4.247845678030645, 'loss_weight_bc': 6.424269799627309}. Best is trial 11 with value: 0.005621923133730888.\n",
            "[I 2025-08-13 12:51:33,624] Trial 18 finished with value: 0.008313750848174095 and parameters: {'lr': 0.0012865928142791554, 'n_layers': 4, 'n_neurons': 83, 'activation': 'Tanh', 'loss_weight_physics': 1.1831483724329472, 'loss_weight_bc': 8.793129708764013}. Best is trial 11 with value: 0.005621923133730888.\n",
            "[I 2025-08-13 12:51:35,198] Trial 19 finished with value: 0.004070496652275324 and parameters: {'lr': 0.0014082403856609427, 'n_layers': 3, 'n_neurons': 88, 'activation': 'ReLU', 'loss_weight_physics': 0.21058783882791424, 'loss_weight_bc': 7.501518561105514}. Best is trial 19 with value: 0.004070496652275324.\n",
            "[I 2025-08-13 12:51:36,317] Trial 20 finished with value: 0.020929863676428795 and parameters: {'lr': 0.003948910795512783, 'n_layers': 3, 'n_neurons': 100, 'activation': 'ReLU', 'loss_weight_physics': 0.3930571187205483, 'loss_weight_bc': 7.292501791832522}. Best is trial 19 with value: 0.004070496652275324.\n",
            "[I 2025-08-13 12:51:37,600] Trial 21 finished with value: 0.030507182702422142 and parameters: {'lr': 0.0013291798909837295, 'n_layers': 4, 'n_neurons': 88, 'activation': 'ReLU', 'loss_weight_physics': 1.1732810790588935, 'loss_weight_bc': 8.703192171343474}. Best is trial 19 with value: 0.004070496652275324.\n",
            "[I 2025-08-13 12:51:38,711] Trial 22 finished with value: 0.005856885574758053 and parameters: {'lr': 0.0028836183149983543, 'n_layers': 3, 'n_neurons': 100, 'activation': 'ReLU', 'loss_weight_physics': 0.12048183997330764, 'loss_weight_bc': 5.9185557601322945}. Best is trial 19 with value: 0.004070496652275324.\n",
            "[I 2025-08-13 12:51:39,836] Trial 23 finished with value: 0.0022159572690725327 and parameters: {'lr': 0.003129587456296003, 'n_layers': 3, 'n_neurons': 100, 'activation': 'ReLU', 'loss_weight_physics': 0.18357347234486457, 'loss_weight_bc': 5.8674797552643305}. Best is trial 23 with value: 0.0022159572690725327.\n",
            "[I 2025-08-13 12:51:40,969] Trial 24 finished with value: 0.06332504004240036 and parameters: {'lr': 0.005655171058176309, 'n_layers': 3, 'n_neurons': 93, 'activation': 'ReLU', 'loss_weight_physics': 2.418139185329887, 'loss_weight_bc': 5.582802547430692}. Best is trial 23 with value: 0.0022159572690725327.\n",
            "[I 2025-08-13 12:51:41,776] Trial 25 finished with value: 0.5797022581100464 and parameters: {'lr': 0.0017414985176591158, 'n_layers': 2, 'n_neurons': 31, 'activation': 'ReLU', 'loss_weight_physics': 1.0091214782680702, 'loss_weight_bc': 3.628970838859773}. Best is trial 23 with value: 0.0022159572690725327.\n",
            "[I 2025-08-13 12:51:42,758] Trial 26 finished with value: 0.025437867268919945 and parameters: {'lr': 0.00338904672098227, 'n_layers': 3, 'n_neurons': 49, 'activation': 'ReLU', 'loss_weight_physics': 3.519573353247921, 'loss_weight_bc': 7.390733975967695}. Best is trial 23 with value: 0.0022159572690725327.\n",
            "[I 2025-08-13 12:51:43,692] Trial 27 finished with value: 0.3671718239784241 and parameters: {'lr': 0.005438755676174315, 'n_layers': 3, 'n_neurons': 20, 'activation': 'ReLU', 'loss_weight_physics': 1.8733544108726425, 'loss_weight_bc': 6.071154006027993}. Best is trial 23 with value: 0.0022159572690725327.\n",
            "[I 2025-08-13 12:51:44,552] Trial 28 finished with value: 0.029960470274090767 and parameters: {'lr': 0.00196230195799101, 'n_layers': 2, 'n_neurons': 90, 'activation': 'ReLU', 'loss_weight_physics': 0.6994519130792302, 'loss_weight_bc': 7.660558797355164}. Best is trial 23 with value: 0.0022159572690725327.\n",
            "[I 2025-08-13 12:51:45,826] Trial 29 finished with value: 0.035304732620716095 and parameters: {'lr': 0.007968692370938798, 'n_layers': 3, 'n_neurons': 70, 'activation': 'ReLU', 'loss_weight_physics': 1.4614011908493834, 'loss_weight_bc': 4.352412506806427}. Best is trial 23 with value: 0.0022159572690725327.\n",
            "[I 2025-08-13 12:51:47,516] Trial 30 finished with value: 0.10542312264442444 and parameters: {'lr': 0.0006981330202300416, 'n_layers': 5, 'n_neurons': 76, 'activation': 'ReLU', 'loss_weight_physics': 8.478096742091234, 'loss_weight_bc': 5.051330714296399}. Best is trial 23 with value: 0.0022159572690725327.\n",
            "[I 2025-08-13 12:51:48,619] Trial 31 finished with value: 0.0038196872919797897 and parameters: {'lr': 0.002894548900235608, 'n_layers': 3, 'n_neurons': 99, 'activation': 'ReLU', 'loss_weight_physics': 0.3011137571204363, 'loss_weight_bc': 5.821873753063585}. Best is trial 23 with value: 0.0022159572690725327.\n",
            "[I 2025-08-13 12:51:49,741] Trial 32 finished with value: 0.010545184835791588 and parameters: {'lr': 0.002427013612585165, 'n_layers': 3, 'n_neurons': 100, 'activation': 'ReLU', 'loss_weight_physics': 1.230657480306924, 'loss_weight_bc': 6.50927464864947}. Best is trial 23 with value: 0.0022159572690725327.\n",
            "[I 2025-08-13 12:51:50,893] Trial 33 finished with value: 0.03842540085315704 and parameters: {'lr': 0.009811357927440957, 'n_layers': 3, 'n_neurons': 86, 'activation': 'ReLU', 'loss_weight_physics': 0.11460490073387854, 'loss_weight_bc': 5.554493174593459}. Best is trial 23 with value: 0.0022159572690725327.\n",
            "[I 2025-08-13 12:51:52,307] Trial 34 finished with value: 0.027271512895822525 and parameters: {'lr': 0.001470762172147898, 'n_layers': 4, 'n_neurons': 95, 'activation': 'ReLU', 'loss_weight_physics': 2.208732076129523, 'loss_weight_bc': 6.847662265235717}. Best is trial 23 with value: 0.0022159572690725327.\n",
            "[I 2025-08-13 12:51:53,355] Trial 35 finished with value: 0.028584260493516922 and parameters: {'lr': 0.0010028830784607908, 'n_layers': 3, 'n_neurons': 60, 'activation': 'ReLU', 'loss_weight_physics': 0.7777240594903214, 'loss_weight_bc': 3.9257222331037687}. Best is trial 23 with value: 0.0022159572690725327.\n",
            "[I 2025-08-13 12:51:54,684] Trial 36 finished with value: 0.05449478328227997 and parameters: {'lr': 0.004622785291200461, 'n_layers': 4, 'n_neurons': 96, 'activation': 'ReLU', 'loss_weight_physics': 2.8430327817611323, 'loss_weight_bc': 9.30063394344331}. Best is trial 23 with value: 0.0022159572690725327.\n",
            "[I 2025-08-13 12:51:55,573] Trial 37 finished with value: 0.05250544846057892 and parameters: {'lr': 0.003222630108162528, 'n_layers': 2, 'n_neurons': 79, 'activation': 'ReLU', 'loss_weight_physics': 1.8337982586194905, 'loss_weight_bc': 2.040609878516476}. Best is trial 23 with value: 0.0022159572690725327.\n",
            "[I 2025-08-13 12:51:56,776] Trial 38 finished with value: 0.01941424049437046 and parameters: {'lr': 0.0064912566581470845, 'n_layers': 3, 'n_neurons': 96, 'activation': 'ReLU', 'loss_weight_physics': 0.8239522617810552, 'loss_weight_bc': 7.806789422136888}. Best is trial 23 with value: 0.0022159572690725327.\n",
            "[I 2025-08-13 12:51:58,514] Trial 39 finished with value: 0.058893296867609024 and parameters: {'lr': 0.0009930781503947829, 'n_layers': 4, 'n_neurons': 88, 'activation': 'ReLU', 'loss_weight_physics': 4.6963636430333136, 'loss_weight_bc': 7.117833806035254}. Best is trial 23 with value: 0.0022159572690725327.\n",
            "[I 2025-08-13 12:51:59,371] Trial 40 finished with value: 0.10912135988473892 and parameters: {'lr': 0.0023700206912136957, 'n_layers': 2, 'n_neurons': 64, 'activation': 'ReLU', 'loss_weight_physics': 1.5362715774107043, 'loss_weight_bc': 4.69990880470393}. Best is trial 23 with value: 0.0022159572690725327.\n",
            "[I 2025-08-13 12:52:00,517] Trial 41 finished with value: 0.01069110818207264 and parameters: {'lr': 0.0028159036227378984, 'n_layers': 3, 'n_neurons': 100, 'activation': 'ReLU', 'loss_weight_physics': 0.11521387686185766, 'loss_weight_bc': 5.793626624769348}. Best is trial 23 with value: 0.0022159572690725327.\n",
            "[I 2025-08-13 12:52:01,636] Trial 42 finished with value: 0.020979328081011772 and parameters: {'lr': 0.0031539597105386657, 'n_layers': 3, 'n_neurons': 92, 'activation': 'ReLU', 'loss_weight_physics': 0.6363403564855928, 'loss_weight_bc': 6.130717792585192}. Best is trial 23 with value: 0.0022159572690725327.\n",
            "[I 2025-08-13 12:52:02,776] Trial 43 finished with value: 0.0019004631321877241 and parameters: {'lr': 0.0015562677266892679, 'n_layers': 3, 'n_neurons': 98, 'activation': 'ReLU', 'loss_weight_physics': 0.15583348797376217, 'loss_weight_bc': 5.229984958140529}. Best is trial 43 with value: 0.0019004631321877241.\n",
            "[I 2025-08-13 12:52:03,861] Trial 44 finished with value: 0.12176833301782608 and parameters: {'lr': 0.0016172056584480084, 'n_layers': 3, 'n_neurons': 96, 'activation': 'ReLU', 'loss_weight_physics': 6.619172774976685, 'loss_weight_bc': 5.276949172584982}. Best is trial 43 with value: 0.0019004631321877241.\n",
            "[I 2025-08-13 12:52:04,941] Trial 45 finished with value: 0.01298025157302618 and parameters: {'lr': 0.0010737253481860366, 'n_layers': 3, 'n_neurons': 80, 'activation': 'Tanh', 'loss_weight_physics': 0.8614436923077107, 'loss_weight_bc': 4.917953653424341}. Best is trial 43 with value: 0.0019004631321877241.\n",
            "[I 2025-08-13 12:52:06,247] Trial 46 finished with value: 0.002977817552164197 and parameters: {'lr': 0.002003187280909738, 'n_layers': 4, 'n_neurons': 92, 'activation': 'ReLU', 'loss_weight_physics': 0.5738594405017405, 'loss_weight_bc': 4.485509133102733}. Best is trial 43 with value: 0.0019004631321877241.\n",
            "[I 2025-08-13 12:52:07,149] Trial 47 finished with value: 0.07526587694883347 and parameters: {'lr': 0.0038413044258181757, 'n_layers': 2, 'n_neurons': 91, 'activation': 'ReLU', 'loss_weight_physics': 2.9159776590639748, 'loss_weight_bc': 4.045278208012743}. Best is trial 43 with value: 0.0019004631321877241.\n",
            "[I 2025-08-13 12:52:08,383] Trial 48 finished with value: 0.03225434944033623 and parameters: {'lr': 0.000811227773363126, 'n_layers': 3, 'n_neurons': 86, 'activation': 'Tanh', 'loss_weight_physics': 1.368682065604151, 'loss_weight_bc': 3.1739325247417587}. Best is trial 43 with value: 0.0019004631321877241.\n",
            "[I 2025-08-13 12:52:10,105] Trial 49 finished with value: 0.01506112702190876 and parameters: {'lr': 0.0022398632232921334, 'n_layers': 4, 'n_neurons': 95, 'activation': 'ReLU', 'loss_weight_physics': 0.5382179922768502, 'loss_weight_bc': 1.590939959708051}. Best is trial 43 with value: 0.0019004631321877241.\n",
            "\n",
            "Best hyperparameters found by Optuna:\n",
            "{'lr': 0.0015562677266892679, 'n_layers': 3, 'n_neurons': 98, 'activation': 'ReLU', 'loss_weight_physics': 0.15583348797376217, 'loss_weight_bc': 5.229984958140529}\n",
            "------------------------------\n",
            "Training PINN ensemble with Attention architecture and Optimized hyperparameters...\n"
          ]
        },
        {
          "output_type": "display_data",
          "data": {
            "text/plain": [
              "<Figure size 1000x600 with 1 Axes>"
            ],
            "image/png": "[encoded data removed]"
          },
          "metadata": {}
        },
        {
          "output_type": "stream",
          "name": "stdout",
          "text": [
            "------------------------------\n",
            "Experiment Summary:\n",
            "  Hyperparameter Tuning Performed: True\n",
            "  Attention Mechanism Used: True\n",
            "  Number of Ensemble Models: 5\n",
            "  Epochs per Model: 3000\n",
            "  Final Model Hyperparameters: {'lr': 0.0015562677266892679, 'n_layers': 3, 'n_neurons': 98, 'activation': 'ReLU', 'loss_weight_physics': 0.15583348797376217, 'loss_weight_bc': 5.229984958140529}\n",
            "Analytic Fit Parameters: [ 9.99999892 -0.14844936  1.42501948  0.24777345  1.22621455 -8.98460299]\n",
            "Analytic Fit Equation: y ≈ 10.0000 * exp(-0.1484 * x) + 1.4250 * sin(0.2478 * x) + 1.2262 * x^2 + -8.9846\n",
            "------------------------------\n"
          ]
        }
      ]
    },
    {
      "cell_type": "markdown",
      "metadata": {
        "id": "55908f9b"
      },
      "source": [
        "**Reasoning**:\n",
        "Add markdown cells to explain the purpose and potential benefits of hyperparameter tuning and using the attention mechanism within the documentation.\n",
        "\n"
      ]
    },
    {
      "cell_type": "code",
      "metadata": {
        "colab": {
          "base_uri": "https://localhost:8080/",
          "height": 251
        },
        "id": "pmZ9p2GyYP8r",
        "outputId": "9ebc4256-48a9-4cfc-f3ff-89ff6109e048"
      },
      "source": [
        "%%markdown\n",
        "### Hyperparameter Tuning and Attention Mechanism Benefits\n",
        "\n",
        "**Hyperparameter Tuning (with Optuna):**\n",
        "Neural networks, including PINNs, have many hyperparameters (e.g., learning rate, number of layers, neurons per layer, loss weights) that significantly impact performance. Manually finding the best combination is time-consuming and often suboptimal. Optuna automates this process by intelligently searching the hyperparameter space to minimize a defined objective (e.g., the training loss), leading to potentially better and more robust solutions.\n",
        "\n",
        "**Attention Mechanism:**\n",
        "In the context of PINNs, attention mechanisms can help the network focus on the most relevant information when making predictions or calculating physics residuals. For example, attention could allow the network to:\n",
        "- Better capture dependencies across the spatial or temporal domain.\n",
        "- Give more weight to data points or boundary conditions that are more critical for satisfying the physics.\n",
        "- Potentially improve performance on complex or high-dimensional problems by selectively processing information.\n",
        "Our simplified feature-wise attention aims to allow the network to learn the importance of different features within each layer.\n"
      ],
      "execution_count": 47,
      "outputs": [
        {
          "output_type": "display_data",
          "data": {
            "text/plain": [
              "<IPython.core.display.Markdown object>"
            ],
            "text/markdown": "### Hyperparameter Tuning and Attention Mechanism Benefits\n\n**Hyperparameter Tuning (with Optuna):**\nNeural networks, including PINNs, have many hyperparameters (e.g., learning rate, number of layers, neurons per layer, loss weights) that significantly impact performance. Manually finding the best combination is time-consuming and often suboptimal. Optuna automates this process by intelligently searching the hyperparameter space to minimize a defined objective (e.g., the training loss), leading to potentially better and more robust solutions.\n\n**Attention Mechanism:**\nIn the context of PINNs, attention mechanisms can help the network focus on the most relevant information when making predictions or calculating physics residuals. For example, attention could allow the network to:\n- Better capture dependencies across the spatial or temporal domain.\n- Give more weight to data points or boundary conditions that are more critical for satisfying the physics.\n- Potentially improve performance on complex or high-dimensional problems by selectively processing information.\nOur simplified feature-wise attention aims to allow the network to learn the importance of different features within each layer.\n"
          },
          "metadata": {}
        }
      ]
    },
    {
      "cell_type": "markdown",
      "metadata": {
        "id": "854a1b3a"
      },
      "source": [
        "## Summary:\n",
        "\n",
        "### Data Analysis Key Findings\n",
        "\n",
        "*   Optuna successfully identified optimal hyperparameters for the PINN model after running 50 trials, including a learning rate of 0.0046, 3 layers, 33 neurons per layer, Tanh activation, and loss weights of 0.46 for physics and 3.90 for boundary conditions, resulting in a minimum loss of 0.000734.\n",
        "*   Research into integrating attention/transformers into PINNs revealed motivations like handling complex dependencies and improving scalability, various methods including attention within layers or loss functions, potential benefits like improved accuracy, and challenges such as increased complexity and computational cost.\n",
        "*   A `SimpleFeatureGate` module was successfully implemented and integrated into the PINN architecture as a simplified attention mechanism, allowing the network to learn feature importance within layers.\n",
        "*   The `ensemble_predict_optimized` function was modified to incorporate the `use_attention` flag, enabling training of PINN ensembles with either the standard or attention-enhanced architecture using the optimized hyperparameters.\n",
        "*   A cohesive `main` function was developed, providing user-selectable options (`perform_tuning`, `use_attention`) to control hyperparameter tuning and model architecture, integrating all components into a flexible framework.\n",
        "*   The documentation was updated to explain the new hyperparameter tuning and attention features, their benefits, and how to configure them using the `main` function.\n",
        "\n",
        "### Insights or Next Steps\n",
        "\n",
        "*   Compare the performance of the PINN with and without the implemented attention mechanism quantitatively using metrics beyond just the final loss, such as the L2 norm of the error compared to a known solution or a more sophisticated uncertainty measure.\n",
        "*   Explore more advanced attention mechanisms or transformer architectures that are better suited for sequential data (like spatial or temporal points in PINNs) to potentially capture more complex long-range dependencies, especially for systems of PDEs or larger domains.\n"
      ]
    }
  ]
}